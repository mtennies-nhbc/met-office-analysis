{
 "cells": [
  {
   "attachments": {},
   "cell_type": "markdown",
   "metadata": {},
   "source": [
    "## Climate & Climate Change Analysis"
   ]
  },
  {
   "attachments": {},
   "cell_type": "markdown",
   "metadata": {},
   "source": [
    "### Imports"
   ]
  },
  {
   "cell_type": "code",
   "execution_count": 1,
   "metadata": {},
   "outputs": [],
   "source": [
    "# use base python 3.9.13\n",
    "import json\n",
    "import os\n",
    "import pandas as pd\n",
    "import numpy as np\n",
    "import seaborn as sns\n",
    "import matplotlib.pyplot as plt\n",
    "%matplotlib inline\n",
    "import plotly.express as px\n",
    "from IPython.display import Markdown, display\n",
    "import warnings\n",
    "warnings.filterwarnings('ignore')"
   ]
  },
  {
   "attachments": {},
   "cell_type": "markdown",
   "metadata": {},
   "source": [
    "### Helper Functions"
   ]
  },
  {
   "cell_type": "code",
   "execution_count": null,
   "metadata": {},
   "outputs": [],
   "source": []
  },
  {
   "attachments": {},
   "cell_type": "markdown",
   "metadata": {},
   "source": [
    "### Data Loading"
   ]
  },
  {
   "cell_type": "code",
   "execution_count": 2,
   "metadata": {},
   "outputs": [
    {
     "data": {
      "text/html": [
       "<div>\n",
       "<style scoped>\n",
       "    .dataframe tbody tr th:only-of-type {\n",
       "        vertical-align: middle;\n",
       "    }\n",
       "\n",
       "    .dataframe tbody tr th {\n",
       "        vertical-align: top;\n",
       "    }\n",
       "\n",
       "    .dataframe thead th {\n",
       "        text-align: right;\n",
       "    }\n",
       "</style>\n",
       "<table border=\"1\" class=\"dataframe\">\n",
       "  <thead>\n",
       "    <tr style=\"text-align: right;\">\n",
       "      <th></th>\n",
       "      <th>year</th>\n",
       "      <th>month</th>\n",
       "      <th>tmax</th>\n",
       "      <th>tmin</th>\n",
       "      <th>af</th>\n",
       "      <th>rain</th>\n",
       "      <th>sun</th>\n",
       "      <th>station</th>\n",
       "    </tr>\n",
       "  </thead>\n",
       "  <tbody>\n",
       "    <tr>\n",
       "      <th>37044</th>\n",
       "      <td>2020.0</td>\n",
       "      <td>2.0</td>\n",
       "      <td>10.8</td>\n",
       "      <td>4.5</td>\n",
       "      <td>2.0</td>\n",
       "      <td>117.4</td>\n",
       "      <td>63.1</td>\n",
       "      <td>yeovilton</td>\n",
       "    </tr>\n",
       "    <tr>\n",
       "      <th>37045</th>\n",
       "      <td>2020.0</td>\n",
       "      <td>3.0</td>\n",
       "      <td>11.5</td>\n",
       "      <td>3.0</td>\n",
       "      <td>6.0</td>\n",
       "      <td>43.4</td>\n",
       "      <td>159.2</td>\n",
       "      <td>yeovilton</td>\n",
       "    </tr>\n",
       "    <tr>\n",
       "      <th>37046</th>\n",
       "      <td>2020.0</td>\n",
       "      <td>4.0</td>\n",
       "      <td>17.5</td>\n",
       "      <td>5.3</td>\n",
       "      <td>3.0</td>\n",
       "      <td>39.8</td>\n",
       "      <td>235.0</td>\n",
       "      <td>yeovilton</td>\n",
       "    </tr>\n",
       "    <tr>\n",
       "      <th>37047</th>\n",
       "      <td>2020.0</td>\n",
       "      <td>5.0</td>\n",
       "      <td>19.7</td>\n",
       "      <td>6.8</td>\n",
       "      <td>2.0</td>\n",
       "      <td>3.6</td>\n",
       "      <td>305.6</td>\n",
       "      <td>yeovilton</td>\n",
       "    </tr>\n",
       "    <tr>\n",
       "      <th>37048</th>\n",
       "      <td>2020.0</td>\n",
       "      <td>6.0</td>\n",
       "      <td>20.5</td>\n",
       "      <td>11.0</td>\n",
       "      <td>0.0</td>\n",
       "      <td>103.0</td>\n",
       "      <td>187.6</td>\n",
       "      <td>yeovilton</td>\n",
       "    </tr>\n",
       "  </tbody>\n",
       "</table>\n",
       "</div>"
      ],
      "text/plain": [
       "         year  month  tmax  tmin   af   rain    sun    station\n",
       "37044  2020.0    2.0  10.8   4.5  2.0  117.4   63.1  yeovilton\n",
       "37045  2020.0    3.0  11.5   3.0  6.0   43.4  159.2  yeovilton\n",
       "37046  2020.0    4.0  17.5   5.3  3.0   39.8  235.0  yeovilton\n",
       "37047  2020.0    5.0  19.7   6.8  2.0    3.6  305.6  yeovilton\n",
       "37048  2020.0    6.0  20.5  11.0  0.0  103.0  187.6  yeovilton"
      ]
     },
     "execution_count": 2,
     "metadata": {},
     "output_type": "execute_result"
    }
   ],
   "source": [
    "raw_data = 'N:\\General\\Business Support\\Meg\\Data\\Met Office\\MET Office Weather Data.csv'\n",
    "weather = pd.read_csv(raw_data)\n",
    "weather.tail()"
   ]
  },
  {
   "cell_type": "code",
   "execution_count": 3,
   "metadata": {},
   "outputs": [],
   "source": [
    "stations = ['aberporth', 'armagh', 'ballypatrick', 'bradford', 'braemar', 'camborne',\n",
    " 'cambridge', 'cardiff', 'chivenor', 'cwmystwyth', 'dunstaffnage', 'durham',\n",
    " 'eastbourne', 'eskdalemuir', 'heathrow', 'hurn', 'lerwick', 'leuchars',\n",
    " 'lowestoft', 'manston', 'nairn', 'newtonrigg', 'oxford', 'paisley', 'ringway',\n",
    " 'rossonwye', 'shawbury', 'sheffield', 'southampton', 'stornoway', 'tiree',\n",
    " 'valley', 'waddington', 'whitby', 'wickairport', 'yeovilton']"
   ]
  },
  {
   "cell_type": "code",
   "execution_count": 4,
   "metadata": {},
   "outputs": [],
   "source": [
    "# sorting data by weather station\n",
    "aberporth = weather[weather.station == 'aberporth']\n",
    "armagh = weather[weather.station == 'armagh']\n",
    "ballypatrick = weather[weather.station == 'ballypatrick']\n",
    "bradford = weather[weather.station == 'bradford']\n",
    "braemar = weather[weather.station == 'braemar']\n",
    "camborne = weather[weather.station == 'camborne']\n",
    "cambridge = weather[weather.station == 'cambridge']\n",
    "cardiff = weather[weather.station == 'cardiff']\n",
    "chivenor = weather[weather.station == 'chivenor']\n",
    "cwmystwyth = weather[weather.station == 'cwmystwyth']\n",
    "dunstaffnage = weather[weather.station == 'dunstaffnage']\n",
    "durham = weather[weather.station == 'durham']\n",
    "eastborne = weather[weather.station == 'eastborne']\n",
    "eskdalemuir = weather[weather.station == 'eskdalemuir']\n",
    "heathrow = weather[weather.station == 'heathrow']\n",
    "hurn = weather[weather.station == 'hurn']\n",
    "lerwick = weather[weather.station == 'lerwick']\n",
    "leuchars = weather[weather.station == 'leuchars']\n",
    "lowestoft = weather[weather.station == 'lowestoft']\n",
    "manston = weather[weather.station == 'manston']\n",
    "nairn = weather[weather.station == 'nairn']\n",
    "newtonrigg = weather[weather.station == 'newtonrigg']\n",
    "oxford = weather[weather.station == 'oxford']\n",
    "paisley = weather[weather.station == 'paisley']\n",
    "ringway = weather[weather.station == 'ringway']\n",
    "rossonwye = weather[weather.station == 'rossonwye']\n",
    "shawbury = weather[weather.station == 'shawbury']\n",
    "sheffield = weather[weather.station == 'sheffield']\n",
    "southampton = weather[weather.station == 'southampton']\n",
    "stornoway = weather[weather.station == 'stornoway']\n",
    "tiree = weather[weather.station == 'tiree']\n",
    "valley = weather[weather.station == 'valley']\n",
    "waddington = weather[weather.station == 'waddington']\n",
    "whitby = weather[weather.station == 'whitby']\n",
    "wickairport = weather[weather.station == 'wickairport']\n",
    "yeovilton = weather[weather.station == 'yeovilton']"
   ]
  },
  {
   "attachments": {},
   "cell_type": "markdown",
   "metadata": {},
   "source": [
    "### Plotting Historic Climate Data"
   ]
  },
  {
   "cell_type": "code",
   "execution_count": 6,
   "metadata": {},
   "outputs": [],
   "source": [
    "# weather readings for year 2019\n",
    "temps_2019 = weather.loc[weather['year'] == 2019.0]"
   ]
  },
  {
   "cell_type": "code",
   "execution_count": 7,
   "metadata": {},
   "outputs": [
    {
     "data": {
      "application/vnd.plotly.v1+json": {
       "config": {
        "plotlyServerURL": "https://plot.ly"
       },
       "data": [
        {
         "hovertemplate": "Weather Station=aberporth<br>Month=%{x}<br>Maximum Temperature (°C)=%{y}<extra></extra>",
         "legendgroup": "aberporth",
         "line": {
          "color": "rgb(95, 70, 144)",
          "dash": "solid"
         },
         "marker": {
          "symbol": "circle"
         },
         "mode": "lines",
         "name": "aberporth",
         "orientation": "v",
         "showlegend": true,
         "type": "scatter",
         "x": [
          1,
          2,
          3,
          4,
          5,
          6,
          7,
          8,
          9,
          10,
          11,
          12
         ],
         "xaxis": "x",
         "y": [
          7.3,
          11,
          10.1,
          13.3,
          14.2,
          16.3,
          19.2,
          19.4,
          17.2,
          13.1,
          9.3,
          9.1
         ],
         "yaxis": "y"
        },
        {
         "hovertemplate": "Weather Station=armagh<br>Month=%{x}<br>Maximum Temperature (°C)=%{y}<extra></extra>",
         "legendgroup": "armagh",
         "line": {
          "color": "rgb(29, 105, 150)",
          "dash": "solid"
         },
         "marker": {
          "symbol": "circle"
         },
         "mode": "lines",
         "name": "armagh",
         "orientation": "v",
         "showlegend": true,
         "type": "scatter",
         "x": [
          1,
          2,
          3,
          4,
          5,
          6,
          7,
          8,
          9,
          10,
          11,
          12
         ],
         "xaxis": "x",
         "y": [
          null,
          11,
          10.9,
          13.5,
          15.5,
          18,
          20.9,
          20.1,
          17.9,
          13,
          9.1,
          8.4
         ],
         "yaxis": "y"
        },
        {
         "hovertemplate": "Weather Station=ballypatrick<br>Month=%{x}<br>Maximum Temperature (°C)=%{y}<extra></extra>",
         "legendgroup": "ballypatrick",
         "line": {
          "color": "rgb(56, 166, 165)",
          "dash": "solid"
         },
         "marker": {
          "symbol": "circle"
         },
         "mode": "lines",
         "name": "ballypatrick",
         "orientation": "v",
         "showlegend": true,
         "type": "scatter",
         "x": [
          1,
          2,
          3,
          4,
          5,
          6,
          7,
          8,
          9,
          10,
          11,
          12
         ],
         "xaxis": "x",
         "y": [
          6.6,
          10.1,
          9.4,
          11.3,
          12.5,
          15.8,
          17.4,
          17.7,
          15.3,
          11.2,
          8,
          7.9
         ],
         "yaxis": "y"
        },
        {
         "hovertemplate": "Weather Station=bradford<br>Month=%{x}<br>Maximum Temperature (°C)=%{y}<extra></extra>",
         "legendgroup": "bradford",
         "line": {
          "color": "rgb(15, 133, 84)",
          "dash": "solid"
         },
         "marker": {
          "symbol": "circle"
         },
         "mode": "lines",
         "name": "bradford",
         "orientation": "v",
         "showlegend": true,
         "type": "scatter",
         "x": [
          1,
          2,
          3,
          4,
          5,
          6,
          7,
          8,
          9,
          10,
          11,
          12
         ],
         "xaxis": "x",
         "y": [
          6.1,
          11.1,
          10.6,
          13.5,
          15.2,
          17.6,
          21.7,
          20.4,
          17.1,
          12,
          7.6,
          8
         ],
         "yaxis": "y"
        },
        {
         "hovertemplate": "Weather Station=braemar<br>Month=%{x}<br>Maximum Temperature (°C)=%{y}<extra></extra>",
         "legendgroup": "braemar",
         "line": {
          "color": "rgb(115, 175, 72)",
          "dash": "solid"
         },
         "marker": {
          "symbol": "circle"
         },
         "mode": "lines",
         "name": "braemar",
         "orientation": "v",
         "showlegend": true,
         "type": "scatter",
         "x": [
          1,
          2,
          3,
          4,
          5,
          6,
          7,
          8,
          9,
          10,
          11,
          12
         ],
         "xaxis": "x",
         "y": [
          4.4,
          8.6,
          7.6,
          11.4,
          12.5,
          15.4,
          19.6,
          17.8,
          15.3,
          9.8,
          5.3,
          6.3
         ],
         "yaxis": "y"
        },
        {
         "hovertemplate": "Weather Station=camborne<br>Month=%{x}<br>Maximum Temperature (°C)=%{y}<extra></extra>",
         "legendgroup": "camborne",
         "line": {
          "color": "rgb(237, 173, 8)",
          "dash": "solid"
         },
         "marker": {
          "symbol": "circle"
         },
         "mode": "lines",
         "name": "camborne",
         "orientation": "v",
         "showlegend": true,
         "type": "scatter",
         "x": [
          1,
          2,
          3,
          4,
          5,
          6,
          7,
          8,
          9,
          10,
          11,
          12
         ],
         "xaxis": "x",
         "y": [
          8.8,
          11.3,
          11.2,
          13.2,
          14.4,
          16.5,
          20.1,
          19.3,
          17.4,
          14.4,
          10.8,
          10.6
         ],
         "yaxis": "y"
        },
        {
         "hovertemplate": "Weather Station=cambridge<br>Month=%{x}<br>Maximum Temperature (°C)=%{y}<extra></extra>",
         "legendgroup": "cambridge",
         "line": {
          "color": "rgb(225, 124, 5)",
          "dash": "solid"
         },
         "marker": {
          "symbol": "circle"
         },
         "mode": "lines",
         "name": "cambridge",
         "orientation": "v",
         "showlegend": true,
         "type": "scatter",
         "x": [
          1,
          2,
          3,
          4,
          5,
          6,
          7,
          8,
          9,
          10,
          11,
          12
         ],
         "xaxis": "x",
         "y": [
          6.7,
          11.6,
          12.2,
          15,
          17.1,
          20.1,
          24.1,
          24.2,
          20.2,
          14.3,
          9.3,
          9
         ],
         "yaxis": "y"
        },
        {
         "hovertemplate": "Weather Station=cardiff<br>Month=%{x}<br>Maximum Temperature (°C)=%{y}<extra></extra>",
         "legendgroup": "cardiff",
         "line": {
          "color": "rgb(204, 80, 62)",
          "dash": "solid"
         },
         "marker": {
          "symbol": "circle"
         },
         "mode": "lines",
         "name": "cardiff",
         "orientation": "v",
         "showlegend": true,
         "type": "scatter",
         "x": [
          1,
          2,
          3,
          4,
          5,
          6,
          7,
          8,
          9,
          10,
          11,
          12
         ],
         "xaxis": "x",
         "y": [
          8.1,
          12.2,
          12.7,
          15,
          17.6,
          19.2,
          23.7,
          21.9,
          19.5,
          14.9,
          10.3,
          null
         ],
         "yaxis": "y"
        },
        {
         "hovertemplate": "Weather Station=chivenor<br>Month=%{x}<br>Maximum Temperature (°C)=%{y}<extra></extra>",
         "legendgroup": "chivenor",
         "line": {
          "color": "rgb(148, 52, 110)",
          "dash": "solid"
         },
         "marker": {
          "symbol": "circle"
         },
         "mode": "lines",
         "name": "chivenor",
         "orientation": "v",
         "showlegend": true,
         "type": "scatter",
         "x": [
          1,
          2,
          3,
          4,
          5,
          6,
          7,
          8,
          9,
          10,
          11,
          12
         ],
         "xaxis": "x",
         "y": [
          8.6,
          12.4,
          11.8,
          14.8,
          16.3,
          18.6,
          22.3,
          21,
          18.9,
          15,
          10.9,
          10.3
         ],
         "yaxis": "y"
        },
        {
         "hovertemplate": "Weather Station=dunstaffnage<br>Month=%{x}<br>Maximum Temperature (°C)=%{y}<extra></extra>",
         "legendgroup": "dunstaffnage",
         "line": {
          "color": "rgb(111, 64, 112)",
          "dash": "solid"
         },
         "marker": {
          "symbol": "circle"
         },
         "mode": "lines",
         "name": "dunstaffnage",
         "orientation": "v",
         "showlegend": true,
         "type": "scatter",
         "x": [
          1,
          2,
          3,
          4,
          5,
          6,
          7,
          8,
          9,
          10,
          11,
          12
         ],
         "xaxis": "x",
         "y": [
          7.3,
          10.3,
          9.3,
          13.8,
          14.5,
          17.4,
          19.5,
          19.5,
          17.1,
          12.5,
          9.1,
          8.9
         ],
         "yaxis": "y"
        },
        {
         "hovertemplate": "Weather Station=durham<br>Month=%{x}<br>Maximum Temperature (°C)=%{y}<extra></extra>",
         "legendgroup": "durham",
         "line": {
          "color": "rgb(102, 102, 102)",
          "dash": "solid"
         },
         "marker": {
          "symbol": "circle"
         },
         "mode": "lines",
         "name": "durham",
         "orientation": "v",
         "showlegend": true,
         "type": "scatter",
         "x": [
          1,
          2,
          3,
          4,
          5,
          6,
          7,
          8,
          9,
          10,
          11,
          12
         ],
         "xaxis": "x",
         "y": [
          7.2,
          10.6,
          11.1,
          12.9,
          15.3,
          17.5,
          21.6,
          20.4,
          17.6,
          12,
          8.1,
          8
         ],
         "yaxis": "y"
        },
        {
         "hovertemplate": "Weather Station=eastbourne<br>Month=%{x}<br>Maximum Temperature (°C)=%{y}<extra></extra>",
         "legendgroup": "eastbourne",
         "line": {
          "color": "rgb(95, 70, 144)",
          "dash": "solid"
         },
         "marker": {
          "symbol": "circle"
         },
         "mode": "lines",
         "name": "eastbourne",
         "orientation": "v",
         "showlegend": true,
         "type": "scatter",
         "x": [
          1,
          2,
          3,
          4,
          5,
          6,
          7,
          8,
          9,
          10,
          11,
          12
         ],
         "xaxis": "x",
         "y": [
          null,
          null,
          null,
          null,
          null,
          null,
          null,
          null,
          null,
          null,
          null,
          null
         ],
         "yaxis": "y"
        },
        {
         "hovertemplate": "Weather Station=eskdalemuir<br>Month=%{x}<br>Maximum Temperature (°C)=%{y}<extra></extra>",
         "legendgroup": "eskdalemuir",
         "line": {
          "color": "rgb(29, 105, 150)",
          "dash": "solid"
         },
         "marker": {
          "symbol": "circle"
         },
         "mode": "lines",
         "name": "eskdalemuir",
         "orientation": "v",
         "showlegend": true,
         "type": "scatter",
         "x": [
          1,
          2,
          3,
          4,
          5,
          6,
          7,
          8,
          9,
          10,
          11,
          12
         ],
         "xaxis": "x",
         "y": [
          5.3,
          8.6,
          8.4,
          12.5,
          13.9,
          16.2,
          19.5,
          18.2,
          15.5,
          10.6,
          6.7,
          6.5
         ],
         "yaxis": "y"
        },
        {
         "hovertemplate": "Weather Station=heathrow<br>Month=%{x}<br>Maximum Temperature (°C)=%{y}<extra></extra>",
         "legendgroup": "heathrow",
         "line": {
          "color": "rgb(56, 166, 165)",
          "dash": "solid"
         },
         "marker": {
          "symbol": "circle"
         },
         "mode": "lines",
         "name": "heathrow",
         "orientation": "v",
         "showlegend": true,
         "type": "scatter",
         "x": [
          1,
          2,
          3,
          4,
          5,
          6,
          7,
          8,
          9,
          10,
          11,
          12
         ],
         "xaxis": "x",
         "y": [
          7.6,
          12.4,
          13.1,
          15.8,
          18.6,
          21.8,
          25.5,
          25.2,
          21.2,
          15.5,
          10.3,
          10.2
         ],
         "yaxis": "y"
        },
        {
         "hovertemplate": "Weather Station=hurn<br>Month=%{x}<br>Maximum Temperature (°C)=%{y}<extra></extra>",
         "legendgroup": "hurn",
         "line": {
          "color": "rgb(15, 133, 84)",
          "dash": "solid"
         },
         "marker": {
          "symbol": "circle"
         },
         "mode": "lines",
         "name": "hurn",
         "orientation": "v",
         "showlegend": true,
         "type": "scatter",
         "x": [
          1,
          2,
          3,
          4,
          5,
          6,
          7,
          8,
          9,
          10,
          11,
          12
         ],
         "xaxis": "x",
         "y": [
          8,
          11.2,
          12.8,
          15.2,
          17.5,
          19.9,
          23.7,
          22.4,
          20.2,
          15.5,
          11,
          10.6
         ],
         "yaxis": "y"
        },
        {
         "hovertemplate": "Weather Station=lerwick<br>Month=%{x}<br>Maximum Temperature (°C)=%{y}<extra></extra>",
         "legendgroup": "lerwick",
         "line": {
          "color": "rgb(115, 175, 72)",
          "dash": "solid"
         },
         "marker": {
          "symbol": "circle"
         },
         "mode": "lines",
         "name": "lerwick",
         "orientation": "v",
         "showlegend": true,
         "type": "scatter",
         "x": [
          1,
          2,
          3,
          4,
          5,
          6,
          7,
          8,
          9,
          10,
          11,
          12
         ],
         "xaxis": "x",
         "y": [
          5.7,
          7.8,
          7.4,
          9.5,
          9.9,
          12.7,
          15.2,
          15.4,
          12.7,
          10.3,
          6.5,
          7.4
         ],
         "yaxis": "y"
        },
        {
         "hovertemplate": "Weather Station=leuchars<br>Month=%{x}<br>Maximum Temperature (°C)=%{y}<extra></extra>",
         "legendgroup": "leuchars",
         "line": {
          "color": "rgb(237, 173, 8)",
          "dash": "solid"
         },
         "marker": {
          "symbol": "circle"
         },
         "mode": "lines",
         "name": "leuchars",
         "orientation": "v",
         "showlegend": true,
         "type": "scatter",
         "x": [
          1,
          2,
          3,
          4,
          5,
          6,
          7,
          8,
          9,
          10,
          11,
          12
         ],
         "xaxis": "x",
         "y": [
          6.7,
          10.2,
          10.4,
          11.6,
          14,
          16.8,
          20.6,
          19.4,
          16.8,
          12.2,
          7.8,
          8.1
         ],
         "yaxis": "y"
        },
        {
         "hovertemplate": "Weather Station=lowestoft<br>Month=%{x}<br>Maximum Temperature (°C)=%{y}<extra></extra>",
         "legendgroup": "lowestoft",
         "line": {
          "color": "rgb(225, 124, 5)",
          "dash": "solid"
         },
         "marker": {
          "symbol": "circle"
         },
         "mode": "lines",
         "name": "lowestoft",
         "orientation": "v",
         "showlegend": true,
         "type": "scatter",
         "x": [
          1,
          2,
          3,
          4,
          5,
          6,
          7,
          8,
          9,
          10,
          11,
          12
         ],
         "xaxis": "x",
         "y": [
          null,
          null,
          null,
          null,
          null,
          null,
          null,
          null,
          null,
          null,
          null,
          null
         ],
         "yaxis": "y"
        },
        {
         "hovertemplate": "Weather Station=manston<br>Month=%{x}<br>Maximum Temperature (°C)=%{y}<extra></extra>",
         "legendgroup": "manston",
         "line": {
          "color": "rgb(204, 80, 62)",
          "dash": "solid"
         },
         "marker": {
          "symbol": "circle"
         },
         "mode": "lines",
         "name": "manston",
         "orientation": "v",
         "showlegend": true,
         "type": "scatter",
         "x": [
          1,
          2,
          3,
          4,
          5,
          6,
          7,
          8,
          9,
          10,
          11,
          12
         ],
         "xaxis": "x",
         "y": [
          6.7,
          10.7,
          11.7,
          12.8,
          16,
          20.2,
          23.2,
          23.7,
          19.9,
          15.2,
          10.1,
          9.5
         ],
         "yaxis": "y"
        },
        {
         "hovertemplate": "Weather Station=nairn<br>Month=%{x}<br>Maximum Temperature (°C)=%{y}<extra></extra>",
         "legendgroup": "nairn",
         "line": {
          "color": "rgb(148, 52, 110)",
          "dash": "solid"
         },
         "marker": {
          "symbol": "circle"
         },
         "mode": "lines",
         "name": "nairn",
         "orientation": "v",
         "showlegend": true,
         "type": "scatter",
         "x": [
          1,
          2,
          3,
          4,
          5,
          6,
          7,
          8,
          9,
          10,
          11,
          12
         ],
         "xaxis": "x",
         "y": [
          null,
          null,
          null,
          null,
          null,
          null,
          null,
          null,
          null,
          null,
          null,
          null
         ],
         "yaxis": "y"
        },
        {
         "hovertemplate": "Weather Station=newtonrigg<br>Month=%{x}<br>Maximum Temperature (°C)=%{y}<extra></extra>",
         "legendgroup": "newtonrigg",
         "line": {
          "color": "rgb(111, 64, 112)",
          "dash": "solid"
         },
         "marker": {
          "symbol": "circle"
         },
         "mode": "lines",
         "name": "newtonrigg",
         "orientation": "v",
         "showlegend": true,
         "type": "scatter",
         "x": [
          1,
          2,
          3,
          4,
          5,
          6,
          7,
          8,
          9,
          10,
          11,
          12
         ],
         "xaxis": "x",
         "y": [
          6,
          10.3,
          9.8,
          13.3,
          14.6,
          17.1,
          20.7,
          19.4,
          16.4,
          11.7,
          7.4,
          7.6
         ],
         "yaxis": "y"
        },
        {
         "hovertemplate": "Weather Station=oxford<br>Month=%{x}<br>Maximum Temperature (°C)=%{y}<extra></extra>",
         "legendgroup": "oxford",
         "line": {
          "color": "rgb(102, 102, 102)",
          "dash": "solid"
         },
         "marker": {
          "symbol": "circle"
         },
         "mode": "lines",
         "name": "oxford",
         "orientation": "v",
         "showlegend": true,
         "type": "scatter",
         "x": [
          1,
          2,
          3,
          4,
          5,
          6,
          7,
          8,
          9,
          10,
          11,
          12
         ],
         "xaxis": "x",
         "y": [
          null,
          null,
          null,
          15.1,
          null,
          null,
          null,
          23.9,
          20.8,
          14.6,
          9.8,
          null
         ],
         "yaxis": "y"
        },
        {
         "hovertemplate": "Weather Station=paisley<br>Month=%{x}<br>Maximum Temperature (°C)=%{y}<extra></extra>",
         "legendgroup": "paisley",
         "line": {
          "color": "rgb(95, 70, 144)",
          "dash": "solid"
         },
         "marker": {
          "symbol": "circle"
         },
         "mode": "lines",
         "name": "paisley",
         "orientation": "v",
         "showlegend": true,
         "type": "scatter",
         "x": [
          1,
          2,
          3,
          4,
          5,
          6,
          7,
          8,
          9,
          10,
          11,
          12
         ],
         "xaxis": "x",
         "y": [
          null,
          null,
          null,
          null,
          null,
          null,
          null,
          null,
          null,
          null,
          null,
          null
         ],
         "yaxis": "y"
        },
        {
         "hovertemplate": "Weather Station=rossonwye<br>Month=%{x}<br>Maximum Temperature (°C)=%{y}<extra></extra>",
         "legendgroup": "rossonwye",
         "line": {
          "color": "rgb(29, 105, 150)",
          "dash": "solid"
         },
         "marker": {
          "symbol": "circle"
         },
         "mode": "lines",
         "name": "rossonwye",
         "orientation": "v",
         "showlegend": true,
         "type": "scatter",
         "x": [
          1,
          2,
          3,
          4,
          5,
          6,
          7,
          8,
          9,
          10,
          11,
          12
         ],
         "xaxis": "x",
         "y": [
          7.3,
          11.9,
          12.3,
          null,
          17.4,
          19.2,
          23.3,
          22.1,
          19.6,
          14.1,
          9.5,
          9.1
         ],
         "yaxis": "y"
        },
        {
         "hovertemplate": "Weather Station=shawbury<br>Month=%{x}<br>Maximum Temperature (°C)=%{y}<extra></extra>",
         "legendgroup": "shawbury",
         "line": {
          "color": "rgb(56, 166, 165)",
          "dash": "solid"
         },
         "marker": {
          "symbol": "circle"
         },
         "mode": "lines",
         "name": "shawbury",
         "orientation": "v",
         "showlegend": true,
         "type": "scatter",
         "x": [
          1,
          2,
          3,
          4,
          5,
          6,
          7,
          8,
          9,
          10,
          11,
          12
         ],
         "xaxis": "x",
         "y": [
          6.9,
          11.3,
          11.6,
          13.9,
          16,
          18.2,
          21.8,
          21.5,
          18.5,
          13.3,
          8.7,
          8.4
         ],
         "yaxis": "y"
        },
        {
         "hovertemplate": "Weather Station=sheffield<br>Month=%{x}<br>Maximum Temperature (°C)=%{y}<extra></extra>",
         "legendgroup": "sheffield",
         "line": {
          "color": "rgb(15, 133, 84)",
          "dash": "solid"
         },
         "marker": {
          "symbol": "circle"
         },
         "mode": "lines",
         "name": "sheffield",
         "orientation": "v",
         "showlegend": true,
         "type": "scatter",
         "x": [
          1,
          2,
          3,
          4,
          5,
          6,
          7,
          8,
          9,
          10,
          11,
          12
         ],
         "xaxis": "x",
         "y": [
          6.6,
          11.2,
          11.5,
          14.1,
          16.1,
          18.6,
          22.7,
          22,
          18.1,
          12.6,
          7.9,
          8.2
         ],
         "yaxis": "y"
        },
        {
         "hovertemplate": "Weather Station=stornoway<br>Month=%{x}<br>Maximum Temperature (°C)=%{y}<extra></extra>",
         "legendgroup": "stornoway",
         "line": {
          "color": "rgb(115, 175, 72)",
          "dash": "solid"
         },
         "marker": {
          "symbol": "circle"
         },
         "mode": "lines",
         "name": "stornoway",
         "orientation": "v",
         "showlegend": true,
         "type": "scatter",
         "x": [
          1,
          2,
          3,
          4,
          5,
          6,
          7,
          8,
          9,
          10,
          11,
          12
         ],
         "xaxis": "x",
         "y": [
          7,
          9.4,
          8.8,
          12.5,
          12,
          14.4,
          17.6,
          16.4,
          15.5,
          11.6,
          8.3,
          8.3
         ],
         "yaxis": "y"
        },
        {
         "hovertemplate": "Weather Station=tiree<br>Month=%{x}<br>Maximum Temperature (°C)=%{y}<extra></extra>",
         "legendgroup": "tiree",
         "line": {
          "color": "rgb(237, 173, 8)",
          "dash": "solid"
         },
         "marker": {
          "symbol": "circle"
         },
         "mode": "lines",
         "name": "tiree",
         "orientation": "v",
         "showlegend": true,
         "type": "scatter",
         "x": [
          1,
          2,
          3,
          4,
          5,
          6,
          7,
          8,
          9,
          10,
          11,
          12
         ],
         "xaxis": "x",
         "y": [
          7.8,
          9.4,
          null,
          11.8,
          12.1,
          15.1,
          16.9,
          17.2,
          15.4,
          12.2,
          8.8,
          9.2
         ],
         "yaxis": "y"
        },
        {
         "hovertemplate": "Weather Station=valley<br>Month=%{x}<br>Maximum Temperature (°C)=%{y}<extra></extra>",
         "legendgroup": "valley",
         "line": {
          "color": "rgb(225, 124, 5)",
          "dash": "solid"
         },
         "marker": {
          "symbol": "circle"
         },
         "mode": "lines",
         "name": "valley",
         "orientation": "v",
         "showlegend": true,
         "type": "scatter",
         "x": [
          1,
          2,
          3,
          4,
          5,
          6,
          7,
          8,
          9,
          10,
          11,
          12
         ],
         "xaxis": "x",
         "y": [
          8.4,
          10.7,
          10.3,
          13.7,
          14.3,
          17.1,
          19.5,
          19.3,
          17.7,
          13.6,
          9.9,
          9.7
         ],
         "yaxis": "y"
        },
        {
         "hovertemplate": "Weather Station=waddington<br>Month=%{x}<br>Maximum Temperature (°C)=%{y}<extra></extra>",
         "legendgroup": "waddington",
         "line": {
          "color": "rgb(204, 80, 62)",
          "dash": "solid"
         },
         "marker": {
          "symbol": "circle"
         },
         "mode": "lines",
         "name": "waddington",
         "orientation": "v",
         "showlegend": true,
         "type": "scatter",
         "x": [
          1,
          2,
          3,
          4,
          5,
          6,
          7,
          8,
          9,
          10,
          11,
          12
         ],
         "xaxis": "x",
         "y": [
          6.6,
          11,
          11.8,
          13.9,
          16.1,
          18.8,
          22.6,
          22.6,
          18.8,
          13.1,
          8.6,
          8.1
         ],
         "yaxis": "y"
        },
        {
         "hovertemplate": "Weather Station=whitby<br>Month=%{x}<br>Maximum Temperature (°C)=%{y}<extra></extra>",
         "legendgroup": "whitby",
         "line": {
          "color": "rgb(148, 52, 110)",
          "dash": "solid"
         },
         "marker": {
          "symbol": "circle"
         },
         "mode": "lines",
         "name": "whitby",
         "orientation": "v",
         "showlegend": true,
         "type": "scatter",
         "x": [
          1,
          2,
          3,
          4,
          5,
          6,
          7,
          8,
          9,
          10,
          11,
          12
         ],
         "xaxis": "x",
         "y": [
          7.2,
          11.4,
          12.3,
          12,
          14.9,
          17.8,
          21.9,
          21.7,
          18.3,
          12.5,
          9,
          8.3
         ],
         "yaxis": "y"
        },
        {
         "hovertemplate": "Weather Station=wickairport<br>Month=%{x}<br>Maximum Temperature (°C)=%{y}<extra></extra>",
         "legendgroup": "wickairport",
         "line": {
          "color": "rgb(111, 64, 112)",
          "dash": "solid"
         },
         "marker": {
          "symbol": "circle"
         },
         "mode": "lines",
         "name": "wickairport",
         "orientation": "v",
         "showlegend": true,
         "type": "scatter",
         "x": [
          1,
          2,
          3,
          4,
          5,
          6,
          7,
          8,
          9,
          10,
          11,
          12
         ],
         "xaxis": "x",
         "y": [
          6.1,
          9.1,
          9.1,
          10.2,
          11.3,
          14.7,
          17,
          16.8,
          14.6,
          11.4,
          7.5,
          7.4
         ],
         "yaxis": "y"
        },
        {
         "hovertemplate": "Weather Station=yeovilton<br>Month=%{x}<br>Maximum Temperature (°C)=%{y}<extra></extra>",
         "legendgroup": "yeovilton",
         "line": {
          "color": "rgb(102, 102, 102)",
          "dash": "solid"
         },
         "marker": {
          "symbol": "circle"
         },
         "mode": "lines",
         "name": "yeovilton",
         "orientation": "v",
         "showlegend": true,
         "type": "scatter",
         "x": [
          1,
          2,
          3,
          4,
          5,
          6,
          7,
          8,
          9,
          10,
          11,
          12
         ],
         "xaxis": "x",
         "y": [
          7.8,
          11.8,
          12.3,
          14.8,
          17.3,
          19.4,
          24,
          22.6,
          19.9,
          14.9,
          10.4,
          10.3
         ],
         "yaxis": "y"
        }
       ],
       "layout": {
        "legend": {
         "title": {
          "text": "Weather Station"
         },
         "tracegroupgap": 0
        },
        "template": {
         "data": {
          "bar": [
           {
            "error_x": {
             "color": "#2a3f5f"
            },
            "error_y": {
             "color": "#2a3f5f"
            },
            "marker": {
             "line": {
              "color": "#E5ECF6",
              "width": 0.5
             },
             "pattern": {
              "fillmode": "overlay",
              "size": 10,
              "solidity": 0.2
             }
            },
            "type": "bar"
           }
          ],
          "barpolar": [
           {
            "marker": {
             "line": {
              "color": "#E5ECF6",
              "width": 0.5
             },
             "pattern": {
              "fillmode": "overlay",
              "size": 10,
              "solidity": 0.2
             }
            },
            "type": "barpolar"
           }
          ],
          "carpet": [
           {
            "aaxis": {
             "endlinecolor": "#2a3f5f",
             "gridcolor": "white",
             "linecolor": "white",
             "minorgridcolor": "white",
             "startlinecolor": "#2a3f5f"
            },
            "baxis": {
             "endlinecolor": "#2a3f5f",
             "gridcolor": "white",
             "linecolor": "white",
             "minorgridcolor": "white",
             "startlinecolor": "#2a3f5f"
            },
            "type": "carpet"
           }
          ],
          "choropleth": [
           {
            "colorbar": {
             "outlinewidth": 0,
             "ticks": ""
            },
            "type": "choropleth"
           }
          ],
          "contour": [
           {
            "colorbar": {
             "outlinewidth": 0,
             "ticks": ""
            },
            "colorscale": [
             [
              0,
              "#0d0887"
             ],
             [
              0.1111111111111111,
              "#46039f"
             ],
             [
              0.2222222222222222,
              "#7201a8"
             ],
             [
              0.3333333333333333,
              "#9c179e"
             ],
             [
              0.4444444444444444,
              "#bd3786"
             ],
             [
              0.5555555555555556,
              "#d8576b"
             ],
             [
              0.6666666666666666,
              "#ed7953"
             ],
             [
              0.7777777777777778,
              "#fb9f3a"
             ],
             [
              0.8888888888888888,
              "#fdca26"
             ],
             [
              1,
              "#f0f921"
             ]
            ],
            "type": "contour"
           }
          ],
          "contourcarpet": [
           {
            "colorbar": {
             "outlinewidth": 0,
             "ticks": ""
            },
            "type": "contourcarpet"
           }
          ],
          "heatmap": [
           {
            "colorbar": {
             "outlinewidth": 0,
             "ticks": ""
            },
            "colorscale": [
             [
              0,
              "#0d0887"
             ],
             [
              0.1111111111111111,
              "#46039f"
             ],
             [
              0.2222222222222222,
              "#7201a8"
             ],
             [
              0.3333333333333333,
              "#9c179e"
             ],
             [
              0.4444444444444444,
              "#bd3786"
             ],
             [
              0.5555555555555556,
              "#d8576b"
             ],
             [
              0.6666666666666666,
              "#ed7953"
             ],
             [
              0.7777777777777778,
              "#fb9f3a"
             ],
             [
              0.8888888888888888,
              "#fdca26"
             ],
             [
              1,
              "#f0f921"
             ]
            ],
            "type": "heatmap"
           }
          ],
          "heatmapgl": [
           {
            "colorbar": {
             "outlinewidth": 0,
             "ticks": ""
            },
            "colorscale": [
             [
              0,
              "#0d0887"
             ],
             [
              0.1111111111111111,
              "#46039f"
             ],
             [
              0.2222222222222222,
              "#7201a8"
             ],
             [
              0.3333333333333333,
              "#9c179e"
             ],
             [
              0.4444444444444444,
              "#bd3786"
             ],
             [
              0.5555555555555556,
              "#d8576b"
             ],
             [
              0.6666666666666666,
              "#ed7953"
             ],
             [
              0.7777777777777778,
              "#fb9f3a"
             ],
             [
              0.8888888888888888,
              "#fdca26"
             ],
             [
              1,
              "#f0f921"
             ]
            ],
            "type": "heatmapgl"
           }
          ],
          "histogram": [
           {
            "marker": {
             "pattern": {
              "fillmode": "overlay",
              "size": 10,
              "solidity": 0.2
             }
            },
            "type": "histogram"
           }
          ],
          "histogram2d": [
           {
            "colorbar": {
             "outlinewidth": 0,
             "ticks": ""
            },
            "colorscale": [
             [
              0,
              "#0d0887"
             ],
             [
              0.1111111111111111,
              "#46039f"
             ],
             [
              0.2222222222222222,
              "#7201a8"
             ],
             [
              0.3333333333333333,
              "#9c179e"
             ],
             [
              0.4444444444444444,
              "#bd3786"
             ],
             [
              0.5555555555555556,
              "#d8576b"
             ],
             [
              0.6666666666666666,
              "#ed7953"
             ],
             [
              0.7777777777777778,
              "#fb9f3a"
             ],
             [
              0.8888888888888888,
              "#fdca26"
             ],
             [
              1,
              "#f0f921"
             ]
            ],
            "type": "histogram2d"
           }
          ],
          "histogram2dcontour": [
           {
            "colorbar": {
             "outlinewidth": 0,
             "ticks": ""
            },
            "colorscale": [
             [
              0,
              "#0d0887"
             ],
             [
              0.1111111111111111,
              "#46039f"
             ],
             [
              0.2222222222222222,
              "#7201a8"
             ],
             [
              0.3333333333333333,
              "#9c179e"
             ],
             [
              0.4444444444444444,
              "#bd3786"
             ],
             [
              0.5555555555555556,
              "#d8576b"
             ],
             [
              0.6666666666666666,
              "#ed7953"
             ],
             [
              0.7777777777777778,
              "#fb9f3a"
             ],
             [
              0.8888888888888888,
              "#fdca26"
             ],
             [
              1,
              "#f0f921"
             ]
            ],
            "type": "histogram2dcontour"
           }
          ],
          "mesh3d": [
           {
            "colorbar": {
             "outlinewidth": 0,
             "ticks": ""
            },
            "type": "mesh3d"
           }
          ],
          "parcoords": [
           {
            "line": {
             "colorbar": {
              "outlinewidth": 0,
              "ticks": ""
             }
            },
            "type": "parcoords"
           }
          ],
          "pie": [
           {
            "automargin": true,
            "type": "pie"
           }
          ],
          "scatter": [
           {
            "fillpattern": {
             "fillmode": "overlay",
             "size": 10,
             "solidity": 0.2
            },
            "type": "scatter"
           }
          ],
          "scatter3d": [
           {
            "line": {
             "colorbar": {
              "outlinewidth": 0,
              "ticks": ""
             }
            },
            "marker": {
             "colorbar": {
              "outlinewidth": 0,
              "ticks": ""
             }
            },
            "type": "scatter3d"
           }
          ],
          "scattercarpet": [
           {
            "marker": {
             "colorbar": {
              "outlinewidth": 0,
              "ticks": ""
             }
            },
            "type": "scattercarpet"
           }
          ],
          "scattergeo": [
           {
            "marker": {
             "colorbar": {
              "outlinewidth": 0,
              "ticks": ""
             }
            },
            "type": "scattergeo"
           }
          ],
          "scattergl": [
           {
            "marker": {
             "colorbar": {
              "outlinewidth": 0,
              "ticks": ""
             }
            },
            "type": "scattergl"
           }
          ],
          "scattermapbox": [
           {
            "marker": {
             "colorbar": {
              "outlinewidth": 0,
              "ticks": ""
             }
            },
            "type": "scattermapbox"
           }
          ],
          "scatterpolar": [
           {
            "marker": {
             "colorbar": {
              "outlinewidth": 0,
              "ticks": ""
             }
            },
            "type": "scatterpolar"
           }
          ],
          "scatterpolargl": [
           {
            "marker": {
             "colorbar": {
              "outlinewidth": 0,
              "ticks": ""
             }
            },
            "type": "scatterpolargl"
           }
          ],
          "scatterternary": [
           {
            "marker": {
             "colorbar": {
              "outlinewidth": 0,
              "ticks": ""
             }
            },
            "type": "scatterternary"
           }
          ],
          "surface": [
           {
            "colorbar": {
             "outlinewidth": 0,
             "ticks": ""
            },
            "colorscale": [
             [
              0,
              "#0d0887"
             ],
             [
              0.1111111111111111,
              "#46039f"
             ],
             [
              0.2222222222222222,
              "#7201a8"
             ],
             [
              0.3333333333333333,
              "#9c179e"
             ],
             [
              0.4444444444444444,
              "#bd3786"
             ],
             [
              0.5555555555555556,
              "#d8576b"
             ],
             [
              0.6666666666666666,
              "#ed7953"
             ],
             [
              0.7777777777777778,
              "#fb9f3a"
             ],
             [
              0.8888888888888888,
              "#fdca26"
             ],
             [
              1,
              "#f0f921"
             ]
            ],
            "type": "surface"
           }
          ],
          "table": [
           {
            "cells": {
             "fill": {
              "color": "#EBF0F8"
             },
             "line": {
              "color": "white"
             }
            },
            "header": {
             "fill": {
              "color": "#C8D4E3"
             },
             "line": {
              "color": "white"
             }
            },
            "type": "table"
           }
          ]
         },
         "layout": {
          "annotationdefaults": {
           "arrowcolor": "#2a3f5f",
           "arrowhead": 0,
           "arrowwidth": 1
          },
          "autotypenumbers": "strict",
          "coloraxis": {
           "colorbar": {
            "outlinewidth": 0,
            "ticks": ""
           }
          },
          "colorscale": {
           "diverging": [
            [
             0,
             "#8e0152"
            ],
            [
             0.1,
             "#c51b7d"
            ],
            [
             0.2,
             "#de77ae"
            ],
            [
             0.3,
             "#f1b6da"
            ],
            [
             0.4,
             "#fde0ef"
            ],
            [
             0.5,
             "#f7f7f7"
            ],
            [
             0.6,
             "#e6f5d0"
            ],
            [
             0.7,
             "#b8e186"
            ],
            [
             0.8,
             "#7fbc41"
            ],
            [
             0.9,
             "#4d9221"
            ],
            [
             1,
             "#276419"
            ]
           ],
           "sequential": [
            [
             0,
             "#0d0887"
            ],
            [
             0.1111111111111111,
             "#46039f"
            ],
            [
             0.2222222222222222,
             "#7201a8"
            ],
            [
             0.3333333333333333,
             "#9c179e"
            ],
            [
             0.4444444444444444,
             "#bd3786"
            ],
            [
             0.5555555555555556,
             "#d8576b"
            ],
            [
             0.6666666666666666,
             "#ed7953"
            ],
            [
             0.7777777777777778,
             "#fb9f3a"
            ],
            [
             0.8888888888888888,
             "#fdca26"
            ],
            [
             1,
             "#f0f921"
            ]
           ],
           "sequentialminus": [
            [
             0,
             "#0d0887"
            ],
            [
             0.1111111111111111,
             "#46039f"
            ],
            [
             0.2222222222222222,
             "#7201a8"
            ],
            [
             0.3333333333333333,
             "#9c179e"
            ],
            [
             0.4444444444444444,
             "#bd3786"
            ],
            [
             0.5555555555555556,
             "#d8576b"
            ],
            [
             0.6666666666666666,
             "#ed7953"
            ],
            [
             0.7777777777777778,
             "#fb9f3a"
            ],
            [
             0.8888888888888888,
             "#fdca26"
            ],
            [
             1,
             "#f0f921"
            ]
           ]
          },
          "colorway": [
           "#636efa",
           "#EF553B",
           "#00cc96",
           "#ab63fa",
           "#FFA15A",
           "#19d3f3",
           "#FF6692",
           "#B6E880",
           "#FF97FF",
           "#FECB52"
          ],
          "font": {
           "color": "#2a3f5f"
          },
          "geo": {
           "bgcolor": "white",
           "lakecolor": "white",
           "landcolor": "#E5ECF6",
           "showlakes": true,
           "showland": true,
           "subunitcolor": "white"
          },
          "hoverlabel": {
           "align": "left"
          },
          "hovermode": "closest",
          "mapbox": {
           "style": "light"
          },
          "paper_bgcolor": "white",
          "plot_bgcolor": "#E5ECF6",
          "polar": {
           "angularaxis": {
            "gridcolor": "white",
            "linecolor": "white",
            "ticks": ""
           },
           "bgcolor": "#E5ECF6",
           "radialaxis": {
            "gridcolor": "white",
            "linecolor": "white",
            "ticks": ""
           }
          },
          "scene": {
           "xaxis": {
            "backgroundcolor": "#E5ECF6",
            "gridcolor": "white",
            "gridwidth": 2,
            "linecolor": "white",
            "showbackground": true,
            "ticks": "",
            "zerolinecolor": "white"
           },
           "yaxis": {
            "backgroundcolor": "#E5ECF6",
            "gridcolor": "white",
            "gridwidth": 2,
            "linecolor": "white",
            "showbackground": true,
            "ticks": "",
            "zerolinecolor": "white"
           },
           "zaxis": {
            "backgroundcolor": "#E5ECF6",
            "gridcolor": "white",
            "gridwidth": 2,
            "linecolor": "white",
            "showbackground": true,
            "ticks": "",
            "zerolinecolor": "white"
           }
          },
          "shapedefaults": {
           "line": {
            "color": "#2a3f5f"
           }
          },
          "ternary": {
           "aaxis": {
            "gridcolor": "white",
            "linecolor": "white",
            "ticks": ""
           },
           "baxis": {
            "gridcolor": "white",
            "linecolor": "white",
            "ticks": ""
           },
           "bgcolor": "#E5ECF6",
           "caxis": {
            "gridcolor": "white",
            "linecolor": "white",
            "ticks": ""
           }
          },
          "title": {
           "x": 0.05
          },
          "xaxis": {
           "automargin": true,
           "gridcolor": "white",
           "linecolor": "white",
           "ticks": "",
           "title": {
            "standoff": 15
           },
           "zerolinecolor": "white",
           "zerolinewidth": 2
          },
          "yaxis": {
           "automargin": true,
           "gridcolor": "white",
           "linecolor": "white",
           "ticks": "",
           "title": {
            "standoff": 15
           },
           "zerolinecolor": "white",
           "zerolinewidth": 2
          }
         }
        },
        "title": {
         "text": "Maximum Temperatures in 2019"
        },
        "xaxis": {
         "anchor": "y",
         "domain": [
          0,
          1
         ],
         "title": {
          "text": "Month"
         }
        },
        "yaxis": {
         "anchor": "x",
         "domain": [
          0,
          1
         ],
         "title": {
          "text": "Maximum Temperature (°C)"
         }
        }
       }
      }
     },
     "metadata": {},
     "output_type": "display_data"
    }
   ],
   "source": [
    "# plotting max temps\n",
    "fig = px.line(temps_2019, x = 'month', y = 'tmax', color = 'station', \n",
    "              color_discrete_sequence = px.colors.qualitative.Prism,\n",
    "              title = 'Maximum Temperatures in 2019', \n",
    "              labels = {'tmax':'Maximum Temperature (°C)', 'month':'Month', 'station':'Weather Station'})\n",
    "fig.show()"
   ]
  },
  {
   "cell_type": "code",
   "execution_count": 8,
   "metadata": {},
   "outputs": [
    {
     "data": {
      "application/vnd.plotly.v1+json": {
       "config": {
        "plotlyServerURL": "https://plot.ly"
       },
       "data": [
        {
         "hovertemplate": "Weather Station=aberporth<br>Month=%{x}<br>Minimum Temperature (°C)=%{y}<extra></extra>",
         "legendgroup": "aberporth",
         "line": {
          "color": "rgb(95, 70, 144)",
          "dash": "solid"
         },
         "marker": {
          "symbol": "circle"
         },
         "mode": "lines",
         "name": "aberporth",
         "orientation": "v",
         "showlegend": true,
         "type": "scatter",
         "x": [
          1,
          2,
          3,
          4,
          5,
          6,
          7,
          8,
          9,
          10,
          11,
          12
         ],
         "xaxis": "x",
         "y": [
          3.8,
          5,
          5.1,
          6.4,
          7.9,
          10.6,
          13.2,
          13.4,
          11.8,
          8.4,
          5.5,
          4.6
         ],
         "yaxis": "y"
        },
        {
         "hovertemplate": "Weather Station=armagh<br>Month=%{x}<br>Minimum Temperature (°C)=%{y}<extra></extra>",
         "legendgroup": "armagh",
         "line": {
          "color": "rgb(29, 105, 150)",
          "dash": "solid"
         },
         "marker": {
          "symbol": "circle"
         },
         "mode": "lines",
         "name": "armagh",
         "orientation": "v",
         "showlegend": true,
         "type": "scatter",
         "x": [
          1,
          2,
          3,
          4,
          5,
          6,
          7,
          8,
          9,
          10,
          11,
          12
         ],
         "xaxis": "x",
         "y": [
          null,
          3.9,
          4.2,
          5.2,
          6.3,
          9.5,
          12.8,
          12.1,
          9.9,
          5.7,
          3.1,
          3.5
         ],
         "yaxis": "y"
        },
        {
         "hovertemplate": "Weather Station=ballypatrick<br>Month=%{x}<br>Minimum Temperature (°C)=%{y}<extra></extra>",
         "legendgroup": "ballypatrick",
         "line": {
          "color": "rgb(56, 166, 165)",
          "dash": "solid"
         },
         "marker": {
          "symbol": "circle"
         },
         "mode": "lines",
         "name": "ballypatrick",
         "orientation": "v",
         "showlegend": true,
         "type": "scatter",
         "x": [
          1,
          2,
          3,
          4,
          5,
          6,
          7,
          8,
          9,
          10,
          11,
          12
         ],
         "xaxis": "x",
         "y": [
          3,
          4,
          3.5,
          5.4,
          5.6,
          8.9,
          12,
          11.5,
          9.7,
          6.3,
          3.8,
          3.4
         ],
         "yaxis": "y"
        },
        {
         "hovertemplate": "Weather Station=bradford<br>Month=%{x}<br>Minimum Temperature (°C)=%{y}<extra></extra>",
         "legendgroup": "bradford",
         "line": {
          "color": "rgb(15, 133, 84)",
          "dash": "solid"
         },
         "marker": {
          "symbol": "circle"
         },
         "mode": "lines",
         "name": "bradford",
         "orientation": "v",
         "showlegend": true,
         "type": "scatter",
         "x": [
          1,
          2,
          3,
          4,
          5,
          6,
          7,
          8,
          9,
          10,
          11,
          12
         ],
         "xaxis": "x",
         "y": [
          1.8,
          2.8,
          4.1,
          4,
          6.8,
          10,
          13.1,
          13,
          9.7,
          6.2,
          3.4,
          2.9
         ],
         "yaxis": "y"
        },
        {
         "hovertemplate": "Weather Station=braemar<br>Month=%{x}<br>Minimum Temperature (°C)=%{y}<extra></extra>",
         "legendgroup": "braemar",
         "line": {
          "color": "rgb(115, 175, 72)",
          "dash": "solid"
         },
         "marker": {
          "symbol": "circle"
         },
         "mode": "lines",
         "name": "braemar",
         "orientation": "v",
         "showlegend": true,
         "type": "scatter",
         "x": [
          1,
          2,
          3,
          4,
          5,
          6,
          7,
          8,
          9,
          10,
          11,
          12
         ],
         "xaxis": "x",
         "y": [
          -3.6,
          -0.4,
          1.5,
          1,
          2.8,
          6.2,
          10.6,
          9.1,
          6.2,
          2,
          -0.8,
          0.4
         ],
         "yaxis": "y"
        },
        {
         "hovertemplate": "Weather Station=camborne<br>Month=%{x}<br>Minimum Temperature (°C)=%{y}<extra></extra>",
         "legendgroup": "camborne",
         "line": {
          "color": "rgb(237, 173, 8)",
          "dash": "solid"
         },
         "marker": {
          "symbol": "circle"
         },
         "mode": "lines",
         "name": "camborne",
         "orientation": "v",
         "showlegend": true,
         "type": "scatter",
         "x": [
          1,
          2,
          3,
          4,
          5,
          6,
          7,
          8,
          9,
          10,
          11,
          12
         ],
         "xaxis": "x",
         "y": [
          5.5,
          6.1,
          6.3,
          7.4,
          8.9,
          11.4,
          13.7,
          14,
          12.7,
          10,
          7.2,
          6
         ],
         "yaxis": "y"
        },
        {
         "hovertemplate": "Weather Station=cambridge<br>Month=%{x}<br>Minimum Temperature (°C)=%{y}<extra></extra>",
         "legendgroup": "cambridge",
         "line": {
          "color": "rgb(225, 124, 5)",
          "dash": "solid"
         },
         "marker": {
          "symbol": "circle"
         },
         "mode": "lines",
         "name": "cambridge",
         "orientation": "v",
         "showlegend": true,
         "type": "scatter",
         "x": [
          1,
          2,
          3,
          4,
          5,
          6,
          7,
          8,
          9,
          10,
          11,
          12
         ],
         "xaxis": "x",
         "y": [
          1,
          1.7,
          4.5,
          2.8,
          6.6,
          10.8,
          13.4,
          12.7,
          10.2,
          6.9,
          3.6,
          3
         ],
         "yaxis": "y"
        },
        {
         "hovertemplate": "Weather Station=cardiff<br>Month=%{x}<br>Minimum Temperature (°C)=%{y}<extra></extra>",
         "legendgroup": "cardiff",
         "line": {
          "color": "rgb(204, 80, 62)",
          "dash": "solid"
         },
         "marker": {
          "symbol": "circle"
         },
         "mode": "lines",
         "name": "cardiff",
         "orientation": "v",
         "showlegend": true,
         "type": "scatter",
         "x": [
          1,
          2,
          3,
          4,
          5,
          6,
          7,
          8,
          9,
          10,
          11,
          12
         ],
         "xaxis": "x",
         "y": [
          1.8,
          2.4,
          5.2,
          6.3,
          7.2,
          11.5,
          13.9,
          13.7,
          11.3,
          7.5,
          4.7,
          null
         ],
         "yaxis": "y"
        },
        {
         "hovertemplate": "Weather Station=chivenor<br>Month=%{x}<br>Minimum Temperature (°C)=%{y}<extra></extra>",
         "legendgroup": "chivenor",
         "line": {
          "color": "rgb(148, 52, 110)",
          "dash": "solid"
         },
         "marker": {
          "symbol": "circle"
         },
         "mode": "lines",
         "name": "chivenor",
         "orientation": "v",
         "showlegend": true,
         "type": "scatter",
         "x": [
          1,
          2,
          3,
          4,
          5,
          6,
          7,
          8,
          9,
          10,
          11,
          12
         ],
         "xaxis": "x",
         "y": [
          3.8,
          4.2,
          5.8,
          6,
          7.8,
          11.7,
          13.6,
          14.1,
          12.4,
          9.2,
          6,
          4.2
         ],
         "yaxis": "y"
        },
        {
         "hovertemplate": "Weather Station=dunstaffnage<br>Month=%{x}<br>Minimum Temperature (°C)=%{y}<extra></extra>",
         "legendgroup": "dunstaffnage",
         "line": {
          "color": "rgb(111, 64, 112)",
          "dash": "solid"
         },
         "marker": {
          "symbol": "circle"
         },
         "mode": "lines",
         "name": "dunstaffnage",
         "orientation": "v",
         "showlegend": true,
         "type": "scatter",
         "x": [
          1,
          2,
          3,
          4,
          5,
          6,
          7,
          8,
          9,
          10,
          11,
          12
         ],
         "xaxis": "x",
         "y": [
          2.9,
          3.8,
          4.6,
          6.2,
          6.6,
          9.9,
          12.8,
          12.3,
          10.2,
          6.5,
          3.6,
          4.1
         ],
         "yaxis": "y"
        },
        {
         "hovertemplate": "Weather Station=durham<br>Month=%{x}<br>Minimum Temperature (°C)=%{y}<extra></extra>",
         "legendgroup": "durham",
         "line": {
          "color": "rgb(102, 102, 102)",
          "dash": "solid"
         },
         "marker": {
          "symbol": "circle"
         },
         "mode": "lines",
         "name": "durham",
         "orientation": "v",
         "showlegend": true,
         "type": "scatter",
         "x": [
          1,
          2,
          3,
          4,
          5,
          6,
          7,
          8,
          9,
          10,
          11,
          12
         ],
         "xaxis": "x",
         "y": [
          1.2,
          2.2,
          3.8,
          3.5,
          6,
          9.4,
          12.8,
          12.5,
          9.1,
          5.8,
          3.2,
          2.8
         ],
         "yaxis": "y"
        },
        {
         "hovertemplate": "Weather Station=eastbourne<br>Month=%{x}<br>Minimum Temperature (°C)=%{y}<extra></extra>",
         "legendgroup": "eastbourne",
         "line": {
          "color": "rgb(95, 70, 144)",
          "dash": "solid"
         },
         "marker": {
          "symbol": "circle"
         },
         "mode": "lines",
         "name": "eastbourne",
         "orientation": "v",
         "showlegend": true,
         "type": "scatter",
         "x": [
          1,
          2,
          3,
          4,
          5,
          6,
          7,
          8,
          9,
          10,
          11,
          12
         ],
         "xaxis": "x",
         "y": [
          null,
          null,
          null,
          null,
          null,
          null,
          null,
          null,
          null,
          null,
          null,
          null
         ],
         "yaxis": "y"
        },
        {
         "hovertemplate": "Weather Station=eskdalemuir<br>Month=%{x}<br>Minimum Temperature (°C)=%{y}<extra></extra>",
         "legendgroup": "eskdalemuir",
         "line": {
          "color": "rgb(29, 105, 150)",
          "dash": "solid"
         },
         "marker": {
          "symbol": "circle"
         },
         "mode": "lines",
         "name": "eskdalemuir",
         "orientation": "v",
         "showlegend": true,
         "type": "scatter",
         "x": [
          1,
          2,
          3,
          4,
          5,
          6,
          7,
          8,
          9,
          10,
          11,
          12
         ],
         "xaxis": "x",
         "y": [
          -1.3,
          0.1,
          2.4,
          2.1,
          3.5,
          7.7,
          10.9,
          11,
          7.3,
          3.9,
          0.9,
          1.7
         ],
         "yaxis": "y"
        },
        {
         "hovertemplate": "Weather Station=heathrow<br>Month=%{x}<br>Minimum Temperature (°C)=%{y}<extra></extra>",
         "legendgroup": "heathrow",
         "line": {
          "color": "rgb(56, 166, 165)",
          "dash": "solid"
         },
         "marker": {
          "symbol": "circle"
         },
         "mode": "lines",
         "name": "heathrow",
         "orientation": "v",
         "showlegend": true,
         "type": "scatter",
         "x": [
          1,
          2,
          3,
          4,
          5,
          6,
          7,
          8,
          9,
          10,
          11,
          12
         ],
         "xaxis": "x",
         "y": [
          2,
          3.3,
          5.8,
          5.7,
          8.4,
          11.9,
          14.9,
          14.1,
          11.8,
          8.6,
          4.3,
          4
         ],
         "yaxis": "y"
        },
        {
         "hovertemplate": "Weather Station=hurn<br>Month=%{x}<br>Minimum Temperature (°C)=%{y}<extra></extra>",
         "legendgroup": "hurn",
         "line": {
          "color": "rgb(15, 133, 84)",
          "dash": "solid"
         },
         "marker": {
          "symbol": "circle"
         },
         "mode": "lines",
         "name": "hurn",
         "orientation": "v",
         "showlegend": true,
         "type": "scatter",
         "x": [
          1,
          2,
          3,
          4,
          5,
          6,
          7,
          8,
          9,
          10,
          11,
          12
         ],
         "xaxis": "x",
         "y": [
          0.1,
          0.9,
          4.3,
          4,
          5.9,
          10.5,
          12.5,
          12.1,
          10.2,
          7.7,
          3.5,
          3.4
         ],
         "yaxis": "y"
        },
        {
         "hovertemplate": "Weather Station=lerwick<br>Month=%{x}<br>Minimum Temperature (°C)=%{y}<extra></extra>",
         "legendgroup": "lerwick",
         "line": {
          "color": "rgb(115, 175, 72)",
          "dash": "solid"
         },
         "marker": {
          "symbol": "circle"
         },
         "mode": "lines",
         "name": "lerwick",
         "orientation": "v",
         "showlegend": true,
         "type": "scatter",
         "x": [
          1,
          2,
          3,
          4,
          5,
          6,
          7,
          8,
          9,
          10,
          11,
          12
         ],
         "xaxis": "x",
         "y": [
          1.6,
          3.6,
          3.1,
          5.5,
          4.4,
          8.6,
          10.8,
          11.1,
          8.8,
          6.3,
          3.1,
          3.4
         ],
         "yaxis": "y"
        },
        {
         "hovertemplate": "Weather Station=leuchars<br>Month=%{x}<br>Minimum Temperature (°C)=%{y}<extra></extra>",
         "legendgroup": "leuchars",
         "line": {
          "color": "rgb(237, 173, 8)",
          "dash": "solid"
         },
         "marker": {
          "symbol": "circle"
         },
         "mode": "lines",
         "name": "leuchars",
         "orientation": "v",
         "showlegend": true,
         "type": "scatter",
         "x": [
          1,
          2,
          3,
          4,
          5,
          6,
          7,
          8,
          9,
          10,
          11,
          12
         ],
         "xaxis": "x",
         "y": [
          -0.2,
          1.3,
          3.3,
          5,
          6,
          9.1,
          12.3,
          11.6,
          9.2,
          5.2,
          2.5,
          1.9
         ],
         "yaxis": "y"
        },
        {
         "hovertemplate": "Weather Station=lowestoft<br>Month=%{x}<br>Minimum Temperature (°C)=%{y}<extra></extra>",
         "legendgroup": "lowestoft",
         "line": {
          "color": "rgb(225, 124, 5)",
          "dash": "solid"
         },
         "marker": {
          "symbol": "circle"
         },
         "mode": "lines",
         "name": "lowestoft",
         "orientation": "v",
         "showlegend": true,
         "type": "scatter",
         "x": [
          1,
          2,
          3,
          4,
          5,
          6,
          7,
          8,
          9,
          10,
          11,
          12
         ],
         "xaxis": "x",
         "y": [
          null,
          null,
          null,
          null,
          null,
          null,
          null,
          null,
          null,
          null,
          null,
          null
         ],
         "yaxis": "y"
        },
        {
         "hovertemplate": "Weather Station=manston<br>Month=%{x}<br>Minimum Temperature (°C)=%{y}<extra></extra>",
         "legendgroup": "manston",
         "line": {
          "color": "rgb(204, 80, 62)",
          "dash": "solid"
         },
         "marker": {
          "symbol": "circle"
         },
         "mode": "lines",
         "name": "manston",
         "orientation": "v",
         "showlegend": true,
         "type": "scatter",
         "x": [
          1,
          2,
          3,
          4,
          5,
          6,
          7,
          8,
          9,
          10,
          11,
          12
         ],
         "xaxis": "x",
         "y": [
          1.8,
          3.6,
          5.2,
          5.9,
          8,
          12,
          14.4,
          13.9,
          12.1,
          9.4,
          5.2,
          4.1
         ],
         "yaxis": "y"
        },
        {
         "hovertemplate": "Weather Station=nairn<br>Month=%{x}<br>Minimum Temperature (°C)=%{y}<extra></extra>",
         "legendgroup": "nairn",
         "line": {
          "color": "rgb(148, 52, 110)",
          "dash": "solid"
         },
         "marker": {
          "symbol": "circle"
         },
         "mode": "lines",
         "name": "nairn",
         "orientation": "v",
         "showlegend": true,
         "type": "scatter",
         "x": [
          1,
          2,
          3,
          4,
          5,
          6,
          7,
          8,
          9,
          10,
          11,
          12
         ],
         "xaxis": "x",
         "y": [
          null,
          null,
          null,
          null,
          null,
          null,
          null,
          null,
          null,
          null,
          null,
          null
         ],
         "yaxis": "y"
        },
        {
         "hovertemplate": "Weather Station=newtonrigg<br>Month=%{x}<br>Minimum Temperature (°C)=%{y}<extra></extra>",
         "legendgroup": "newtonrigg",
         "line": {
          "color": "rgb(111, 64, 112)",
          "dash": "solid"
         },
         "marker": {
          "symbol": "circle"
         },
         "mode": "lines",
         "name": "newtonrigg",
         "orientation": "v",
         "showlegend": true,
         "type": "scatter",
         "x": [
          1,
          2,
          3,
          4,
          5,
          6,
          7,
          8,
          9,
          10,
          11,
          12
         ],
         "xaxis": "x",
         "y": [
          0.3,
          2.1,
          3,
          2.6,
          4.5,
          8.9,
          11.8,
          12,
          8.6,
          4.7,
          1.6,
          2.2
         ],
         "yaxis": "y"
        },
        {
         "hovertemplate": "Weather Station=oxford<br>Month=%{x}<br>Minimum Temperature (°C)=%{y}<extra></extra>",
         "legendgroup": "oxford",
         "line": {
          "color": "rgb(102, 102, 102)",
          "dash": "solid"
         },
         "marker": {
          "symbol": "circle"
         },
         "mode": "lines",
         "name": "oxford",
         "orientation": "v",
         "showlegend": true,
         "type": "scatter",
         "x": [
          1,
          2,
          3,
          4,
          5,
          6,
          7,
          8,
          9,
          10,
          11,
          12
         ],
         "xaxis": "x",
         "y": [
          null,
          null,
          null,
          4.3,
          null,
          null,
          null,
          13.2,
          10.4,
          7.5,
          4.3,
          null
         ],
         "yaxis": "y"
        },
        {
         "hovertemplate": "Weather Station=paisley<br>Month=%{x}<br>Minimum Temperature (°C)=%{y}<extra></extra>",
         "legendgroup": "paisley",
         "line": {
          "color": "rgb(95, 70, 144)",
          "dash": "solid"
         },
         "marker": {
          "symbol": "circle"
         },
         "mode": "lines",
         "name": "paisley",
         "orientation": "v",
         "showlegend": true,
         "type": "scatter",
         "x": [
          1,
          2,
          3,
          4,
          5,
          6,
          7,
          8,
          9,
          10,
          11,
          12
         ],
         "xaxis": "x",
         "y": [
          null,
          null,
          null,
          null,
          null,
          null,
          null,
          null,
          null,
          null,
          null,
          null
         ],
         "yaxis": "y"
        },
        {
         "hovertemplate": "Weather Station=rossonwye<br>Month=%{x}<br>Minimum Temperature (°C)=%{y}<extra></extra>",
         "legendgroup": "rossonwye",
         "line": {
          "color": "rgb(29, 105, 150)",
          "dash": "solid"
         },
         "marker": {
          "symbol": "circle"
         },
         "mode": "lines",
         "name": "rossonwye",
         "orientation": "v",
         "showlegend": true,
         "type": "scatter",
         "x": [
          1,
          2,
          3,
          4,
          5,
          6,
          7,
          8,
          9,
          10,
          11,
          12
         ],
         "xaxis": "x",
         "y": [
          1.7,
          1.8,
          4.9,
          null,
          6.8,
          10.8,
          13.4,
          13.2,
          10.7,
          7.1,
          4.1,
          3.2
         ],
         "yaxis": "y"
        },
        {
         "hovertemplate": "Weather Station=shawbury<br>Month=%{x}<br>Minimum Temperature (°C)=%{y}<extra></extra>",
         "legendgroup": "shawbury",
         "line": {
          "color": "rgb(56, 166, 165)",
          "dash": "solid"
         },
         "marker": {
          "symbol": "circle"
         },
         "mode": "lines",
         "name": "shawbury",
         "orientation": "v",
         "showlegend": true,
         "type": "scatter",
         "x": [
          1,
          2,
          3,
          4,
          5,
          6,
          7,
          8,
          9,
          10,
          11,
          12
         ],
         "xaxis": "x",
         "y": [
          0.7,
          1.2,
          3.6,
          3.9,
          6.1,
          9.9,
          12.5,
          12.9,
          9.5,
          5.8,
          3.5,
          2.2
         ],
         "yaxis": "y"
        },
        {
         "hovertemplate": "Weather Station=sheffield<br>Month=%{x}<br>Minimum Temperature (°C)=%{y}<extra></extra>",
         "legendgroup": "sheffield",
         "line": {
          "color": "rgb(15, 133, 84)",
          "dash": "solid"
         },
         "marker": {
          "symbol": "circle"
         },
         "mode": "lines",
         "name": "sheffield",
         "orientation": "v",
         "showlegend": true,
         "type": "scatter",
         "x": [
          1,
          2,
          3,
          4,
          5,
          6,
          7,
          8,
          9,
          10,
          11,
          12
         ],
         "xaxis": "x",
         "y": [
          2.8,
          3.2,
          4.7,
          4.4,
          7.8,
          10.5,
          14.1,
          13.7,
          10.5,
          6.7,
          3.9,
          3.5
         ],
         "yaxis": "y"
        },
        {
         "hovertemplate": "Weather Station=stornoway<br>Month=%{x}<br>Minimum Temperature (°C)=%{y}<extra></extra>",
         "legendgroup": "stornoway",
         "line": {
          "color": "rgb(115, 175, 72)",
          "dash": "solid"
         },
         "marker": {
          "symbol": "circle"
         },
         "mode": "lines",
         "name": "stornoway",
         "orientation": "v",
         "showlegend": true,
         "type": "scatter",
         "x": [
          1,
          2,
          3,
          4,
          5,
          6,
          7,
          8,
          9,
          10,
          11,
          12
         ],
         "xaxis": "x",
         "y": [
          1.6,
          4.1,
          3.8,
          5.8,
          5.8,
          9.2,
          12.2,
          11.7,
          9.5,
          6.7,
          4,
          3.5
         ],
         "yaxis": "y"
        },
        {
         "hovertemplate": "Weather Station=tiree<br>Month=%{x}<br>Minimum Temperature (°C)=%{y}<extra></extra>",
         "legendgroup": "tiree",
         "line": {
          "color": "rgb(237, 173, 8)",
          "dash": "solid"
         },
         "marker": {
          "symbol": "circle"
         },
         "mode": "lines",
         "name": "tiree",
         "orientation": "v",
         "showlegend": true,
         "type": "scatter",
         "x": [
          1,
          2,
          3,
          4,
          5,
          6,
          7,
          8,
          9,
          10,
          11,
          12
         ],
         "xaxis": "x",
         "y": [
          4.1,
          5,
          null,
          6.2,
          6.4,
          10,
          12.5,
          12.2,
          10.8,
          7.7,
          4.2,
          5
         ],
         "yaxis": "y"
        },
        {
         "hovertemplate": "Weather Station=valley<br>Month=%{x}<br>Minimum Temperature (°C)=%{y}<extra></extra>",
         "legendgroup": "valley",
         "line": {
          "color": "rgb(225, 124, 5)",
          "dash": "solid"
         },
         "marker": {
          "symbol": "circle"
         },
         "mode": "lines",
         "name": "valley",
         "orientation": "v",
         "showlegend": true,
         "type": "scatter",
         "x": [
          1,
          2,
          3,
          4,
          5,
          6,
          7,
          8,
          9,
          10,
          11,
          12
         ],
         "xaxis": "x",
         "y": [
          4.4,
          5.3,
          5.9,
          6.5,
          8.1,
          11.3,
          13.6,
          14.1,
          11.6,
          8.5,
          5.1,
          5.8
         ],
         "yaxis": "y"
        },
        {
         "hovertemplate": "Weather Station=waddington<br>Month=%{x}<br>Minimum Temperature (°C)=%{y}<extra></extra>",
         "legendgroup": "waddington",
         "line": {
          "color": "rgb(204, 80, 62)",
          "dash": "solid"
         },
         "marker": {
          "symbol": "circle"
         },
         "mode": "lines",
         "name": "waddington",
         "orientation": "v",
         "showlegend": true,
         "type": "scatter",
         "x": [
          1,
          2,
          3,
          4,
          5,
          6,
          7,
          8,
          9,
          10,
          11,
          12
         ],
         "xaxis": "x",
         "y": [
          1.5,
          2.2,
          4.5,
          3.7,
          7.1,
          10.5,
          14,
          13.5,
          10.6,
          6.8,
          4.1,
          3.1
         ],
         "yaxis": "y"
        },
        {
         "hovertemplate": "Weather Station=whitby<br>Month=%{x}<br>Minimum Temperature (°C)=%{y}<extra></extra>",
         "legendgroup": "whitby",
         "line": {
          "color": "rgb(148, 52, 110)",
          "dash": "solid"
         },
         "marker": {
          "symbol": "circle"
         },
         "mode": "lines",
         "name": "whitby",
         "orientation": "v",
         "showlegend": true,
         "type": "scatter",
         "x": [
          1,
          2,
          3,
          4,
          5,
          6,
          7,
          8,
          9,
          10,
          11,
          12
         ],
         "xaxis": "x",
         "y": [
          2.1,
          3.1,
          4.3,
          4.2,
          7.1,
          10.2,
          13.4,
          13.1,
          10.1,
          6.5,
          4.7,
          3.2
         ],
         "yaxis": "y"
        },
        {
         "hovertemplate": "Weather Station=wickairport<br>Month=%{x}<br>Minimum Temperature (°C)=%{y}<extra></extra>",
         "legendgroup": "wickairport",
         "line": {
          "color": "rgb(111, 64, 112)",
          "dash": "solid"
         },
         "marker": {
          "symbol": "circle"
         },
         "mode": "lines",
         "name": "wickairport",
         "orientation": "v",
         "showlegend": true,
         "type": "scatter",
         "x": [
          1,
          2,
          3,
          4,
          5,
          6,
          7,
          8,
          9,
          10,
          11,
          12
         ],
         "xaxis": "x",
         "y": [
          1.3,
          3.3,
          3.3,
          5.8,
          4.6,
          8.9,
          11.3,
          11.2,
          8.8,
          5.8,
          3.8,
          2.6
         ],
         "yaxis": "y"
        },
        {
         "hovertemplate": "Weather Station=yeovilton<br>Month=%{x}<br>Minimum Temperature (°C)=%{y}<extra></extra>",
         "legendgroup": "yeovilton",
         "line": {
          "color": "rgb(102, 102, 102)",
          "dash": "solid"
         },
         "marker": {
          "symbol": "circle"
         },
         "mode": "lines",
         "name": "yeovilton",
         "orientation": "v",
         "showlegend": true,
         "type": "scatter",
         "x": [
          1,
          2,
          3,
          4,
          5,
          6,
          7,
          8,
          9,
          10,
          11,
          12
         ],
         "xaxis": "x",
         "y": [
          1,
          1.9,
          4.8,
          4.7,
          6.1,
          10.4,
          12.6,
          12.4,
          11,
          7.6,
          4.3,
          3.2
         ],
         "yaxis": "y"
        }
       ],
       "layout": {
        "legend": {
         "title": {
          "text": "Weather Station"
         },
         "tracegroupgap": 0
        },
        "template": {
         "data": {
          "bar": [
           {
            "error_x": {
             "color": "#2a3f5f"
            },
            "error_y": {
             "color": "#2a3f5f"
            },
            "marker": {
             "line": {
              "color": "#E5ECF6",
              "width": 0.5
             },
             "pattern": {
              "fillmode": "overlay",
              "size": 10,
              "solidity": 0.2
             }
            },
            "type": "bar"
           }
          ],
          "barpolar": [
           {
            "marker": {
             "line": {
              "color": "#E5ECF6",
              "width": 0.5
             },
             "pattern": {
              "fillmode": "overlay",
              "size": 10,
              "solidity": 0.2
             }
            },
            "type": "barpolar"
           }
          ],
          "carpet": [
           {
            "aaxis": {
             "endlinecolor": "#2a3f5f",
             "gridcolor": "white",
             "linecolor": "white",
             "minorgridcolor": "white",
             "startlinecolor": "#2a3f5f"
            },
            "baxis": {
             "endlinecolor": "#2a3f5f",
             "gridcolor": "white",
             "linecolor": "white",
             "minorgridcolor": "white",
             "startlinecolor": "#2a3f5f"
            },
            "type": "carpet"
           }
          ],
          "choropleth": [
           {
            "colorbar": {
             "outlinewidth": 0,
             "ticks": ""
            },
            "type": "choropleth"
           }
          ],
          "contour": [
           {
            "colorbar": {
             "outlinewidth": 0,
             "ticks": ""
            },
            "colorscale": [
             [
              0,
              "#0d0887"
             ],
             [
              0.1111111111111111,
              "#46039f"
             ],
             [
              0.2222222222222222,
              "#7201a8"
             ],
             [
              0.3333333333333333,
              "#9c179e"
             ],
             [
              0.4444444444444444,
              "#bd3786"
             ],
             [
              0.5555555555555556,
              "#d8576b"
             ],
             [
              0.6666666666666666,
              "#ed7953"
             ],
             [
              0.7777777777777778,
              "#fb9f3a"
             ],
             [
              0.8888888888888888,
              "#fdca26"
             ],
             [
              1,
              "#f0f921"
             ]
            ],
            "type": "contour"
           }
          ],
          "contourcarpet": [
           {
            "colorbar": {
             "outlinewidth": 0,
             "ticks": ""
            },
            "type": "contourcarpet"
           }
          ],
          "heatmap": [
           {
            "colorbar": {
             "outlinewidth": 0,
             "ticks": ""
            },
            "colorscale": [
             [
              0,
              "#0d0887"
             ],
             [
              0.1111111111111111,
              "#46039f"
             ],
             [
              0.2222222222222222,
              "#7201a8"
             ],
             [
              0.3333333333333333,
              "#9c179e"
             ],
             [
              0.4444444444444444,
              "#bd3786"
             ],
             [
              0.5555555555555556,
              "#d8576b"
             ],
             [
              0.6666666666666666,
              "#ed7953"
             ],
             [
              0.7777777777777778,
              "#fb9f3a"
             ],
             [
              0.8888888888888888,
              "#fdca26"
             ],
             [
              1,
              "#f0f921"
             ]
            ],
            "type": "heatmap"
           }
          ],
          "heatmapgl": [
           {
            "colorbar": {
             "outlinewidth": 0,
             "ticks": ""
            },
            "colorscale": [
             [
              0,
              "#0d0887"
             ],
             [
              0.1111111111111111,
              "#46039f"
             ],
             [
              0.2222222222222222,
              "#7201a8"
             ],
             [
              0.3333333333333333,
              "#9c179e"
             ],
             [
              0.4444444444444444,
              "#bd3786"
             ],
             [
              0.5555555555555556,
              "#d8576b"
             ],
             [
              0.6666666666666666,
              "#ed7953"
             ],
             [
              0.7777777777777778,
              "#fb9f3a"
             ],
             [
              0.8888888888888888,
              "#fdca26"
             ],
             [
              1,
              "#f0f921"
             ]
            ],
            "type": "heatmapgl"
           }
          ],
          "histogram": [
           {
            "marker": {
             "pattern": {
              "fillmode": "overlay",
              "size": 10,
              "solidity": 0.2
             }
            },
            "type": "histogram"
           }
          ],
          "histogram2d": [
           {
            "colorbar": {
             "outlinewidth": 0,
             "ticks": ""
            },
            "colorscale": [
             [
              0,
              "#0d0887"
             ],
             [
              0.1111111111111111,
              "#46039f"
             ],
             [
              0.2222222222222222,
              "#7201a8"
             ],
             [
              0.3333333333333333,
              "#9c179e"
             ],
             [
              0.4444444444444444,
              "#bd3786"
             ],
             [
              0.5555555555555556,
              "#d8576b"
             ],
             [
              0.6666666666666666,
              "#ed7953"
             ],
             [
              0.7777777777777778,
              "#fb9f3a"
             ],
             [
              0.8888888888888888,
              "#fdca26"
             ],
             [
              1,
              "#f0f921"
             ]
            ],
            "type": "histogram2d"
           }
          ],
          "histogram2dcontour": [
           {
            "colorbar": {
             "outlinewidth": 0,
             "ticks": ""
            },
            "colorscale": [
             [
              0,
              "#0d0887"
             ],
             [
              0.1111111111111111,
              "#46039f"
             ],
             [
              0.2222222222222222,
              "#7201a8"
             ],
             [
              0.3333333333333333,
              "#9c179e"
             ],
             [
              0.4444444444444444,
              "#bd3786"
             ],
             [
              0.5555555555555556,
              "#d8576b"
             ],
             [
              0.6666666666666666,
              "#ed7953"
             ],
             [
              0.7777777777777778,
              "#fb9f3a"
             ],
             [
              0.8888888888888888,
              "#fdca26"
             ],
             [
              1,
              "#f0f921"
             ]
            ],
            "type": "histogram2dcontour"
           }
          ],
          "mesh3d": [
           {
            "colorbar": {
             "outlinewidth": 0,
             "ticks": ""
            },
            "type": "mesh3d"
           }
          ],
          "parcoords": [
           {
            "line": {
             "colorbar": {
              "outlinewidth": 0,
              "ticks": ""
             }
            },
            "type": "parcoords"
           }
          ],
          "pie": [
           {
            "automargin": true,
            "type": "pie"
           }
          ],
          "scatter": [
           {
            "fillpattern": {
             "fillmode": "overlay",
             "size": 10,
             "solidity": 0.2
            },
            "type": "scatter"
           }
          ],
          "scatter3d": [
           {
            "line": {
             "colorbar": {
              "outlinewidth": 0,
              "ticks": ""
             }
            },
            "marker": {
             "colorbar": {
              "outlinewidth": 0,
              "ticks": ""
             }
            },
            "type": "scatter3d"
           }
          ],
          "scattercarpet": [
           {
            "marker": {
             "colorbar": {
              "outlinewidth": 0,
              "ticks": ""
             }
            },
            "type": "scattercarpet"
           }
          ],
          "scattergeo": [
           {
            "marker": {
             "colorbar": {
              "outlinewidth": 0,
              "ticks": ""
             }
            },
            "type": "scattergeo"
           }
          ],
          "scattergl": [
           {
            "marker": {
             "colorbar": {
              "outlinewidth": 0,
              "ticks": ""
             }
            },
            "type": "scattergl"
           }
          ],
          "scattermapbox": [
           {
            "marker": {
             "colorbar": {
              "outlinewidth": 0,
              "ticks": ""
             }
            },
            "type": "scattermapbox"
           }
          ],
          "scatterpolar": [
           {
            "marker": {
             "colorbar": {
              "outlinewidth": 0,
              "ticks": ""
             }
            },
            "type": "scatterpolar"
           }
          ],
          "scatterpolargl": [
           {
            "marker": {
             "colorbar": {
              "outlinewidth": 0,
              "ticks": ""
             }
            },
            "type": "scatterpolargl"
           }
          ],
          "scatterternary": [
           {
            "marker": {
             "colorbar": {
              "outlinewidth": 0,
              "ticks": ""
             }
            },
            "type": "scatterternary"
           }
          ],
          "surface": [
           {
            "colorbar": {
             "outlinewidth": 0,
             "ticks": ""
            },
            "colorscale": [
             [
              0,
              "#0d0887"
             ],
             [
              0.1111111111111111,
              "#46039f"
             ],
             [
              0.2222222222222222,
              "#7201a8"
             ],
             [
              0.3333333333333333,
              "#9c179e"
             ],
             [
              0.4444444444444444,
              "#bd3786"
             ],
             [
              0.5555555555555556,
              "#d8576b"
             ],
             [
              0.6666666666666666,
              "#ed7953"
             ],
             [
              0.7777777777777778,
              "#fb9f3a"
             ],
             [
              0.8888888888888888,
              "#fdca26"
             ],
             [
              1,
              "#f0f921"
             ]
            ],
            "type": "surface"
           }
          ],
          "table": [
           {
            "cells": {
             "fill": {
              "color": "#EBF0F8"
             },
             "line": {
              "color": "white"
             }
            },
            "header": {
             "fill": {
              "color": "#C8D4E3"
             },
             "line": {
              "color": "white"
             }
            },
            "type": "table"
           }
          ]
         },
         "layout": {
          "annotationdefaults": {
           "arrowcolor": "#2a3f5f",
           "arrowhead": 0,
           "arrowwidth": 1
          },
          "autotypenumbers": "strict",
          "coloraxis": {
           "colorbar": {
            "outlinewidth": 0,
            "ticks": ""
           }
          },
          "colorscale": {
           "diverging": [
            [
             0,
             "#8e0152"
            ],
            [
             0.1,
             "#c51b7d"
            ],
            [
             0.2,
             "#de77ae"
            ],
            [
             0.3,
             "#f1b6da"
            ],
            [
             0.4,
             "#fde0ef"
            ],
            [
             0.5,
             "#f7f7f7"
            ],
            [
             0.6,
             "#e6f5d0"
            ],
            [
             0.7,
             "#b8e186"
            ],
            [
             0.8,
             "#7fbc41"
            ],
            [
             0.9,
             "#4d9221"
            ],
            [
             1,
             "#276419"
            ]
           ],
           "sequential": [
            [
             0,
             "#0d0887"
            ],
            [
             0.1111111111111111,
             "#46039f"
            ],
            [
             0.2222222222222222,
             "#7201a8"
            ],
            [
             0.3333333333333333,
             "#9c179e"
            ],
            [
             0.4444444444444444,
             "#bd3786"
            ],
            [
             0.5555555555555556,
             "#d8576b"
            ],
            [
             0.6666666666666666,
             "#ed7953"
            ],
            [
             0.7777777777777778,
             "#fb9f3a"
            ],
            [
             0.8888888888888888,
             "#fdca26"
            ],
            [
             1,
             "#f0f921"
            ]
           ],
           "sequentialminus": [
            [
             0,
             "#0d0887"
            ],
            [
             0.1111111111111111,
             "#46039f"
            ],
            [
             0.2222222222222222,
             "#7201a8"
            ],
            [
             0.3333333333333333,
             "#9c179e"
            ],
            [
             0.4444444444444444,
             "#bd3786"
            ],
            [
             0.5555555555555556,
             "#d8576b"
            ],
            [
             0.6666666666666666,
             "#ed7953"
            ],
            [
             0.7777777777777778,
             "#fb9f3a"
            ],
            [
             0.8888888888888888,
             "#fdca26"
            ],
            [
             1,
             "#f0f921"
            ]
           ]
          },
          "colorway": [
           "#636efa",
           "#EF553B",
           "#00cc96",
           "#ab63fa",
           "#FFA15A",
           "#19d3f3",
           "#FF6692",
           "#B6E880",
           "#FF97FF",
           "#FECB52"
          ],
          "font": {
           "color": "#2a3f5f"
          },
          "geo": {
           "bgcolor": "white",
           "lakecolor": "white",
           "landcolor": "#E5ECF6",
           "showlakes": true,
           "showland": true,
           "subunitcolor": "white"
          },
          "hoverlabel": {
           "align": "left"
          },
          "hovermode": "closest",
          "mapbox": {
           "style": "light"
          },
          "paper_bgcolor": "white",
          "plot_bgcolor": "#E5ECF6",
          "polar": {
           "angularaxis": {
            "gridcolor": "white",
            "linecolor": "white",
            "ticks": ""
           },
           "bgcolor": "#E5ECF6",
           "radialaxis": {
            "gridcolor": "white",
            "linecolor": "white",
            "ticks": ""
           }
          },
          "scene": {
           "xaxis": {
            "backgroundcolor": "#E5ECF6",
            "gridcolor": "white",
            "gridwidth": 2,
            "linecolor": "white",
            "showbackground": true,
            "ticks": "",
            "zerolinecolor": "white"
           },
           "yaxis": {
            "backgroundcolor": "#E5ECF6",
            "gridcolor": "white",
            "gridwidth": 2,
            "linecolor": "white",
            "showbackground": true,
            "ticks": "",
            "zerolinecolor": "white"
           },
           "zaxis": {
            "backgroundcolor": "#E5ECF6",
            "gridcolor": "white",
            "gridwidth": 2,
            "linecolor": "white",
            "showbackground": true,
            "ticks": "",
            "zerolinecolor": "white"
           }
          },
          "shapedefaults": {
           "line": {
            "color": "#2a3f5f"
           }
          },
          "ternary": {
           "aaxis": {
            "gridcolor": "white",
            "linecolor": "white",
            "ticks": ""
           },
           "baxis": {
            "gridcolor": "white",
            "linecolor": "white",
            "ticks": ""
           },
           "bgcolor": "#E5ECF6",
           "caxis": {
            "gridcolor": "white",
            "linecolor": "white",
            "ticks": ""
           }
          },
          "title": {
           "x": 0.05
          },
          "xaxis": {
           "automargin": true,
           "gridcolor": "white",
           "linecolor": "white",
           "ticks": "",
           "title": {
            "standoff": 15
           },
           "zerolinecolor": "white",
           "zerolinewidth": 2
          },
          "yaxis": {
           "automargin": true,
           "gridcolor": "white",
           "linecolor": "white",
           "ticks": "",
           "title": {
            "standoff": 15
           },
           "zerolinecolor": "white",
           "zerolinewidth": 2
          }
         }
        },
        "title": {
         "text": "Minimum Temperatures in 2019"
        },
        "xaxis": {
         "anchor": "y",
         "domain": [
          0,
          1
         ],
         "title": {
          "text": "Month"
         }
        },
        "yaxis": {
         "anchor": "x",
         "domain": [
          0,
          1
         ],
         "title": {
          "text": "Minimum Temperature (°C)"
         }
        }
       }
      }
     },
     "metadata": {},
     "output_type": "display_data"
    }
   ],
   "source": [
    "# plotting min temps\n",
    "fig = px.line(temps_2019, x = 'month', y = 'tmin', color = 'station', \n",
    "              color_discrete_sequence = px.colors.qualitative.Prism,\n",
    "              title = 'Minimum Temperatures in 2019', \n",
    "              labels = {'tmin':'Minimum Temperature (°C)', 'month':'Month', 'station':'Weather Station'})\n",
    "fig.show()"
   ]
  },
  {
   "cell_type": "code",
   "execution_count": 9,
   "metadata": {},
   "outputs": [
    {
     "data": {
      "application/vnd.plotly.v1+json": {
       "config": {
        "plotlyServerURL": "https://plot.ly"
       },
       "data": [
        {
         "hovertemplate": "Weather Station=aberporth<br>Month=%{x}<br>Total Rainfall (mm)=%{y}<extra></extra>",
         "legendgroup": "aberporth",
         "line": {
          "color": "rgb(95, 70, 144)",
          "dash": "solid"
         },
         "marker": {
          "symbol": "circle"
         },
         "mode": "lines",
         "name": "aberporth",
         "orientation": "v",
         "showlegend": true,
         "type": "scatter",
         "x": [
          1,
          2,
          3,
          4,
          5,
          6,
          7,
          8,
          9,
          10,
          11,
          12
         ],
         "xaxis": "x",
         "y": [
          53.8,
          52.8,
          83,
          74.4,
          15,
          138.2,
          21.6,
          69.4,
          103,
          138.2,
          155.2,
          126.6
         ],
         "yaxis": "y"
        },
        {
         "hovertemplate": "Weather Station=armagh<br>Month=%{x}<br>Total Rainfall (mm)=%{y}<extra></extra>",
         "legendgroup": "armagh",
         "line": {
          "color": "rgb(29, 105, 150)",
          "dash": "solid"
         },
         "marker": {
          "symbol": "circle"
         },
         "mode": "lines",
         "name": "armagh",
         "orientation": "v",
         "showlegend": true,
         "type": "scatter",
         "x": [
          1,
          2,
          3,
          4,
          5,
          6,
          7,
          8,
          9,
          10,
          11,
          12
         ],
         "xaxis": "x",
         "y": [
          24.6,
          50,
          null,
          54.2,
          41.8,
          104.8,
          55.8,
          125.2,
          79.6,
          69.4,
          84.8,
          74.4
         ],
         "yaxis": "y"
        },
        {
         "hovertemplate": "Weather Station=ballypatrick<br>Month=%{x}<br>Total Rainfall (mm)=%{y}<extra></extra>",
         "legendgroup": "ballypatrick",
         "line": {
          "color": "rgb(56, 166, 165)",
          "dash": "solid"
         },
         "marker": {
          "symbol": "circle"
         },
         "mode": "lines",
         "name": "ballypatrick",
         "orientation": "v",
         "showlegend": true,
         "type": "scatter",
         "x": [
          1,
          2,
          3,
          4,
          5,
          6,
          7,
          8,
          9,
          10,
          11,
          12
         ],
         "xaxis": "x",
         "y": [
          67.6,
          58.8,
          157.4,
          84.6,
          58,
          100.6,
          122,
          184.4,
          83.8,
          116.4,
          174.4,
          132
         ],
         "yaxis": "y"
        },
        {
         "hovertemplate": "Weather Station=bradford<br>Month=%{x}<br>Total Rainfall (mm)=%{y}<extra></extra>",
         "legendgroup": "bradford",
         "line": {
          "color": "rgb(15, 133, 84)",
          "dash": "solid"
         },
         "marker": {
          "symbol": "circle"
         },
         "mode": "lines",
         "name": "bradford",
         "orientation": "v",
         "showlegend": true,
         "type": "scatter",
         "x": [
          1,
          2,
          3,
          4,
          5,
          6,
          7,
          8,
          9,
          10,
          11,
          12
         ],
         "xaxis": "x",
         "y": [
          22.6,
          31,
          128.6,
          24.6,
          44.4,
          97.8,
          97.4,
          82.8,
          132.4,
          155.4,
          140.6,
          73.8
         ],
         "yaxis": "y"
        },
        {
         "hovertemplate": "Weather Station=braemar<br>Month=%{x}<br>Total Rainfall (mm)=%{y}<extra></extra>",
         "legendgroup": "braemar",
         "line": {
          "color": "rgb(115, 175, 72)",
          "dash": "solid"
         },
         "marker": {
          "symbol": "circle"
         },
         "mode": "lines",
         "name": "braemar",
         "orientation": "v",
         "showlegend": true,
         "type": "scatter",
         "x": [
          1,
          2,
          3,
          4,
          5,
          6,
          7,
          8,
          9,
          10,
          11,
          12
         ],
         "xaxis": "x",
         "y": [
          50,
          46.8,
          118.6,
          53.8,
          125.5,
          74.4,
          70,
          100.2,
          54.2,
          64.2,
          122.4,
          93.4
         ],
         "yaxis": "y"
        },
        {
         "hovertemplate": "Weather Station=camborne<br>Month=%{x}<br>Total Rainfall (mm)=%{y}<extra></extra>",
         "legendgroup": "camborne",
         "line": {
          "color": "rgb(237, 173, 8)",
          "dash": "solid"
         },
         "marker": {
          "symbol": "circle"
         },
         "mode": "lines",
         "name": "camborne",
         "orientation": "v",
         "showlegend": true,
         "type": "scatter",
         "x": [
          1,
          2,
          3,
          4,
          5,
          6,
          7,
          8,
          9,
          10,
          11,
          12
         ],
         "xaxis": "x",
         "y": [
          78.8,
          72,
          101.8,
          81.8,
          18.6,
          84.4,
          54.2,
          95.8,
          122.2,
          196.2,
          219.6,
          133
         ],
         "yaxis": "y"
        },
        {
         "hovertemplate": "Weather Station=cambridge<br>Month=%{x}<br>Total Rainfall (mm)=%{y}<extra></extra>",
         "legendgroup": "cambridge",
         "line": {
          "color": "rgb(225, 124, 5)",
          "dash": "solid"
         },
         "marker": {
          "symbol": "circle"
         },
         "mode": "lines",
         "name": "cambridge",
         "orientation": "v",
         "showlegend": true,
         "type": "scatter",
         "x": [
          1,
          2,
          3,
          4,
          5,
          6,
          7,
          8,
          9,
          10,
          11,
          12
         ],
         "xaxis": "x",
         "y": [
          21.2,
          27.2,
          37.4,
          10.8,
          41.4,
          79.2,
          null,
          35.8,
          70.6,
          78,
          57,
          75.4
         ],
         "yaxis": "y"
        },
        {
         "hovertemplate": "Weather Station=cardiff<br>Month=%{x}<br>Total Rainfall (mm)=%{y}<extra></extra>",
         "legendgroup": "cardiff",
         "line": {
          "color": "rgb(204, 80, 62)",
          "dash": "solid"
         },
         "marker": {
          "symbol": "circle"
         },
         "mode": "lines",
         "name": "cardiff",
         "orientation": "v",
         "showlegend": true,
         "type": "scatter",
         "x": [
          1,
          2,
          3,
          4,
          5,
          6,
          7,
          8,
          9,
          10,
          11,
          12
         ],
         "xaxis": "x",
         "y": [
          43.4,
          77.4,
          139.6,
          null,
          37,
          84.6,
          83.6,
          137.4,
          159.8,
          235.8,
          158.2,
          null
         ],
         "yaxis": "y"
        },
        {
         "hovertemplate": "Weather Station=chivenor<br>Month=%{x}<br>Total Rainfall (mm)=%{y}<extra></extra>",
         "legendgroup": "chivenor",
         "line": {
          "color": "rgb(148, 52, 110)",
          "dash": "solid"
         },
         "marker": {
          "symbol": "circle"
         },
         "mode": "lines",
         "name": "chivenor",
         "orientation": "v",
         "showlegend": true,
         "type": "scatter",
         "x": [
          1,
          2,
          3,
          4,
          5,
          6,
          7,
          8,
          9,
          10,
          11,
          12
         ],
         "xaxis": "x",
         "y": [
          50.6,
          60.6,
          78.6,
          75,
          22.2,
          102.4,
          39.8,
          88.8,
          151.8,
          167,
          142.2,
          129.2
         ],
         "yaxis": "y"
        },
        {
         "hovertemplate": "Weather Station=dunstaffnage<br>Month=%{x}<br>Total Rainfall (mm)=%{y}<extra></extra>",
         "legendgroup": "dunstaffnage",
         "line": {
          "color": "rgb(111, 64, 112)",
          "dash": "solid"
         },
         "marker": {
          "symbol": "circle"
         },
         "mode": "lines",
         "name": "dunstaffnage",
         "orientation": "v",
         "showlegend": true,
         "type": "scatter",
         "x": [
          1,
          2,
          3,
          4,
          5,
          6,
          7,
          8,
          9,
          10,
          11,
          12
         ],
         "xaxis": "x",
         "y": [
          116.2,
          133,
          186.6,
          18.6,
          100,
          94,
          168.8,
          246.8,
          153.8,
          190.8,
          36.4,
          281.2
         ],
         "yaxis": "y"
        },
        {
         "hovertemplate": "Weather Station=durham<br>Month=%{x}<br>Total Rainfall (mm)=%{y}<extra></extra>",
         "legendgroup": "durham",
         "line": {
          "color": "rgb(102, 102, 102)",
          "dash": "solid"
         },
         "marker": {
          "symbol": "circle"
         },
         "mode": "lines",
         "name": "durham",
         "orientation": "v",
         "showlegend": true,
         "type": "scatter",
         "x": [
          1,
          2,
          3,
          4,
          5,
          6,
          7,
          8,
          9,
          10,
          11,
          12
         ],
         "xaxis": "x",
         "y": [
          12,
          30.6,
          52.8,
          30.2,
          37.2,
          108.4,
          70.2,
          81.2,
          84.2,
          88.4,
          106.6,
          29
         ],
         "yaxis": "y"
        },
        {
         "hovertemplate": "Weather Station=eastbourne<br>Month=%{x}<br>Total Rainfall (mm)=%{y}<extra></extra>",
         "legendgroup": "eastbourne",
         "line": {
          "color": "rgb(95, 70, 144)",
          "dash": "solid"
         },
         "marker": {
          "symbol": "circle"
         },
         "mode": "lines",
         "name": "eastbourne",
         "orientation": "v",
         "showlegend": true,
         "type": "scatter",
         "x": [
          1,
          2,
          3,
          4,
          5,
          6,
          7,
          8,
          9,
          10,
          11,
          12
         ],
         "xaxis": "x",
         "y": [
          null,
          null,
          null,
          null,
          null,
          null,
          null,
          null,
          null,
          null,
          null,
          null
         ],
         "yaxis": "y"
        },
        {
         "hovertemplate": "Weather Station=eskdalemuir<br>Month=%{x}<br>Total Rainfall (mm)=%{y}<extra></extra>",
         "legendgroup": "eskdalemuir",
         "line": {
          "color": "rgb(29, 105, 150)",
          "dash": "solid"
         },
         "marker": {
          "symbol": "circle"
         },
         "mode": "lines",
         "name": "eskdalemuir",
         "orientation": "v",
         "showlegend": true,
         "type": "scatter",
         "x": [
          1,
          2,
          3,
          4,
          5,
          6,
          7,
          8,
          9,
          10,
          11,
          12
         ],
         "xaxis": "x",
         "y": [
          65.2,
          162.4,
          263,
          54.8,
          78.6,
          111,
          134.8,
          225.2,
          188.6,
          117.6,
          114.4,
          182.6
         ],
         "yaxis": "y"
        },
        {
         "hovertemplate": "Weather Station=heathrow<br>Month=%{x}<br>Total Rainfall (mm)=%{y}<extra></extra>",
         "legendgroup": "heathrow",
         "line": {
          "color": "rgb(56, 166, 165)",
          "dash": "solid"
         },
         "marker": {
          "symbol": "circle"
         },
         "mode": "lines",
         "name": "heathrow",
         "orientation": "v",
         "showlegend": true,
         "type": "scatter",
         "x": [
          1,
          2,
          3,
          4,
          5,
          6,
          7,
          8,
          9,
          10,
          11,
          12
         ],
         "xaxis": "x",
         "y": [
          33.2,
          34.2,
          49.6,
          12.8,
          36,
          81.8,
          50.8,
          33.6,
          63,
          92.8,
          74.8,
          89.6
         ],
         "yaxis": "y"
        },
        {
         "hovertemplate": "Weather Station=hurn<br>Month=%{x}<br>Total Rainfall (mm)=%{y}<extra></extra>",
         "legendgroup": "hurn",
         "line": {
          "color": "rgb(15, 133, 84)",
          "dash": "solid"
         },
         "marker": {
          "symbol": "circle"
         },
         "mode": "lines",
         "name": "hurn",
         "orientation": "v",
         "showlegend": true,
         "type": "scatter",
         "x": [
          1,
          2,
          3,
          4,
          5,
          6,
          7,
          8,
          9,
          10,
          11,
          12
         ],
         "xaxis": "x",
         "y": [
          38.8,
          57.2,
          80,
          53,
          37,
          74.4,
          35,
          43.4,
          131.8,
          129.4,
          119.2,
          144.4
         ],
         "yaxis": "y"
        },
        {
         "hovertemplate": "Weather Station=lerwick<br>Month=%{x}<br>Total Rainfall (mm)=%{y}<extra></extra>",
         "legendgroup": "lerwick",
         "line": {
          "color": "rgb(115, 175, 72)",
          "dash": "solid"
         },
         "marker": {
          "symbol": "circle"
         },
         "mode": "lines",
         "name": "lerwick",
         "orientation": "v",
         "showlegend": true,
         "type": "scatter",
         "x": [
          1,
          2,
          3,
          4,
          5,
          6,
          7,
          8,
          9,
          10,
          11,
          12
         ],
         "xaxis": "x",
         "y": [
          136,
          83.4,
          131,
          53.4,
          60.8,
          92.2,
          75,
          85.8,
          77.2,
          110.4,
          62.6,
          163.4
         ],
         "yaxis": "y"
        },
        {
         "hovertemplate": "Weather Station=leuchars<br>Month=%{x}<br>Total Rainfall (mm)=%{y}<extra></extra>",
         "legendgroup": "leuchars",
         "line": {
          "color": "rgb(237, 173, 8)",
          "dash": "solid"
         },
         "marker": {
          "symbol": "circle"
         },
         "mode": "lines",
         "name": "leuchars",
         "orientation": "v",
         "showlegend": true,
         "type": "scatter",
         "x": [
          1,
          2,
          3,
          4,
          5,
          6,
          7,
          8,
          9,
          10,
          11,
          12
         ],
         "xaxis": "x",
         "y": [
          9.8,
          22.8,
          74.6,
          27.6,
          77.2,
          66.4,
          69.2,
          131,
          48.6,
          74.2,
          128,
          44.8
         ],
         "yaxis": "y"
        },
        {
         "hovertemplate": "Weather Station=lowestoft<br>Month=%{x}<br>Total Rainfall (mm)=%{y}<extra></extra>",
         "legendgroup": "lowestoft",
         "line": {
          "color": "rgb(225, 124, 5)",
          "dash": "solid"
         },
         "marker": {
          "symbol": "circle"
         },
         "mode": "lines",
         "name": "lowestoft",
         "orientation": "v",
         "showlegend": true,
         "type": "scatter",
         "x": [
          1,
          2,
          3,
          4,
          5,
          6,
          7,
          8,
          9,
          10,
          11,
          12
         ],
         "xaxis": "x",
         "y": [
          null,
          null,
          null,
          null,
          null,
          null,
          null,
          null,
          null,
          null,
          null,
          null
         ],
         "yaxis": "y"
        },
        {
         "hovertemplate": "Weather Station=manston<br>Month=%{x}<br>Total Rainfall (mm)=%{y}<extra></extra>",
         "legendgroup": "manston",
         "line": {
          "color": "rgb(204, 80, 62)",
          "dash": "solid"
         },
         "marker": {
          "symbol": "circle"
         },
         "mode": "lines",
         "name": "manston",
         "orientation": "v",
         "showlegend": true,
         "type": "scatter",
         "x": [
          1,
          2,
          3,
          4,
          5,
          6,
          7,
          8,
          9,
          10,
          11,
          12
         ],
         "xaxis": "x",
         "y": [
          29.4,
          21,
          44.8,
          20.4,
          39,
          63,
          39.2,
          22,
          29.6,
          101.2,
          88.6,
          79.2
         ],
         "yaxis": "y"
        },
        {
         "hovertemplate": "Weather Station=nairn<br>Month=%{x}<br>Total Rainfall (mm)=%{y}<extra></extra>",
         "legendgroup": "nairn",
         "line": {
          "color": "rgb(148, 52, 110)",
          "dash": "solid"
         },
         "marker": {
          "symbol": "circle"
         },
         "mode": "lines",
         "name": "nairn",
         "orientation": "v",
         "showlegend": true,
         "type": "scatter",
         "x": [
          1,
          2,
          3,
          4,
          5,
          6,
          7,
          8,
          9,
          10,
          11,
          12
         ],
         "xaxis": "x",
         "y": [
          null,
          null,
          null,
          null,
          null,
          null,
          null,
          null,
          null,
          null,
          null,
          null
         ],
         "yaxis": "y"
        },
        {
         "hovertemplate": "Weather Station=newtonrigg<br>Month=%{x}<br>Total Rainfall (mm)=%{y}<extra></extra>",
         "legendgroup": "newtonrigg",
         "line": {
          "color": "rgb(111, 64, 112)",
          "dash": "solid"
         },
         "marker": {
          "symbol": "circle"
         },
         "mode": "lines",
         "name": "newtonrigg",
         "orientation": "v",
         "showlegend": true,
         "type": "scatter",
         "x": [
          1,
          2,
          3,
          4,
          5,
          6,
          7,
          8,
          9,
          10,
          11,
          12
         ],
         "xaxis": "x",
         "y": [
          40.4,
          61.2,
          164,
          52.4,
          41.6,
          107.8,
          116,
          159.4,
          139.2,
          77.2,
          64.4,
          125.8
         ],
         "yaxis": "y"
        },
        {
         "hovertemplate": "Weather Station=oxford<br>Month=%{x}<br>Total Rainfall (mm)=%{y}<extra></extra>",
         "legendgroup": "oxford",
         "line": {
          "color": "rgb(102, 102, 102)",
          "dash": "solid"
         },
         "marker": {
          "symbol": "circle"
         },
         "mode": "lines",
         "name": "oxford",
         "orientation": "v",
         "showlegend": true,
         "type": "scatter",
         "x": [
          1,
          2,
          3,
          4,
          5,
          6,
          7,
          8,
          9,
          10,
          11,
          12
         ],
         "xaxis": "x",
         "y": [
          null,
          null,
          null,
          29.9,
          null,
          null,
          null,
          46.9,
          62.9,
          116.2,
          105.6,
          85.7
         ],
         "yaxis": "y"
        },
        {
         "hovertemplate": "Weather Station=paisley<br>Month=%{x}<br>Total Rainfall (mm)=%{y}<extra></extra>",
         "legendgroup": "paisley",
         "line": {
          "color": "rgb(95, 70, 144)",
          "dash": "solid"
         },
         "marker": {
          "symbol": "circle"
         },
         "mode": "lines",
         "name": "paisley",
         "orientation": "v",
         "showlegend": true,
         "type": "scatter",
         "x": [
          1,
          2,
          3,
          4,
          5,
          6,
          7,
          8,
          9,
          10,
          11,
          12
         ],
         "xaxis": "x",
         "y": [
          null,
          null,
          null,
          null,
          null,
          null,
          null,
          null,
          null,
          null,
          null,
          null
         ],
         "yaxis": "y"
        },
        {
         "hovertemplate": "Weather Station=rossonwye<br>Month=%{x}<br>Total Rainfall (mm)=%{y}<extra></extra>",
         "legendgroup": "rossonwye",
         "line": {
          "color": "rgb(29, 105, 150)",
          "dash": "solid"
         },
         "marker": {
          "symbol": "circle"
         },
         "mode": "lines",
         "name": "rossonwye",
         "orientation": "v",
         "showlegend": true,
         "type": "scatter",
         "x": [
          1,
          2,
          3,
          4,
          5,
          6,
          7,
          8,
          9,
          10,
          11,
          12
         ],
         "xaxis": "x",
         "y": [
          20,
          45.2,
          66.6,
          null,
          43.4,
          140,
          36.6,
          77.8,
          84,
          139.6,
          115.4,
          95
         ],
         "yaxis": "y"
        },
        {
         "hovertemplate": "Weather Station=shawbury<br>Month=%{x}<br>Total Rainfall (mm)=%{y}<extra></extra>",
         "legendgroup": "shawbury",
         "line": {
          "color": "rgb(56, 166, 165)",
          "dash": "solid"
         },
         "marker": {
          "symbol": "circle"
         },
         "mode": "lines",
         "name": "shawbury",
         "orientation": "v",
         "showlegend": true,
         "type": "scatter",
         "x": [
          1,
          2,
          3,
          4,
          5,
          6,
          7,
          8,
          9,
          10,
          11,
          12
         ],
         "xaxis": "x",
         "y": [
          35.2,
          32.8,
          53.4,
          38.4,
          26.8,
          115.4,
          39.2,
          76.4,
          120.6,
          116.6,
          78.8,
          69
         ],
         "yaxis": "y"
        },
        {
         "hovertemplate": "Weather Station=sheffield<br>Month=%{x}<br>Total Rainfall (mm)=%{y}<extra></extra>",
         "legendgroup": "sheffield",
         "line": {
          "color": "rgb(15, 133, 84)",
          "dash": "solid"
         },
         "marker": {
          "symbol": "circle"
         },
         "mode": "lines",
         "name": "sheffield",
         "orientation": "v",
         "showlegend": true,
         "type": "scatter",
         "x": [
          1,
          2,
          3,
          4,
          5,
          6,
          7,
          8,
          9,
          10,
          11,
          12
         ],
         "xaxis": "x",
         "y": [
          27.4,
          32.2,
          118.2,
          16.2,
          43.8,
          130.2,
          126,
          37.6,
          null,
          135.6,
          200,
          73
         ],
         "yaxis": "y"
        },
        {
         "hovertemplate": "Weather Station=stornoway<br>Month=%{x}<br>Total Rainfall (mm)=%{y}<extra></extra>",
         "legendgroup": "stornoway",
         "line": {
          "color": "rgb(115, 175, 72)",
          "dash": "solid"
         },
         "marker": {
          "symbol": "circle"
         },
         "mode": "lines",
         "name": "stornoway",
         "orientation": "v",
         "showlegend": true,
         "type": "scatter",
         "x": [
          1,
          2,
          3,
          4,
          5,
          6,
          7,
          8,
          9,
          10,
          11,
          12
         ],
         "xaxis": "x",
         "y": [
          121.4,
          127.2,
          142,
          44.2,
          61.2,
          77.8,
          90,
          200.4,
          87.6,
          123.8,
          54.8,
          136.8
         ],
         "yaxis": "y"
        },
        {
         "hovertemplate": "Weather Station=tiree<br>Month=%{x}<br>Total Rainfall (mm)=%{y}<extra></extra>",
         "legendgroup": "tiree",
         "line": {
          "color": "rgb(237, 173, 8)",
          "dash": "solid"
         },
         "marker": {
          "symbol": "circle"
         },
         "mode": "lines",
         "name": "tiree",
         "orientation": "v",
         "showlegend": true,
         "type": "scatter",
         "x": [
          1,
          2,
          3,
          4,
          5,
          6,
          7,
          8,
          9,
          10,
          11,
          12
         ],
         "xaxis": "x",
         "y": [
          75.8,
          102.6,
          null,
          16.8,
          91.2,
          59.4,
          133.8,
          186.4,
          86,
          134.4,
          82.8,
          209.2
         ],
         "yaxis": "y"
        },
        {
         "hovertemplate": "Weather Station=valley<br>Month=%{x}<br>Total Rainfall (mm)=%{y}<extra></extra>",
         "legendgroup": "valley",
         "line": {
          "color": "rgb(225, 124, 5)",
          "dash": "solid"
         },
         "marker": {
          "symbol": "circle"
         },
         "mode": "lines",
         "name": "valley",
         "orientation": "v",
         "showlegend": true,
         "type": "scatter",
         "x": [
          1,
          2,
          3,
          4,
          5,
          6,
          7,
          8,
          9,
          10,
          11,
          12
         ],
         "xaxis": "x",
         "y": [
          38.2,
          50.4,
          96,
          67.2,
          39.2,
          60.8,
          32.2,
          60.8,
          86.2,
          147.8,
          92.8,
          60.2
         ],
         "yaxis": "y"
        },
        {
         "hovertemplate": "Weather Station=waddington<br>Month=%{x}<br>Total Rainfall (mm)=%{y}<extra></extra>",
         "legendgroup": "waddington",
         "line": {
          "color": "rgb(204, 80, 62)",
          "dash": "solid"
         },
         "marker": {
          "symbol": "circle"
         },
         "mode": "lines",
         "name": "waddington",
         "orientation": "v",
         "showlegend": true,
         "type": "scatter",
         "x": [
          1,
          2,
          3,
          4,
          5,
          6,
          7,
          8,
          9,
          10,
          11,
          12
         ],
         "xaxis": "x",
         "y": [
          19.6,
          20.2,
          50,
          27,
          45.6,
          140.8,
          66.4,
          65.2,
          104.2,
          99.8,
          107.4,
          54.2
         ],
         "yaxis": "y"
        },
        {
         "hovertemplate": "Weather Station=whitby<br>Month=%{x}<br>Total Rainfall (mm)=%{y}<extra></extra>",
         "legendgroup": "whitby",
         "line": {
          "color": "rgb(148, 52, 110)",
          "dash": "solid"
         },
         "marker": {
          "symbol": "circle"
         },
         "mode": "lines",
         "name": "whitby",
         "orientation": "v",
         "showlegend": true,
         "type": "scatter",
         "x": [
          1,
          2,
          3,
          4,
          5,
          6,
          7,
          8,
          9,
          10,
          11,
          12
         ],
         "xaxis": "x",
         "y": [
          34.5,
          28.9,
          53.3,
          19.5,
          25.7,
          97.3,
          36,
          35.6,
          54.8,
          112.6,
          92.1,
          50.6
         ],
         "yaxis": "y"
        },
        {
         "hovertemplate": "Weather Station=wickairport<br>Month=%{x}<br>Total Rainfall (mm)=%{y}<extra></extra>",
         "legendgroup": "wickairport",
         "line": {
          "color": "rgb(111, 64, 112)",
          "dash": "solid"
         },
         "marker": {
          "symbol": "circle"
         },
         "mode": "lines",
         "name": "wickairport",
         "orientation": "v",
         "showlegend": true,
         "type": "scatter",
         "x": [
          1,
          2,
          3,
          4,
          5,
          6,
          7,
          8,
          9,
          10,
          11,
          12
         ],
         "xaxis": "x",
         "y": [
          62.6,
          44.4,
          64.2,
          32.8,
          51.4,
          63.6,
          62.6,
          92.4,
          52.4,
          69.2,
          115.2,
          52.8
         ],
         "yaxis": "y"
        },
        {
         "hovertemplate": "Weather Station=yeovilton<br>Month=%{x}<br>Total Rainfall (mm)=%{y}<extra></extra>",
         "legendgroup": "yeovilton",
         "line": {
          "color": "rgb(102, 102, 102)",
          "dash": "solid"
         },
         "marker": {
          "symbol": "circle"
         },
         "mode": "lines",
         "name": "yeovilton",
         "orientation": "v",
         "showlegend": true,
         "type": "scatter",
         "x": [
          1,
          2,
          3,
          4,
          5,
          6,
          7,
          8,
          9,
          10,
          11,
          12
         ],
         "xaxis": "x",
         "y": [
          33.8,
          47.2,
          66,
          49.4,
          17.6,
          69.2,
          14.8,
          38.4,
          83.8,
          112.4,
          87,
          139.4
         ],
         "yaxis": "y"
        }
       ],
       "layout": {
        "legend": {
         "title": {
          "text": "Weather Station"
         },
         "tracegroupgap": 0
        },
        "template": {
         "data": {
          "bar": [
           {
            "error_x": {
             "color": "#2a3f5f"
            },
            "error_y": {
             "color": "#2a3f5f"
            },
            "marker": {
             "line": {
              "color": "#E5ECF6",
              "width": 0.5
             },
             "pattern": {
              "fillmode": "overlay",
              "size": 10,
              "solidity": 0.2
             }
            },
            "type": "bar"
           }
          ],
          "barpolar": [
           {
            "marker": {
             "line": {
              "color": "#E5ECF6",
              "width": 0.5
             },
             "pattern": {
              "fillmode": "overlay",
              "size": 10,
              "solidity": 0.2
             }
            },
            "type": "barpolar"
           }
          ],
          "carpet": [
           {
            "aaxis": {
             "endlinecolor": "#2a3f5f",
             "gridcolor": "white",
             "linecolor": "white",
             "minorgridcolor": "white",
             "startlinecolor": "#2a3f5f"
            },
            "baxis": {
             "endlinecolor": "#2a3f5f",
             "gridcolor": "white",
             "linecolor": "white",
             "minorgridcolor": "white",
             "startlinecolor": "#2a3f5f"
            },
            "type": "carpet"
           }
          ],
          "choropleth": [
           {
            "colorbar": {
             "outlinewidth": 0,
             "ticks": ""
            },
            "type": "choropleth"
           }
          ],
          "contour": [
           {
            "colorbar": {
             "outlinewidth": 0,
             "ticks": ""
            },
            "colorscale": [
             [
              0,
              "#0d0887"
             ],
             [
              0.1111111111111111,
              "#46039f"
             ],
             [
              0.2222222222222222,
              "#7201a8"
             ],
             [
              0.3333333333333333,
              "#9c179e"
             ],
             [
              0.4444444444444444,
              "#bd3786"
             ],
             [
              0.5555555555555556,
              "#d8576b"
             ],
             [
              0.6666666666666666,
              "#ed7953"
             ],
             [
              0.7777777777777778,
              "#fb9f3a"
             ],
             [
              0.8888888888888888,
              "#fdca26"
             ],
             [
              1,
              "#f0f921"
             ]
            ],
            "type": "contour"
           }
          ],
          "contourcarpet": [
           {
            "colorbar": {
             "outlinewidth": 0,
             "ticks": ""
            },
            "type": "contourcarpet"
           }
          ],
          "heatmap": [
           {
            "colorbar": {
             "outlinewidth": 0,
             "ticks": ""
            },
            "colorscale": [
             [
              0,
              "#0d0887"
             ],
             [
              0.1111111111111111,
              "#46039f"
             ],
             [
              0.2222222222222222,
              "#7201a8"
             ],
             [
              0.3333333333333333,
              "#9c179e"
             ],
             [
              0.4444444444444444,
              "#bd3786"
             ],
             [
              0.5555555555555556,
              "#d8576b"
             ],
             [
              0.6666666666666666,
              "#ed7953"
             ],
             [
              0.7777777777777778,
              "#fb9f3a"
             ],
             [
              0.8888888888888888,
              "#fdca26"
             ],
             [
              1,
              "#f0f921"
             ]
            ],
            "type": "heatmap"
           }
          ],
          "heatmapgl": [
           {
            "colorbar": {
             "outlinewidth": 0,
             "ticks": ""
            },
            "colorscale": [
             [
              0,
              "#0d0887"
             ],
             [
              0.1111111111111111,
              "#46039f"
             ],
             [
              0.2222222222222222,
              "#7201a8"
             ],
             [
              0.3333333333333333,
              "#9c179e"
             ],
             [
              0.4444444444444444,
              "#bd3786"
             ],
             [
              0.5555555555555556,
              "#d8576b"
             ],
             [
              0.6666666666666666,
              "#ed7953"
             ],
             [
              0.7777777777777778,
              "#fb9f3a"
             ],
             [
              0.8888888888888888,
              "#fdca26"
             ],
             [
              1,
              "#f0f921"
             ]
            ],
            "type": "heatmapgl"
           }
          ],
          "histogram": [
           {
            "marker": {
             "pattern": {
              "fillmode": "overlay",
              "size": 10,
              "solidity": 0.2
             }
            },
            "type": "histogram"
           }
          ],
          "histogram2d": [
           {
            "colorbar": {
             "outlinewidth": 0,
             "ticks": ""
            },
            "colorscale": [
             [
              0,
              "#0d0887"
             ],
             [
              0.1111111111111111,
              "#46039f"
             ],
             [
              0.2222222222222222,
              "#7201a8"
             ],
             [
              0.3333333333333333,
              "#9c179e"
             ],
             [
              0.4444444444444444,
              "#bd3786"
             ],
             [
              0.5555555555555556,
              "#d8576b"
             ],
             [
              0.6666666666666666,
              "#ed7953"
             ],
             [
              0.7777777777777778,
              "#fb9f3a"
             ],
             [
              0.8888888888888888,
              "#fdca26"
             ],
             [
              1,
              "#f0f921"
             ]
            ],
            "type": "histogram2d"
           }
          ],
          "histogram2dcontour": [
           {
            "colorbar": {
             "outlinewidth": 0,
             "ticks": ""
            },
            "colorscale": [
             [
              0,
              "#0d0887"
             ],
             [
              0.1111111111111111,
              "#46039f"
             ],
             [
              0.2222222222222222,
              "#7201a8"
             ],
             [
              0.3333333333333333,
              "#9c179e"
             ],
             [
              0.4444444444444444,
              "#bd3786"
             ],
             [
              0.5555555555555556,
              "#d8576b"
             ],
             [
              0.6666666666666666,
              "#ed7953"
             ],
             [
              0.7777777777777778,
              "#fb9f3a"
             ],
             [
              0.8888888888888888,
              "#fdca26"
             ],
             [
              1,
              "#f0f921"
             ]
            ],
            "type": "histogram2dcontour"
           }
          ],
          "mesh3d": [
           {
            "colorbar": {
             "outlinewidth": 0,
             "ticks": ""
            },
            "type": "mesh3d"
           }
          ],
          "parcoords": [
           {
            "line": {
             "colorbar": {
              "outlinewidth": 0,
              "ticks": ""
             }
            },
            "type": "parcoords"
           }
          ],
          "pie": [
           {
            "automargin": true,
            "type": "pie"
           }
          ],
          "scatter": [
           {
            "fillpattern": {
             "fillmode": "overlay",
             "size": 10,
             "solidity": 0.2
            },
            "type": "scatter"
           }
          ],
          "scatter3d": [
           {
            "line": {
             "colorbar": {
              "outlinewidth": 0,
              "ticks": ""
             }
            },
            "marker": {
             "colorbar": {
              "outlinewidth": 0,
              "ticks": ""
             }
            },
            "type": "scatter3d"
           }
          ],
          "scattercarpet": [
           {
            "marker": {
             "colorbar": {
              "outlinewidth": 0,
              "ticks": ""
             }
            },
            "type": "scattercarpet"
           }
          ],
          "scattergeo": [
           {
            "marker": {
             "colorbar": {
              "outlinewidth": 0,
              "ticks": ""
             }
            },
            "type": "scattergeo"
           }
          ],
          "scattergl": [
           {
            "marker": {
             "colorbar": {
              "outlinewidth": 0,
              "ticks": ""
             }
            },
            "type": "scattergl"
           }
          ],
          "scattermapbox": [
           {
            "marker": {
             "colorbar": {
              "outlinewidth": 0,
              "ticks": ""
             }
            },
            "type": "scattermapbox"
           }
          ],
          "scatterpolar": [
           {
            "marker": {
             "colorbar": {
              "outlinewidth": 0,
              "ticks": ""
             }
            },
            "type": "scatterpolar"
           }
          ],
          "scatterpolargl": [
           {
            "marker": {
             "colorbar": {
              "outlinewidth": 0,
              "ticks": ""
             }
            },
            "type": "scatterpolargl"
           }
          ],
          "scatterternary": [
           {
            "marker": {
             "colorbar": {
              "outlinewidth": 0,
              "ticks": ""
             }
            },
            "type": "scatterternary"
           }
          ],
          "surface": [
           {
            "colorbar": {
             "outlinewidth": 0,
             "ticks": ""
            },
            "colorscale": [
             [
              0,
              "#0d0887"
             ],
             [
              0.1111111111111111,
              "#46039f"
             ],
             [
              0.2222222222222222,
              "#7201a8"
             ],
             [
              0.3333333333333333,
              "#9c179e"
             ],
             [
              0.4444444444444444,
              "#bd3786"
             ],
             [
              0.5555555555555556,
              "#d8576b"
             ],
             [
              0.6666666666666666,
              "#ed7953"
             ],
             [
              0.7777777777777778,
              "#fb9f3a"
             ],
             [
              0.8888888888888888,
              "#fdca26"
             ],
             [
              1,
              "#f0f921"
             ]
            ],
            "type": "surface"
           }
          ],
          "table": [
           {
            "cells": {
             "fill": {
              "color": "#EBF0F8"
             },
             "line": {
              "color": "white"
             }
            },
            "header": {
             "fill": {
              "color": "#C8D4E3"
             },
             "line": {
              "color": "white"
             }
            },
            "type": "table"
           }
          ]
         },
         "layout": {
          "annotationdefaults": {
           "arrowcolor": "#2a3f5f",
           "arrowhead": 0,
           "arrowwidth": 1
          },
          "autotypenumbers": "strict",
          "coloraxis": {
           "colorbar": {
            "outlinewidth": 0,
            "ticks": ""
           }
          },
          "colorscale": {
           "diverging": [
            [
             0,
             "#8e0152"
            ],
            [
             0.1,
             "#c51b7d"
            ],
            [
             0.2,
             "#de77ae"
            ],
            [
             0.3,
             "#f1b6da"
            ],
            [
             0.4,
             "#fde0ef"
            ],
            [
             0.5,
             "#f7f7f7"
            ],
            [
             0.6,
             "#e6f5d0"
            ],
            [
             0.7,
             "#b8e186"
            ],
            [
             0.8,
             "#7fbc41"
            ],
            [
             0.9,
             "#4d9221"
            ],
            [
             1,
             "#276419"
            ]
           ],
           "sequential": [
            [
             0,
             "#0d0887"
            ],
            [
             0.1111111111111111,
             "#46039f"
            ],
            [
             0.2222222222222222,
             "#7201a8"
            ],
            [
             0.3333333333333333,
             "#9c179e"
            ],
            [
             0.4444444444444444,
             "#bd3786"
            ],
            [
             0.5555555555555556,
             "#d8576b"
            ],
            [
             0.6666666666666666,
             "#ed7953"
            ],
            [
             0.7777777777777778,
             "#fb9f3a"
            ],
            [
             0.8888888888888888,
             "#fdca26"
            ],
            [
             1,
             "#f0f921"
            ]
           ],
           "sequentialminus": [
            [
             0,
             "#0d0887"
            ],
            [
             0.1111111111111111,
             "#46039f"
            ],
            [
             0.2222222222222222,
             "#7201a8"
            ],
            [
             0.3333333333333333,
             "#9c179e"
            ],
            [
             0.4444444444444444,
             "#bd3786"
            ],
            [
             0.5555555555555556,
             "#d8576b"
            ],
            [
             0.6666666666666666,
             "#ed7953"
            ],
            [
             0.7777777777777778,
             "#fb9f3a"
            ],
            [
             0.8888888888888888,
             "#fdca26"
            ],
            [
             1,
             "#f0f921"
            ]
           ]
          },
          "colorway": [
           "#636efa",
           "#EF553B",
           "#00cc96",
           "#ab63fa",
           "#FFA15A",
           "#19d3f3",
           "#FF6692",
           "#B6E880",
           "#FF97FF",
           "#FECB52"
          ],
          "font": {
           "color": "#2a3f5f"
          },
          "geo": {
           "bgcolor": "white",
           "lakecolor": "white",
           "landcolor": "#E5ECF6",
           "showlakes": true,
           "showland": true,
           "subunitcolor": "white"
          },
          "hoverlabel": {
           "align": "left"
          },
          "hovermode": "closest",
          "mapbox": {
           "style": "light"
          },
          "paper_bgcolor": "white",
          "plot_bgcolor": "#E5ECF6",
          "polar": {
           "angularaxis": {
            "gridcolor": "white",
            "linecolor": "white",
            "ticks": ""
           },
           "bgcolor": "#E5ECF6",
           "radialaxis": {
            "gridcolor": "white",
            "linecolor": "white",
            "ticks": ""
           }
          },
          "scene": {
           "xaxis": {
            "backgroundcolor": "#E5ECF6",
            "gridcolor": "white",
            "gridwidth": 2,
            "linecolor": "white",
            "showbackground": true,
            "ticks": "",
            "zerolinecolor": "white"
           },
           "yaxis": {
            "backgroundcolor": "#E5ECF6",
            "gridcolor": "white",
            "gridwidth": 2,
            "linecolor": "white",
            "showbackground": true,
            "ticks": "",
            "zerolinecolor": "white"
           },
           "zaxis": {
            "backgroundcolor": "#E5ECF6",
            "gridcolor": "white",
            "gridwidth": 2,
            "linecolor": "white",
            "showbackground": true,
            "ticks": "",
            "zerolinecolor": "white"
           }
          },
          "shapedefaults": {
           "line": {
            "color": "#2a3f5f"
           }
          },
          "ternary": {
           "aaxis": {
            "gridcolor": "white",
            "linecolor": "white",
            "ticks": ""
           },
           "baxis": {
            "gridcolor": "white",
            "linecolor": "white",
            "ticks": ""
           },
           "bgcolor": "#E5ECF6",
           "caxis": {
            "gridcolor": "white",
            "linecolor": "white",
            "ticks": ""
           }
          },
          "title": {
           "x": 0.05
          },
          "xaxis": {
           "automargin": true,
           "gridcolor": "white",
           "linecolor": "white",
           "ticks": "",
           "title": {
            "standoff": 15
           },
           "zerolinecolor": "white",
           "zerolinewidth": 2
          },
          "yaxis": {
           "automargin": true,
           "gridcolor": "white",
           "linecolor": "white",
           "ticks": "",
           "title": {
            "standoff": 15
           },
           "zerolinecolor": "white",
           "zerolinewidth": 2
          }
         }
        },
        "title": {
         "text": "Total Rainfall in 2019"
        },
        "xaxis": {
         "anchor": "y",
         "domain": [
          0,
          1
         ],
         "title": {
          "text": "Month"
         }
        },
        "yaxis": {
         "anchor": "x",
         "domain": [
          0,
          1
         ],
         "title": {
          "text": "Total Rainfall (mm)"
         }
        }
       }
      }
     },
     "metadata": {},
     "output_type": "display_data"
    }
   ],
   "source": [
    "# plotting rainfall\n",
    "fig = px.line(temps_2019, x = 'month', y = 'rain', color = 'station', \n",
    "              color_discrete_sequence = px.colors.qualitative.Prism,\n",
    "              title = 'Total Rainfall in 2019', \n",
    "              labels = {'rain':'Total Rainfall (mm)', 'month':'Month', 'station':'Weather Station'})\n",
    "fig.show()"
   ]
  },
  {
   "cell_type": "code",
   "execution_count": 11,
   "metadata": {},
   "outputs": [
    {
     "data": {
      "application/vnd.plotly.v1+json": {
       "config": {
        "plotlyServerURL": "https://plot.ly"
       },
       "data": [
        {
         "hovertemplate": "Weather Station=aberporth<br>Month=%{x}<br>Total Sunshine Duration (hours)=%{y}<extra></extra>",
         "legendgroup": "aberporth",
         "line": {
          "color": "rgb(95, 70, 144)",
          "dash": "solid"
         },
         "marker": {
          "symbol": "circle"
         },
         "mode": "lines",
         "name": "aberporth",
         "orientation": "v",
         "showlegend": true,
         "type": "scatter",
         "x": [
          1,
          2,
          3,
          4,
          5,
          6,
          7,
          8,
          9,
          10,
          11,
          12
         ],
         "xaxis": "x",
         "y": [
          31.9,
          110.5,
          121.4,
          145.8,
          224.1,
          165.6,
          208.9,
          192.4,
          159.7,
          78,
          45.4,
          41.8
         ],
         "yaxis": "y"
        },
        {
         "hovertemplate": "Weather Station=armagh<br>Month=%{x}<br>Total Sunshine Duration (hours)=%{y}<extra></extra>",
         "legendgroup": "armagh",
         "line": {
          "color": "rgb(29, 105, 150)",
          "dash": "solid"
         },
         "marker": {
          "symbol": "circle"
         },
         "mode": "lines",
         "name": "armagh",
         "orientation": "v",
         "showlegend": true,
         "type": "scatter",
         "x": [
          1,
          2,
          3,
          4,
          5,
          6,
          7,
          8,
          9,
          10,
          11,
          12
         ],
         "xaxis": "x",
         "y": [
          null,
          null,
          null,
          null,
          null,
          null,
          null,
          null,
          null,
          null,
          null,
          null
         ],
         "yaxis": "y"
        },
        {
         "hovertemplate": "Weather Station=ballypatrick<br>Month=%{x}<br>Total Sunshine Duration (hours)=%{y}<extra></extra>",
         "legendgroup": "ballypatrick",
         "line": {
          "color": "rgb(56, 166, 165)",
          "dash": "solid"
         },
         "marker": {
          "symbol": "circle"
         },
         "mode": "lines",
         "name": "ballypatrick",
         "orientation": "v",
         "showlegend": true,
         "type": "scatter",
         "x": [
          1,
          2,
          3,
          4,
          5,
          6,
          7,
          8,
          9,
          10,
          11,
          12
         ],
         "xaxis": "x",
         "y": [
          null,
          null,
          null,
          null,
          null,
          null,
          null,
          null,
          null,
          null,
          null,
          null
         ],
         "yaxis": "y"
        },
        {
         "hovertemplate": "Weather Station=bradford<br>Month=%{x}<br>Total Sunshine Duration (hours)=%{y}<extra></extra>",
         "legendgroup": "bradford",
         "line": {
          "color": "rgb(15, 133, 84)",
          "dash": "solid"
         },
         "marker": {
          "symbol": "circle"
         },
         "mode": "lines",
         "name": "bradford",
         "orientation": "v",
         "showlegend": true,
         "type": "scatter",
         "x": [
          1,
          2,
          3,
          4,
          5,
          6,
          7,
          8,
          9,
          10,
          11,
          12
         ],
         "xaxis": "x",
         "y": [
          null,
          null,
          null,
          null,
          null,
          null,
          null,
          null,
          null,
          null,
          null,
          null
         ],
         "yaxis": "y"
        },
        {
         "hovertemplate": "Weather Station=braemar<br>Month=%{x}<br>Total Sunshine Duration (hours)=%{y}<extra></extra>",
         "legendgroup": "braemar",
         "line": {
          "color": "rgb(115, 175, 72)",
          "dash": "solid"
         },
         "marker": {
          "symbol": "circle"
         },
         "mode": "lines",
         "name": "braemar",
         "orientation": "v",
         "showlegend": true,
         "type": "scatter",
         "x": [
          1,
          2,
          3,
          4,
          5,
          6,
          7,
          8,
          9,
          10,
          11,
          12
         ],
         "xaxis": "x",
         "y": [
          null,
          null,
          null,
          null,
          null,
          null,
          null,
          null,
          null,
          null,
          null,
          null
         ],
         "yaxis": "y"
        },
        {
         "hovertemplate": "Weather Station=camborne<br>Month=%{x}<br>Total Sunshine Duration (hours)=%{y}<extra></extra>",
         "legendgroup": "camborne",
         "line": {
          "color": "rgb(237, 173, 8)",
          "dash": "solid"
         },
         "marker": {
          "symbol": "circle"
         },
         "mode": "lines",
         "name": "camborne",
         "orientation": "v",
         "showlegend": true,
         "type": "scatter",
         "x": [
          1,
          2,
          3,
          4,
          5,
          6,
          7,
          8,
          9,
          10,
          11,
          12
         ],
         "xaxis": "x",
         "y": [
          25.4,
          118.5,
          150.6,
          159.3,
          219.5,
          162.8,
          225.6,
          161.1,
          140.7,
          85.6,
          34.7,
          38.2
         ],
         "yaxis": "y"
        },
        {
         "hovertemplate": "Weather Station=cambridge<br>Month=%{x}<br>Total Sunshine Duration (hours)=%{y}<extra></extra>",
         "legendgroup": "cambridge",
         "line": {
          "color": "rgb(225, 124, 5)",
          "dash": "solid"
         },
         "marker": {
          "symbol": "circle"
         },
         "mode": "lines",
         "name": "cambridge",
         "orientation": "v",
         "showlegend": true,
         "type": "scatter",
         "x": [
          1,
          2,
          3,
          4,
          5,
          6,
          7,
          8,
          9,
          10,
          11,
          12
         ],
         "xaxis": "x",
         "y": [
          null,
          null,
          null,
          null,
          null,
          null,
          null,
          null,
          null,
          null,
          null,
          null
         ],
         "yaxis": "y"
        },
        {
         "hovertemplate": "Weather Station=cardiff<br>Month=%{x}<br>Total Sunshine Duration (hours)=%{y}<extra></extra>",
         "legendgroup": "cardiff",
         "line": {
          "color": "rgb(204, 80, 62)",
          "dash": "solid"
         },
         "marker": {
          "symbol": "circle"
         },
         "mode": "lines",
         "name": "cardiff",
         "orientation": "v",
         "showlegend": true,
         "type": "scatter",
         "x": [
          1,
          2,
          3,
          4,
          5,
          6,
          7,
          8,
          9,
          10,
          11,
          12
         ],
         "xaxis": "x",
         "y": [
          null,
          null,
          null,
          null,
          null,
          null,
          null,
          null,
          null,
          null,
          null,
          null
         ],
         "yaxis": "y"
        },
        {
         "hovertemplate": "Weather Station=chivenor<br>Month=%{x}<br>Total Sunshine Duration (hours)=%{y}<extra></extra>",
         "legendgroup": "chivenor",
         "line": {
          "color": "rgb(148, 52, 110)",
          "dash": "solid"
         },
         "marker": {
          "symbol": "circle"
         },
         "mode": "lines",
         "name": "chivenor",
         "orientation": "v",
         "showlegend": true,
         "type": "scatter",
         "x": [
          1,
          2,
          3,
          4,
          5,
          6,
          7,
          8,
          9,
          10,
          11,
          12
         ],
         "xaxis": "x",
         "y": [
          null,
          null,
          null,
          null,
          null,
          null,
          null,
          null,
          null,
          null,
          null,
          null
         ],
         "yaxis": "y"
        },
        {
         "hovertemplate": "Weather Station=dunstaffnage<br>Month=%{x}<br>Total Sunshine Duration (hours)=%{y}<extra></extra>",
         "legendgroup": "dunstaffnage",
         "line": {
          "color": "rgb(111, 64, 112)",
          "dash": "solid"
         },
         "marker": {
          "symbol": "circle"
         },
         "mode": "lines",
         "name": "dunstaffnage",
         "orientation": "v",
         "showlegend": true,
         "type": "scatter",
         "x": [
          1,
          2,
          3,
          4,
          5,
          6,
          7,
          8,
          9,
          10,
          11,
          12
         ],
         "xaxis": "x",
         "y": [
          null,
          null,
          null,
          null,
          null,
          null,
          null,
          null,
          null,
          null,
          null,
          null
         ],
         "yaxis": "y"
        },
        {
         "hovertemplate": "Weather Station=durham<br>Month=%{x}<br>Total Sunshine Duration (hours)=%{y}<extra></extra>",
         "legendgroup": "durham",
         "line": {
          "color": "rgb(102, 102, 102)",
          "dash": "solid"
         },
         "marker": {
          "symbol": "circle"
         },
         "mode": "lines",
         "name": "durham",
         "orientation": "v",
         "showlegend": true,
         "type": "scatter",
         "x": [
          1,
          2,
          3,
          4,
          5,
          6,
          7,
          8,
          9,
          10,
          11,
          12
         ],
         "xaxis": "x",
         "y": [
          null,
          null,
          null,
          null,
          null,
          null,
          null,
          null,
          null,
          null,
          null,
          null
         ],
         "yaxis": "y"
        },
        {
         "hovertemplate": "Weather Station=eastbourne<br>Month=%{x}<br>Total Sunshine Duration (hours)=%{y}<extra></extra>",
         "legendgroup": "eastbourne",
         "line": {
          "color": "rgb(95, 70, 144)",
          "dash": "solid"
         },
         "marker": {
          "symbol": "circle"
         },
         "mode": "lines",
         "name": "eastbourne",
         "orientation": "v",
         "showlegend": true,
         "type": "scatter",
         "x": [
          1,
          2,
          3,
          4,
          5,
          6,
          7,
          8,
          9,
          10,
          11,
          12
         ],
         "xaxis": "x",
         "y": [
          null,
          null,
          null,
          null,
          null,
          null,
          null,
          null,
          null,
          null,
          null,
          null
         ],
         "yaxis": "y"
        },
        {
         "hovertemplate": "Weather Station=eskdalemuir<br>Month=%{x}<br>Total Sunshine Duration (hours)=%{y}<extra></extra>",
         "legendgroup": "eskdalemuir",
         "line": {
          "color": "rgb(29, 105, 150)",
          "dash": "solid"
         },
         "marker": {
          "symbol": "circle"
         },
         "mode": "lines",
         "name": "eskdalemuir",
         "orientation": "v",
         "showlegend": true,
         "type": "scatter",
         "x": [
          1,
          2,
          3,
          4,
          5,
          6,
          7,
          8,
          9,
          10,
          11,
          12
         ],
         "xaxis": "x",
         "y": [
          67.2,
          null,
          57.9,
          158.6,
          169.9,
          132.2,
          105.6,
          98.3,
          97,
          80.4,
          53.3,
          26.5
         ],
         "yaxis": "y"
        },
        {
         "hovertemplate": "Weather Station=heathrow<br>Month=%{x}<br>Total Sunshine Duration (hours)=%{y}<extra></extra>",
         "legendgroup": "heathrow",
         "line": {
          "color": "rgb(56, 166, 165)",
          "dash": "solid"
         },
         "marker": {
          "symbol": "circle"
         },
         "mode": "lines",
         "name": "heathrow",
         "orientation": "v",
         "showlegend": true,
         "type": "scatter",
         "x": [
          1,
          2,
          3,
          4,
          5,
          6,
          7,
          8,
          9,
          10,
          11,
          12
         ],
         "xaxis": "x",
         "y": [
          56.4,
          120.2,
          119,
          170.1,
          176.3,
          170.1,
          194.5,
          201.2,
          156.8,
          74,
          51.3,
          56.2
         ],
         "yaxis": "y"
        },
        {
         "hovertemplate": "Weather Station=hurn<br>Month=%{x}<br>Total Sunshine Duration (hours)=%{y}<extra></extra>",
         "legendgroup": "hurn",
         "line": {
          "color": "rgb(15, 133, 84)",
          "dash": "solid"
         },
         "marker": {
          "symbol": "circle"
         },
         "mode": "lines",
         "name": "hurn",
         "orientation": "v",
         "showlegend": true,
         "type": "scatter",
         "x": [
          1,
          2,
          3,
          4,
          5,
          6,
          7,
          8,
          9,
          10,
          11,
          12
         ],
         "xaxis": "x",
         "y": [
          60.6,
          106.2,
          117.3,
          198.1,
          209.8,
          174.3,
          246.7,
          207.3,
          154.6,
          68,
          55.6,
          60.1
         ],
         "yaxis": "y"
        },
        {
         "hovertemplate": "Weather Station=lerwick<br>Month=%{x}<br>Total Sunshine Duration (hours)=%{y}<extra></extra>",
         "legendgroup": "lerwick",
         "line": {
          "color": "rgb(115, 175, 72)",
          "dash": "solid"
         },
         "marker": {
          "symbol": "circle"
         },
         "mode": "lines",
         "name": "lerwick",
         "orientation": "v",
         "showlegend": true,
         "type": "scatter",
         "x": [
          1,
          2,
          3,
          4,
          5,
          6,
          7,
          8,
          9,
          10,
          11,
          12
         ],
         "xaxis": "x",
         "y": [
          37.6,
          50.2,
          106.2,
          153,
          163.3,
          103.5,
          115.4,
          94.4,
          108.2,
          84.3,
          58.1,
          18.5
         ],
         "yaxis": "y"
        },
        {
         "hovertemplate": "Weather Station=leuchars<br>Month=%{x}<br>Total Sunshine Duration (hours)=%{y}<extra></extra>",
         "legendgroup": "leuchars",
         "line": {
          "color": "rgb(237, 173, 8)",
          "dash": "solid"
         },
         "marker": {
          "symbol": "circle"
         },
         "mode": "lines",
         "name": "leuchars",
         "orientation": "v",
         "showlegend": true,
         "type": "scatter",
         "x": [
          1,
          2,
          3,
          4,
          5,
          6,
          7,
          8,
          9,
          10,
          11,
          12
         ],
         "xaxis": "x",
         "y": [
          77.1,
          84,
          145.6,
          184.7,
          163.3,
          183.8,
          157.6,
          165.2,
          138.6,
          103.3,
          52,
          49.5
         ],
         "yaxis": "y"
        },
        {
         "hovertemplate": "Weather Station=lowestoft<br>Month=%{x}<br>Total Sunshine Duration (hours)=%{y}<extra></extra>",
         "legendgroup": "lowestoft",
         "line": {
          "color": "rgb(225, 124, 5)",
          "dash": "solid"
         },
         "marker": {
          "symbol": "circle"
         },
         "mode": "lines",
         "name": "lowestoft",
         "orientation": "v",
         "showlegend": true,
         "type": "scatter",
         "x": [
          1,
          2,
          3,
          4,
          5,
          6,
          7,
          8,
          9,
          10,
          11,
          12
         ],
         "xaxis": "x",
         "y": [
          null,
          null,
          null,
          null,
          null,
          null,
          null,
          null,
          null,
          null,
          null,
          null
         ],
         "yaxis": "y"
        },
        {
         "hovertemplate": "Weather Station=manston<br>Month=%{x}<br>Total Sunshine Duration (hours)=%{y}<extra></extra>",
         "legendgroup": "manston",
         "line": {
          "color": "rgb(204, 80, 62)",
          "dash": "solid"
         },
         "marker": {
          "symbol": "circle"
         },
         "mode": "lines",
         "name": "manston",
         "orientation": "v",
         "showlegend": true,
         "type": "scatter",
         "x": [
          1,
          2,
          3,
          4,
          5,
          6,
          7,
          8,
          9,
          10,
          11,
          12
         ],
         "xaxis": "x",
         "y": [
          67.9,
          151.8,
          122.1,
          177.6,
          212.2,
          206.4,
          224.2,
          241.1,
          181.8,
          84.5,
          71.3,
          73.2
         ],
         "yaxis": "y"
        },
        {
         "hovertemplate": "Weather Station=nairn<br>Month=%{x}<br>Total Sunshine Duration (hours)=%{y}<extra></extra>",
         "legendgroup": "nairn",
         "line": {
          "color": "rgb(148, 52, 110)",
          "dash": "solid"
         },
         "marker": {
          "symbol": "circle"
         },
         "mode": "lines",
         "name": "nairn",
         "orientation": "v",
         "showlegend": true,
         "type": "scatter",
         "x": [
          1,
          2,
          3,
          4,
          5,
          6,
          7,
          8,
          9,
          10,
          11,
          12
         ],
         "xaxis": "x",
         "y": [
          null,
          null,
          null,
          null,
          null,
          null,
          null,
          null,
          null,
          null,
          null,
          null
         ],
         "yaxis": "y"
        },
        {
         "hovertemplate": "Weather Station=newtonrigg<br>Month=%{x}<br>Total Sunshine Duration (hours)=%{y}<extra></extra>",
         "legendgroup": "newtonrigg",
         "line": {
          "color": "rgb(111, 64, 112)",
          "dash": "solid"
         },
         "marker": {
          "symbol": "circle"
         },
         "mode": "lines",
         "name": "newtonrigg",
         "orientation": "v",
         "showlegend": true,
         "type": "scatter",
         "x": [
          1,
          2,
          3,
          4,
          5,
          6,
          7,
          8,
          9,
          10,
          11,
          12
         ],
         "xaxis": "x",
         "y": [
          null,
          null,
          null,
          null,
          null,
          null,
          null,
          null,
          null,
          null,
          null,
          null
         ],
         "yaxis": "y"
        },
        {
         "hovertemplate": "Weather Station=oxford<br>Month=%{x}<br>Total Sunshine Duration (hours)=%{y}<extra></extra>",
         "legendgroup": "oxford",
         "line": {
          "color": "rgb(102, 102, 102)",
          "dash": "solid"
         },
         "marker": {
          "symbol": "circle"
         },
         "mode": "lines",
         "name": "oxford",
         "orientation": "v",
         "showlegend": true,
         "type": "scatter",
         "x": [
          1,
          2,
          3,
          4,
          5,
          6,
          7,
          8,
          9,
          10,
          11,
          12
         ],
         "xaxis": "x",
         "y": [
          null,
          null,
          null,
          153.7,
          null,
          null,
          null,
          202.5,
          176,
          80.7,
          45.1,
          null
         ],
         "yaxis": "y"
        },
        {
         "hovertemplate": "Weather Station=paisley<br>Month=%{x}<br>Total Sunshine Duration (hours)=%{y}<extra></extra>",
         "legendgroup": "paisley",
         "line": {
          "color": "rgb(95, 70, 144)",
          "dash": "solid"
         },
         "marker": {
          "symbol": "circle"
         },
         "mode": "lines",
         "name": "paisley",
         "orientation": "v",
         "showlegend": true,
         "type": "scatter",
         "x": [
          1,
          2,
          3,
          4,
          5,
          6,
          7,
          8,
          9,
          10,
          11,
          12
         ],
         "xaxis": "x",
         "y": [
          null,
          null,
          null,
          null,
          null,
          null,
          null,
          null,
          null,
          null,
          null,
          null
         ],
         "yaxis": "y"
        },
        {
         "hovertemplate": "Weather Station=rossonwye<br>Month=%{x}<br>Total Sunshine Duration (hours)=%{y}<extra></extra>",
         "legendgroup": "rossonwye",
         "line": {
          "color": "rgb(29, 105, 150)",
          "dash": "solid"
         },
         "marker": {
          "symbol": "circle"
         },
         "mode": "lines",
         "name": "rossonwye",
         "orientation": "v",
         "showlegend": true,
         "type": "scatter",
         "x": [
          1,
          2,
          3,
          4,
          5,
          6,
          7,
          8,
          9,
          10,
          11,
          12
         ],
         "xaxis": "x",
         "y": [
          46.1,
          101.2,
          115.9,
          null,
          160.9,
          111.5,
          164.9,
          155,
          148,
          68.6,
          46.5,
          42
         ],
         "yaxis": "y"
        },
        {
         "hovertemplate": "Weather Station=shawbury<br>Month=%{x}<br>Total Sunshine Duration (hours)=%{y}<extra></extra>",
         "legendgroup": "shawbury",
         "line": {
          "color": "rgb(56, 166, 165)",
          "dash": "solid"
         },
         "marker": {
          "symbol": "circle"
         },
         "mode": "lines",
         "name": "shawbury",
         "orientation": "v",
         "showlegend": true,
         "type": "scatter",
         "x": [
          1,
          2,
          3,
          4,
          5,
          6,
          7,
          8,
          9,
          10,
          11,
          12
         ],
         "xaxis": "x",
         "y": [
          36.3,
          104.2,
          109.6,
          134,
          171.8,
          111.7,
          160.6,
          161.2,
          136.3,
          76.1,
          43.7,
          56
         ],
         "yaxis": "y"
        },
        {
         "hovertemplate": "Weather Station=sheffield<br>Month=%{x}<br>Total Sunshine Duration (hours)=%{y}<extra></extra>",
         "legendgroup": "sheffield",
         "line": {
          "color": "rgb(15, 133, 84)",
          "dash": "solid"
         },
         "marker": {
          "symbol": "circle"
         },
         "mode": "lines",
         "name": "sheffield",
         "orientation": "v",
         "showlegend": true,
         "type": "scatter",
         "x": [
          1,
          2,
          3,
          4,
          5,
          6,
          7,
          8,
          9,
          10,
          11,
          12
         ],
         "xaxis": "x",
         "y": [
          null,
          122.6,
          132.9,
          155,
          181.4,
          113.3,
          null,
          184.1,
          null,
          81,
          29,
          52.8
         ],
         "yaxis": "y"
        },
        {
         "hovertemplate": "Weather Station=stornoway<br>Month=%{x}<br>Total Sunshine Duration (hours)=%{y}<extra></extra>",
         "legendgroup": "stornoway",
         "line": {
          "color": "rgb(115, 175, 72)",
          "dash": "solid"
         },
         "marker": {
          "symbol": "circle"
         },
         "mode": "lines",
         "name": "stornoway",
         "orientation": "v",
         "showlegend": true,
         "type": "scatter",
         "x": [
          1,
          2,
          3,
          4,
          5,
          6,
          7,
          8,
          9,
          10,
          11,
          12
         ],
         "xaxis": "x",
         "y": [
          38.6,
          40.9,
          88.6,
          167.6,
          144.9,
          122.3,
          108.1,
          102.9,
          106.9,
          81.5,
          38.5,
          17.5
         ],
         "yaxis": "y"
        },
        {
         "hovertemplate": "Weather Station=tiree<br>Month=%{x}<br>Total Sunshine Duration (hours)=%{y}<extra></extra>",
         "legendgroup": "tiree",
         "line": {
          "color": "rgb(237, 173, 8)",
          "dash": "solid"
         },
         "marker": {
          "symbol": "circle"
         },
         "mode": "lines",
         "name": "tiree",
         "orientation": "v",
         "showlegend": true,
         "type": "scatter",
         "x": [
          1,
          2,
          3,
          4,
          5,
          6,
          7,
          8,
          9,
          10,
          11,
          12
         ],
         "xaxis": "x",
         "y": [
          29.9,
          54.2,
          null,
          165.1,
          211.7,
          225.3,
          151.2,
          157.3,
          112.8,
          105.1,
          61,
          31.6
         ],
         "yaxis": "y"
        },
        {
         "hovertemplate": "Weather Station=valley<br>Month=%{x}<br>Total Sunshine Duration (hours)=%{y}<extra></extra>",
         "legendgroup": "valley",
         "line": {
          "color": "rgb(225, 124, 5)",
          "dash": "solid"
         },
         "marker": {
          "symbol": "circle"
         },
         "mode": "lines",
         "name": "valley",
         "orientation": "v",
         "showlegend": true,
         "type": "scatter",
         "x": [
          1,
          2,
          3,
          4,
          5,
          6,
          7,
          8,
          9,
          10,
          11,
          12
         ],
         "xaxis": "x",
         "y": [
          34.8,
          110.2,
          103.5,
          138.8,
          203.5,
          204.6,
          181.5,
          179.6,
          141.5,
          95.7,
          49.4,
          null
         ],
         "yaxis": "y"
        },
        {
         "hovertemplate": "Weather Station=waddington<br>Month=%{x}<br>Total Sunshine Duration (hours)=%{y}<extra></extra>",
         "legendgroup": "waddington",
         "line": {
          "color": "rgb(204, 80, 62)",
          "dash": "solid"
         },
         "marker": {
          "symbol": "circle"
         },
         "mode": "lines",
         "name": "waddington",
         "orientation": "v",
         "showlegend": true,
         "type": "scatter",
         "x": [
          1,
          2,
          3,
          4,
          5,
          6,
          7,
          8,
          9,
          10,
          11,
          12
         ],
         "xaxis": "x",
         "y": [
          57.1,
          130.2,
          139.3,
          180.8,
          193.1,
          140.7,
          175.1,
          202.8,
          162.8,
          89.2,
          52.2,
          70.6
         ],
         "yaxis": "y"
        },
        {
         "hovertemplate": "Weather Station=whitby<br>Month=%{x}<br>Total Sunshine Duration (hours)=%{y}<extra></extra>",
         "legendgroup": "whitby",
         "line": {
          "color": "rgb(148, 52, 110)",
          "dash": "solid"
         },
         "marker": {
          "symbol": "circle"
         },
         "mode": "lines",
         "name": "whitby",
         "orientation": "v",
         "showlegend": true,
         "type": "scatter",
         "x": [
          1,
          2,
          3,
          4,
          5,
          6,
          7,
          8,
          9,
          10,
          11,
          12
         ],
         "xaxis": "x",
         "y": [
          69.1,
          130.2,
          168.4,
          211.6,
          201.5,
          168.5,
          215.5,
          189.9,
          176.8,
          83.3,
          41.5,
          59.4
         ],
         "yaxis": "y"
        },
        {
         "hovertemplate": "Weather Station=wickairport<br>Month=%{x}<br>Total Sunshine Duration (hours)=%{y}<extra></extra>",
         "legendgroup": "wickairport",
         "line": {
          "color": "rgb(111, 64, 112)",
          "dash": "solid"
         },
         "marker": {
          "symbol": "circle"
         },
         "mode": "lines",
         "name": "wickairport",
         "orientation": "v",
         "showlegend": true,
         "type": "scatter",
         "x": [
          1,
          2,
          3,
          4,
          5,
          6,
          7,
          8,
          9,
          10,
          11,
          12
         ],
         "xaxis": "x",
         "y": [
          null,
          null,
          null,
          null,
          null,
          null,
          null,
          null,
          null,
          null,
          null,
          null
         ],
         "yaxis": "y"
        },
        {
         "hovertemplate": "Weather Station=yeovilton<br>Month=%{x}<br>Total Sunshine Duration (hours)=%{y}<extra></extra>",
         "legendgroup": "yeovilton",
         "line": {
          "color": "rgb(102, 102, 102)",
          "dash": "solid"
         },
         "marker": {
          "symbol": "circle"
         },
         "mode": "lines",
         "name": "yeovilton",
         "orientation": "v",
         "showlegend": true,
         "type": "scatter",
         "x": [
          1,
          2,
          3,
          4,
          5,
          6,
          7,
          8,
          9,
          10,
          11,
          12
         ],
         "xaxis": "x",
         "y": [
          53.2,
          111.4,
          110,
          155.2,
          197.3,
          141.6,
          221.1,
          176.6,
          155.3,
          69,
          45.9,
          56.7
         ],
         "yaxis": "y"
        }
       ],
       "layout": {
        "legend": {
         "title": {
          "text": "Weather Station"
         },
         "tracegroupgap": 0
        },
        "template": {
         "data": {
          "bar": [
           {
            "error_x": {
             "color": "#2a3f5f"
            },
            "error_y": {
             "color": "#2a3f5f"
            },
            "marker": {
             "line": {
              "color": "#E5ECF6",
              "width": 0.5
             },
             "pattern": {
              "fillmode": "overlay",
              "size": 10,
              "solidity": 0.2
             }
            },
            "type": "bar"
           }
          ],
          "barpolar": [
           {
            "marker": {
             "line": {
              "color": "#E5ECF6",
              "width": 0.5
             },
             "pattern": {
              "fillmode": "overlay",
              "size": 10,
              "solidity": 0.2
             }
            },
            "type": "barpolar"
           }
          ],
          "carpet": [
           {
            "aaxis": {
             "endlinecolor": "#2a3f5f",
             "gridcolor": "white",
             "linecolor": "white",
             "minorgridcolor": "white",
             "startlinecolor": "#2a3f5f"
            },
            "baxis": {
             "endlinecolor": "#2a3f5f",
             "gridcolor": "white",
             "linecolor": "white",
             "minorgridcolor": "white",
             "startlinecolor": "#2a3f5f"
            },
            "type": "carpet"
           }
          ],
          "choropleth": [
           {
            "colorbar": {
             "outlinewidth": 0,
             "ticks": ""
            },
            "type": "choropleth"
           }
          ],
          "contour": [
           {
            "colorbar": {
             "outlinewidth": 0,
             "ticks": ""
            },
            "colorscale": [
             [
              0,
              "#0d0887"
             ],
             [
              0.1111111111111111,
              "#46039f"
             ],
             [
              0.2222222222222222,
              "#7201a8"
             ],
             [
              0.3333333333333333,
              "#9c179e"
             ],
             [
              0.4444444444444444,
              "#bd3786"
             ],
             [
              0.5555555555555556,
              "#d8576b"
             ],
             [
              0.6666666666666666,
              "#ed7953"
             ],
             [
              0.7777777777777778,
              "#fb9f3a"
             ],
             [
              0.8888888888888888,
              "#fdca26"
             ],
             [
              1,
              "#f0f921"
             ]
            ],
            "type": "contour"
           }
          ],
          "contourcarpet": [
           {
            "colorbar": {
             "outlinewidth": 0,
             "ticks": ""
            },
            "type": "contourcarpet"
           }
          ],
          "heatmap": [
           {
            "colorbar": {
             "outlinewidth": 0,
             "ticks": ""
            },
            "colorscale": [
             [
              0,
              "#0d0887"
             ],
             [
              0.1111111111111111,
              "#46039f"
             ],
             [
              0.2222222222222222,
              "#7201a8"
             ],
             [
              0.3333333333333333,
              "#9c179e"
             ],
             [
              0.4444444444444444,
              "#bd3786"
             ],
             [
              0.5555555555555556,
              "#d8576b"
             ],
             [
              0.6666666666666666,
              "#ed7953"
             ],
             [
              0.7777777777777778,
              "#fb9f3a"
             ],
             [
              0.8888888888888888,
              "#fdca26"
             ],
             [
              1,
              "#f0f921"
             ]
            ],
            "type": "heatmap"
           }
          ],
          "heatmapgl": [
           {
            "colorbar": {
             "outlinewidth": 0,
             "ticks": ""
            },
            "colorscale": [
             [
              0,
              "#0d0887"
             ],
             [
              0.1111111111111111,
              "#46039f"
             ],
             [
              0.2222222222222222,
              "#7201a8"
             ],
             [
              0.3333333333333333,
              "#9c179e"
             ],
             [
              0.4444444444444444,
              "#bd3786"
             ],
             [
              0.5555555555555556,
              "#d8576b"
             ],
             [
              0.6666666666666666,
              "#ed7953"
             ],
             [
              0.7777777777777778,
              "#fb9f3a"
             ],
             [
              0.8888888888888888,
              "#fdca26"
             ],
             [
              1,
              "#f0f921"
             ]
            ],
            "type": "heatmapgl"
           }
          ],
          "histogram": [
           {
            "marker": {
             "pattern": {
              "fillmode": "overlay",
              "size": 10,
              "solidity": 0.2
             }
            },
            "type": "histogram"
           }
          ],
          "histogram2d": [
           {
            "colorbar": {
             "outlinewidth": 0,
             "ticks": ""
            },
            "colorscale": [
             [
              0,
              "#0d0887"
             ],
             [
              0.1111111111111111,
              "#46039f"
             ],
             [
              0.2222222222222222,
              "#7201a8"
             ],
             [
              0.3333333333333333,
              "#9c179e"
             ],
             [
              0.4444444444444444,
              "#bd3786"
             ],
             [
              0.5555555555555556,
              "#d8576b"
             ],
             [
              0.6666666666666666,
              "#ed7953"
             ],
             [
              0.7777777777777778,
              "#fb9f3a"
             ],
             [
              0.8888888888888888,
              "#fdca26"
             ],
             [
              1,
              "#f0f921"
             ]
            ],
            "type": "histogram2d"
           }
          ],
          "histogram2dcontour": [
           {
            "colorbar": {
             "outlinewidth": 0,
             "ticks": ""
            },
            "colorscale": [
             [
              0,
              "#0d0887"
             ],
             [
              0.1111111111111111,
              "#46039f"
             ],
             [
              0.2222222222222222,
              "#7201a8"
             ],
             [
              0.3333333333333333,
              "#9c179e"
             ],
             [
              0.4444444444444444,
              "#bd3786"
             ],
             [
              0.5555555555555556,
              "#d8576b"
             ],
             [
              0.6666666666666666,
              "#ed7953"
             ],
             [
              0.7777777777777778,
              "#fb9f3a"
             ],
             [
              0.8888888888888888,
              "#fdca26"
             ],
             [
              1,
              "#f0f921"
             ]
            ],
            "type": "histogram2dcontour"
           }
          ],
          "mesh3d": [
           {
            "colorbar": {
             "outlinewidth": 0,
             "ticks": ""
            },
            "type": "mesh3d"
           }
          ],
          "parcoords": [
           {
            "line": {
             "colorbar": {
              "outlinewidth": 0,
              "ticks": ""
             }
            },
            "type": "parcoords"
           }
          ],
          "pie": [
           {
            "automargin": true,
            "type": "pie"
           }
          ],
          "scatter": [
           {
            "fillpattern": {
             "fillmode": "overlay",
             "size": 10,
             "solidity": 0.2
            },
            "type": "scatter"
           }
          ],
          "scatter3d": [
           {
            "line": {
             "colorbar": {
              "outlinewidth": 0,
              "ticks": ""
             }
            },
            "marker": {
             "colorbar": {
              "outlinewidth": 0,
              "ticks": ""
             }
            },
            "type": "scatter3d"
           }
          ],
          "scattercarpet": [
           {
            "marker": {
             "colorbar": {
              "outlinewidth": 0,
              "ticks": ""
             }
            },
            "type": "scattercarpet"
           }
          ],
          "scattergeo": [
           {
            "marker": {
             "colorbar": {
              "outlinewidth": 0,
              "ticks": ""
             }
            },
            "type": "scattergeo"
           }
          ],
          "scattergl": [
           {
            "marker": {
             "colorbar": {
              "outlinewidth": 0,
              "ticks": ""
             }
            },
            "type": "scattergl"
           }
          ],
          "scattermapbox": [
           {
            "marker": {
             "colorbar": {
              "outlinewidth": 0,
              "ticks": ""
             }
            },
            "type": "scattermapbox"
           }
          ],
          "scatterpolar": [
           {
            "marker": {
             "colorbar": {
              "outlinewidth": 0,
              "ticks": ""
             }
            },
            "type": "scatterpolar"
           }
          ],
          "scatterpolargl": [
           {
            "marker": {
             "colorbar": {
              "outlinewidth": 0,
              "ticks": ""
             }
            },
            "type": "scatterpolargl"
           }
          ],
          "scatterternary": [
           {
            "marker": {
             "colorbar": {
              "outlinewidth": 0,
              "ticks": ""
             }
            },
            "type": "scatterternary"
           }
          ],
          "surface": [
           {
            "colorbar": {
             "outlinewidth": 0,
             "ticks": ""
            },
            "colorscale": [
             [
              0,
              "#0d0887"
             ],
             [
              0.1111111111111111,
              "#46039f"
             ],
             [
              0.2222222222222222,
              "#7201a8"
             ],
             [
              0.3333333333333333,
              "#9c179e"
             ],
             [
              0.4444444444444444,
              "#bd3786"
             ],
             [
              0.5555555555555556,
              "#d8576b"
             ],
             [
              0.6666666666666666,
              "#ed7953"
             ],
             [
              0.7777777777777778,
              "#fb9f3a"
             ],
             [
              0.8888888888888888,
              "#fdca26"
             ],
             [
              1,
              "#f0f921"
             ]
            ],
            "type": "surface"
           }
          ],
          "table": [
           {
            "cells": {
             "fill": {
              "color": "#EBF0F8"
             },
             "line": {
              "color": "white"
             }
            },
            "header": {
             "fill": {
              "color": "#C8D4E3"
             },
             "line": {
              "color": "white"
             }
            },
            "type": "table"
           }
          ]
         },
         "layout": {
          "annotationdefaults": {
           "arrowcolor": "#2a3f5f",
           "arrowhead": 0,
           "arrowwidth": 1
          },
          "autotypenumbers": "strict",
          "coloraxis": {
           "colorbar": {
            "outlinewidth": 0,
            "ticks": ""
           }
          },
          "colorscale": {
           "diverging": [
            [
             0,
             "#8e0152"
            ],
            [
             0.1,
             "#c51b7d"
            ],
            [
             0.2,
             "#de77ae"
            ],
            [
             0.3,
             "#f1b6da"
            ],
            [
             0.4,
             "#fde0ef"
            ],
            [
             0.5,
             "#f7f7f7"
            ],
            [
             0.6,
             "#e6f5d0"
            ],
            [
             0.7,
             "#b8e186"
            ],
            [
             0.8,
             "#7fbc41"
            ],
            [
             0.9,
             "#4d9221"
            ],
            [
             1,
             "#276419"
            ]
           ],
           "sequential": [
            [
             0,
             "#0d0887"
            ],
            [
             0.1111111111111111,
             "#46039f"
            ],
            [
             0.2222222222222222,
             "#7201a8"
            ],
            [
             0.3333333333333333,
             "#9c179e"
            ],
            [
             0.4444444444444444,
             "#bd3786"
            ],
            [
             0.5555555555555556,
             "#d8576b"
            ],
            [
             0.6666666666666666,
             "#ed7953"
            ],
            [
             0.7777777777777778,
             "#fb9f3a"
            ],
            [
             0.8888888888888888,
             "#fdca26"
            ],
            [
             1,
             "#f0f921"
            ]
           ],
           "sequentialminus": [
            [
             0,
             "#0d0887"
            ],
            [
             0.1111111111111111,
             "#46039f"
            ],
            [
             0.2222222222222222,
             "#7201a8"
            ],
            [
             0.3333333333333333,
             "#9c179e"
            ],
            [
             0.4444444444444444,
             "#bd3786"
            ],
            [
             0.5555555555555556,
             "#d8576b"
            ],
            [
             0.6666666666666666,
             "#ed7953"
            ],
            [
             0.7777777777777778,
             "#fb9f3a"
            ],
            [
             0.8888888888888888,
             "#fdca26"
            ],
            [
             1,
             "#f0f921"
            ]
           ]
          },
          "colorway": [
           "#636efa",
           "#EF553B",
           "#00cc96",
           "#ab63fa",
           "#FFA15A",
           "#19d3f3",
           "#FF6692",
           "#B6E880",
           "#FF97FF",
           "#FECB52"
          ],
          "font": {
           "color": "#2a3f5f"
          },
          "geo": {
           "bgcolor": "white",
           "lakecolor": "white",
           "landcolor": "#E5ECF6",
           "showlakes": true,
           "showland": true,
           "subunitcolor": "white"
          },
          "hoverlabel": {
           "align": "left"
          },
          "hovermode": "closest",
          "mapbox": {
           "style": "light"
          },
          "paper_bgcolor": "white",
          "plot_bgcolor": "#E5ECF6",
          "polar": {
           "angularaxis": {
            "gridcolor": "white",
            "linecolor": "white",
            "ticks": ""
           },
           "bgcolor": "#E5ECF6",
           "radialaxis": {
            "gridcolor": "white",
            "linecolor": "white",
            "ticks": ""
           }
          },
          "scene": {
           "xaxis": {
            "backgroundcolor": "#E5ECF6",
            "gridcolor": "white",
            "gridwidth": 2,
            "linecolor": "white",
            "showbackground": true,
            "ticks": "",
            "zerolinecolor": "white"
           },
           "yaxis": {
            "backgroundcolor": "#E5ECF6",
            "gridcolor": "white",
            "gridwidth": 2,
            "linecolor": "white",
            "showbackground": true,
            "ticks": "",
            "zerolinecolor": "white"
           },
           "zaxis": {
            "backgroundcolor": "#E5ECF6",
            "gridcolor": "white",
            "gridwidth": 2,
            "linecolor": "white",
            "showbackground": true,
            "ticks": "",
            "zerolinecolor": "white"
           }
          },
          "shapedefaults": {
           "line": {
            "color": "#2a3f5f"
           }
          },
          "ternary": {
           "aaxis": {
            "gridcolor": "white",
            "linecolor": "white",
            "ticks": ""
           },
           "baxis": {
            "gridcolor": "white",
            "linecolor": "white",
            "ticks": ""
           },
           "bgcolor": "#E5ECF6",
           "caxis": {
            "gridcolor": "white",
            "linecolor": "white",
            "ticks": ""
           }
          },
          "title": {
           "x": 0.05
          },
          "xaxis": {
           "automargin": true,
           "gridcolor": "white",
           "linecolor": "white",
           "ticks": "",
           "title": {
            "standoff": 15
           },
           "zerolinecolor": "white",
           "zerolinewidth": 2
          },
          "yaxis": {
           "automargin": true,
           "gridcolor": "white",
           "linecolor": "white",
           "ticks": "",
           "title": {
            "standoff": 15
           },
           "zerolinecolor": "white",
           "zerolinewidth": 2
          }
         }
        },
        "title": {
         "text": "Total Sunshine in 2019"
        },
        "xaxis": {
         "anchor": "y",
         "domain": [
          0,
          1
         ],
         "title": {
          "text": "Month"
         }
        },
        "yaxis": {
         "anchor": "x",
         "domain": [
          0,
          1
         ],
         "title": {
          "text": "Total Sunshine Duration (hours)"
         }
        }
       }
      }
     },
     "metadata": {},
     "output_type": "display_data"
    }
   ],
   "source": [
    "# plotting sunshine\n",
    "fig = px.line(temps_2019, x = 'month', y = 'sun', color = 'station', \n",
    "              color_discrete_sequence = px.colors.qualitative.Prism,\n",
    "              title = 'Total Sunshine in 2019', \n",
    "              labels = {'sun':'Total Sunshine Duration (hours)', 'month':'Month', 'station':'Weather Station'})\n",
    "fig.show()"
   ]
  },
  {
   "cell_type": "code",
   "execution_count": 10,
   "metadata": {},
   "outputs": [
    {
     "data": {
      "application/vnd.plotly.v1+json": {
       "config": {
        "plotlyServerURL": "https://plot.ly"
       },
       "data": [
        {
         "hovertemplate": "Weather Station=aberporth<br>Month=%{x}<br>Number of Days with Recorded Air Frost =%{y}<extra></extra>",
         "legendgroup": "aberporth",
         "line": {
          "color": "rgb(95, 70, 144)",
          "dash": "solid"
         },
         "marker": {
          "symbol": "circle"
         },
         "mode": "lines",
         "name": "aberporth",
         "orientation": "v",
         "showlegend": true,
         "type": "scatter",
         "x": [
          1,
          2,
          3,
          4,
          5,
          6,
          7,
          8,
          9,
          10,
          11,
          12
         ],
         "xaxis": "x",
         "y": [
          3,
          1,
          0,
          0,
          0,
          0,
          0,
          0,
          0,
          0,
          0,
          1
         ],
         "yaxis": "y"
        },
        {
         "hovertemplate": "Weather Station=armagh<br>Month=%{x}<br>Number of Days with Recorded Air Frost =%{y}<extra></extra>",
         "legendgroup": "armagh",
         "line": {
          "color": "rgb(29, 105, 150)",
          "dash": "solid"
         },
         "marker": {
          "symbol": "circle"
         },
         "mode": "lines",
         "name": "armagh",
         "orientation": "v",
         "showlegend": true,
         "type": "scatter",
         "x": [
          1,
          2,
          3,
          4,
          5,
          6,
          7,
          8,
          9,
          10,
          11,
          12
         ],
         "xaxis": "x",
         "y": [
          null,
          2,
          1,
          1,
          0,
          0,
          0,
          0,
          0,
          2,
          6,
          2
         ],
         "yaxis": "y"
        },
        {
         "hovertemplate": "Weather Station=ballypatrick<br>Month=%{x}<br>Number of Days with Recorded Air Frost =%{y}<extra></extra>",
         "legendgroup": "ballypatrick",
         "line": {
          "color": "rgb(56, 166, 165)",
          "dash": "solid"
         },
         "marker": {
          "symbol": "circle"
         },
         "mode": "lines",
         "name": "ballypatrick",
         "orientation": "v",
         "showlegend": true,
         "type": "scatter",
         "x": [
          1,
          2,
          3,
          4,
          5,
          6,
          7,
          8,
          9,
          10,
          11,
          12
         ],
         "xaxis": "x",
         "y": [
          6,
          3,
          0,
          1,
          1,
          0,
          0,
          0,
          0,
          0,
          5,
          1
         ],
         "yaxis": "y"
        },
        {
         "hovertemplate": "Weather Station=bradford<br>Month=%{x}<br>Number of Days with Recorded Air Frost =%{y}<extra></extra>",
         "legendgroup": "bradford",
         "line": {
          "color": "rgb(15, 133, 84)",
          "dash": "solid"
         },
         "marker": {
          "symbol": "circle"
         },
         "mode": "lines",
         "name": "bradford",
         "orientation": "v",
         "showlegend": true,
         "type": "scatter",
         "x": [
          1,
          2,
          3,
          4,
          5,
          6,
          7,
          8,
          9,
          10,
          11,
          12
         ],
         "xaxis": "x",
         "y": [
          11,
          4,
          1,
          5,
          0,
          0,
          0,
          0,
          0,
          1,
          5,
          4
         ],
         "yaxis": "y"
        },
        {
         "hovertemplate": "Weather Station=braemar<br>Month=%{x}<br>Number of Days with Recorded Air Frost =%{y}<extra></extra>",
         "legendgroup": "braemar",
         "line": {
          "color": "rgb(115, 175, 72)",
          "dash": "solid"
         },
         "marker": {
          "symbol": "circle"
         },
         "mode": "lines",
         "name": "braemar",
         "orientation": "v",
         "showlegend": true,
         "type": "scatter",
         "x": [
          1,
          2,
          3,
          4,
          5,
          6,
          7,
          8,
          9,
          10,
          11,
          12
         ],
         "xaxis": "x",
         "y": [
          22,
          14,
          9,
          9,
          5,
          0,
          0,
          0,
          2,
          12,
          15,
          13
         ],
         "yaxis": "y"
        },
        {
         "hovertemplate": "Weather Station=camborne<br>Month=%{x}<br>Number of Days with Recorded Air Frost =%{y}<extra></extra>",
         "legendgroup": "camborne",
         "line": {
          "color": "rgb(237, 173, 8)",
          "dash": "solid"
         },
         "marker": {
          "symbol": "circle"
         },
         "mode": "lines",
         "name": "camborne",
         "orientation": "v",
         "showlegend": true,
         "type": "scatter",
         "x": [
          1,
          2,
          3,
          4,
          5,
          6,
          7,
          8,
          9,
          10,
          11,
          12
         ],
         "xaxis": "x",
         "y": [
          0,
          1,
          0,
          0,
          0,
          0,
          0,
          0,
          0,
          0,
          0,
          0
         ],
         "yaxis": "y"
        },
        {
         "hovertemplate": "Weather Station=cambridge<br>Month=%{x}<br>Number of Days with Recorded Air Frost =%{y}<extra></extra>",
         "legendgroup": "cambridge",
         "line": {
          "color": "rgb(225, 124, 5)",
          "dash": "solid"
         },
         "marker": {
          "symbol": "circle"
         },
         "mode": "lines",
         "name": "cambridge",
         "orientation": "v",
         "showlegend": true,
         "type": "scatter",
         "x": [
          1,
          2,
          3,
          4,
          5,
          6,
          7,
          8,
          9,
          10,
          11,
          12
         ],
         "xaxis": "x",
         "y": [
          13,
          11,
          1,
          7,
          0,
          0,
          0,
          0,
          0,
          1,
          5,
          6
         ],
         "yaxis": "y"
        },
        {
         "hovertemplate": "Weather Station=cardiff<br>Month=%{x}<br>Number of Days with Recorded Air Frost =%{y}<extra></extra>",
         "legendgroup": "cardiff",
         "line": {
          "color": "rgb(204, 80, 62)",
          "dash": "solid"
         },
         "marker": {
          "symbol": "circle"
         },
         "mode": "lines",
         "name": "cardiff",
         "orientation": "v",
         "showlegend": true,
         "type": "scatter",
         "x": [
          1,
          2,
          3,
          4,
          5,
          6,
          7,
          8,
          9,
          10,
          11,
          12
         ],
         "xaxis": "x",
         "y": [
          14,
          8,
          0,
          1,
          0,
          0,
          0,
          0,
          0,
          0,
          2,
          null
         ],
         "yaxis": "y"
        },
        {
         "hovertemplate": "Weather Station=chivenor<br>Month=%{x}<br>Number of Days with Recorded Air Frost =%{y}<extra></extra>",
         "legendgroup": "chivenor",
         "line": {
          "color": "rgb(148, 52, 110)",
          "dash": "solid"
         },
         "marker": {
          "symbol": "circle"
         },
         "mode": "lines",
         "name": "chivenor",
         "orientation": "v",
         "showlegend": true,
         "type": "scatter",
         "x": [
          1,
          2,
          3,
          4,
          5,
          6,
          7,
          8,
          9,
          10,
          11,
          12
         ],
         "xaxis": "x",
         "y": [
          5,
          2,
          0,
          0,
          0,
          0,
          0,
          0,
          0,
          0,
          0,
          3
         ],
         "yaxis": "y"
        },
        {
         "hovertemplate": "Weather Station=dunstaffnage<br>Month=%{x}<br>Number of Days with Recorded Air Frost =%{y}<extra></extra>",
         "legendgroup": "dunstaffnage",
         "line": {
          "color": "rgb(111, 64, 112)",
          "dash": "solid"
         },
         "marker": {
          "symbol": "circle"
         },
         "mode": "lines",
         "name": "dunstaffnage",
         "orientation": "v",
         "showlegend": true,
         "type": "scatter",
         "x": [
          1,
          2,
          3,
          4,
          5,
          6,
          7,
          8,
          9,
          10,
          11,
          12
         ],
         "xaxis": "x",
         "y": [
          6,
          5,
          2,
          1,
          0,
          0,
          0,
          0,
          0,
          1,
          7,
          2
         ],
         "yaxis": "y"
        },
        {
         "hovertemplate": "Weather Station=durham<br>Month=%{x}<br>Number of Days with Recorded Air Frost =%{y}<extra></extra>",
         "legendgroup": "durham",
         "line": {
          "color": "rgb(102, 102, 102)",
          "dash": "solid"
         },
         "marker": {
          "symbol": "circle"
         },
         "mode": "lines",
         "name": "durham",
         "orientation": "v",
         "showlegend": true,
         "type": "scatter",
         "x": [
          1,
          2,
          3,
          4,
          5,
          6,
          7,
          8,
          9,
          10,
          11,
          12
         ],
         "xaxis": "x",
         "y": [
          13,
          6,
          1,
          4,
          1,
          0,
          0,
          0,
          0,
          0,
          7,
          7
         ],
         "yaxis": "y"
        },
        {
         "hovertemplate": "Weather Station=eastbourne<br>Month=%{x}<br>Number of Days with Recorded Air Frost =%{y}<extra></extra>",
         "legendgroup": "eastbourne",
         "line": {
          "color": "rgb(95, 70, 144)",
          "dash": "solid"
         },
         "marker": {
          "symbol": "circle"
         },
         "mode": "lines",
         "name": "eastbourne",
         "orientation": "v",
         "showlegend": true,
         "type": "scatter",
         "x": [
          1,
          2,
          3,
          4,
          5,
          6,
          7,
          8,
          9,
          10,
          11,
          12
         ],
         "xaxis": "x",
         "y": [
          null,
          null,
          null,
          null,
          null,
          null,
          null,
          null,
          null,
          null,
          null,
          null
         ],
         "yaxis": "y"
        },
        {
         "hovertemplate": "Weather Station=eskdalemuir<br>Month=%{x}<br>Number of Days with Recorded Air Frost =%{y}<extra></extra>",
         "legendgroup": "eskdalemuir",
         "line": {
          "color": "rgb(29, 105, 150)",
          "dash": "solid"
         },
         "marker": {
          "symbol": "circle"
         },
         "mode": "lines",
         "name": "eskdalemuir",
         "orientation": "v",
         "showlegend": true,
         "type": "scatter",
         "x": [
          1,
          2,
          3,
          4,
          5,
          6,
          7,
          8,
          9,
          10,
          11,
          12
         ],
         "xaxis": "x",
         "y": [
          18,
          15,
          6,
          6,
          7,
          0,
          0,
          0,
          0,
          6,
          11,
          7
         ],
         "yaxis": "y"
        },
        {
         "hovertemplate": "Weather Station=heathrow<br>Month=%{x}<br>Number of Days with Recorded Air Frost =%{y}<extra></extra>",
         "legendgroup": "heathrow",
         "line": {
          "color": "rgb(56, 166, 165)",
          "dash": "solid"
         },
         "marker": {
          "symbol": "circle"
         },
         "mode": "lines",
         "name": "heathrow",
         "orientation": "v",
         "showlegend": true,
         "type": "scatter",
         "x": [
          1,
          2,
          3,
          4,
          5,
          6,
          7,
          8,
          9,
          10,
          11,
          12
         ],
         "xaxis": "x",
         "y": [
          9,
          3,
          0,
          1,
          0,
          0,
          0,
          0,
          0,
          0,
          3,
          3
         ],
         "yaxis": "y"
        },
        {
         "hovertemplate": "Weather Station=hurn<br>Month=%{x}<br>Number of Days with Recorded Air Frost =%{y}<extra></extra>",
         "legendgroup": "hurn",
         "line": {
          "color": "rgb(15, 133, 84)",
          "dash": "solid"
         },
         "marker": {
          "symbol": "circle"
         },
         "mode": "lines",
         "name": "hurn",
         "orientation": "v",
         "showlegend": true,
         "type": "scatter",
         "x": [
          1,
          2,
          3,
          4,
          5,
          6,
          7,
          8,
          9,
          10,
          11,
          12
         ],
         "xaxis": "x",
         "y": [
          18,
          12,
          5,
          2,
          2,
          0,
          0,
          0,
          0,
          1,
          7,
          9
         ],
         "yaxis": "y"
        },
        {
         "hovertemplate": "Weather Station=lerwick<br>Month=%{x}<br>Number of Days with Recorded Air Frost =%{y}<extra></extra>",
         "legendgroup": "lerwick",
         "line": {
          "color": "rgb(115, 175, 72)",
          "dash": "solid"
         },
         "marker": {
          "symbol": "circle"
         },
         "mode": "lines",
         "name": "lerwick",
         "orientation": "v",
         "showlegend": true,
         "type": "scatter",
         "x": [
          1,
          2,
          3,
          4,
          5,
          6,
          7,
          8,
          9,
          10,
          11,
          12
         ],
         "xaxis": "x",
         "y": [
          9,
          1,
          3,
          0,
          1,
          0,
          0,
          0,
          0,
          0,
          5,
          1
         ],
         "yaxis": "y"
        },
        {
         "hovertemplate": "Weather Station=leuchars<br>Month=%{x}<br>Number of Days with Recorded Air Frost =%{y}<extra></extra>",
         "legendgroup": "leuchars",
         "line": {
          "color": "rgb(237, 173, 8)",
          "dash": "solid"
         },
         "marker": {
          "symbol": "circle"
         },
         "mode": "lines",
         "name": "leuchars",
         "orientation": "v",
         "showlegend": true,
         "type": "scatter",
         "x": [
          1,
          2,
          3,
          4,
          5,
          6,
          7,
          8,
          9,
          10,
          11,
          12
         ],
         "xaxis": "x",
         "y": [
          19,
          9,
          6,
          2,
          1,
          0,
          0,
          0,
          0,
          1,
          10,
          9
         ],
         "yaxis": "y"
        },
        {
         "hovertemplate": "Weather Station=lowestoft<br>Month=%{x}<br>Number of Days with Recorded Air Frost =%{y}<extra></extra>",
         "legendgroup": "lowestoft",
         "line": {
          "color": "rgb(225, 124, 5)",
          "dash": "solid"
         },
         "marker": {
          "symbol": "circle"
         },
         "mode": "lines",
         "name": "lowestoft",
         "orientation": "v",
         "showlegend": true,
         "type": "scatter",
         "x": [
          1,
          2,
          3,
          4,
          5,
          6,
          7,
          8,
          9,
          10,
          11,
          12
         ],
         "xaxis": "x",
         "y": [
          null,
          null,
          null,
          null,
          null,
          null,
          null,
          null,
          null,
          null,
          null,
          null
         ],
         "yaxis": "y"
        },
        {
         "hovertemplate": "Weather Station=manston<br>Month=%{x}<br>Number of Days with Recorded Air Frost =%{y}<extra></extra>",
         "legendgroup": "manston",
         "line": {
          "color": "rgb(204, 80, 62)",
          "dash": "solid"
         },
         "marker": {
          "symbol": "circle"
         },
         "mode": "lines",
         "name": "manston",
         "orientation": "v",
         "showlegend": true,
         "type": "scatter",
         "x": [
          1,
          2,
          3,
          4,
          5,
          6,
          7,
          8,
          9,
          10,
          11,
          12
         ],
         "xaxis": "x",
         "y": [
          8,
          2,
          0,
          0,
          0,
          0,
          0,
          0,
          0,
          0,
          1,
          4
         ],
         "yaxis": "y"
        },
        {
         "hovertemplate": "Weather Station=nairn<br>Month=%{x}<br>Number of Days with Recorded Air Frost =%{y}<extra></extra>",
         "legendgroup": "nairn",
         "line": {
          "color": "rgb(148, 52, 110)",
          "dash": "solid"
         },
         "marker": {
          "symbol": "circle"
         },
         "mode": "lines",
         "name": "nairn",
         "orientation": "v",
         "showlegend": true,
         "type": "scatter",
         "x": [
          1,
          2,
          3,
          4,
          5,
          6,
          7,
          8,
          9,
          10,
          11,
          12
         ],
         "xaxis": "x",
         "y": [
          null,
          null,
          null,
          null,
          null,
          null,
          null,
          null,
          null,
          null,
          null,
          null
         ],
         "yaxis": "y"
        },
        {
         "hovertemplate": "Weather Station=newtonrigg<br>Month=%{x}<br>Number of Days with Recorded Air Frost =%{y}<extra></extra>",
         "legendgroup": "newtonrigg",
         "line": {
          "color": "rgb(111, 64, 112)",
          "dash": "solid"
         },
         "marker": {
          "symbol": "circle"
         },
         "mode": "lines",
         "name": "newtonrigg",
         "orientation": "v",
         "showlegend": true,
         "type": "scatter",
         "x": [
          1,
          2,
          3,
          4,
          5,
          6,
          7,
          8,
          9,
          10,
          11,
          12
         ],
         "xaxis": "x",
         "y": [
          15,
          6,
          3,
          7,
          4,
          0,
          0,
          0,
          0,
          4,
          11,
          6
         ],
         "yaxis": "y"
        },
        {
         "hovertemplate": "Weather Station=oxford<br>Month=%{x}<br>Number of Days with Recorded Air Frost =%{y}<extra></extra>",
         "legendgroup": "oxford",
         "line": {
          "color": "rgb(102, 102, 102)",
          "dash": "solid"
         },
         "marker": {
          "symbol": "circle"
         },
         "mode": "lines",
         "name": "oxford",
         "orientation": "v",
         "showlegend": true,
         "type": "scatter",
         "x": [
          1,
          2,
          3,
          4,
          5,
          6,
          7,
          8,
          9,
          10,
          11,
          12
         ],
         "xaxis": "x",
         "y": [
          null,
          null,
          null,
          5,
          null,
          null,
          null,
          0,
          0,
          0,
          2,
          null
         ],
         "yaxis": "y"
        },
        {
         "hovertemplate": "Weather Station=paisley<br>Month=%{x}<br>Number of Days with Recorded Air Frost =%{y}<extra></extra>",
         "legendgroup": "paisley",
         "line": {
          "color": "rgb(95, 70, 144)",
          "dash": "solid"
         },
         "marker": {
          "symbol": "circle"
         },
         "mode": "lines",
         "name": "paisley",
         "orientation": "v",
         "showlegend": true,
         "type": "scatter",
         "x": [
          1,
          2,
          3,
          4,
          5,
          6,
          7,
          8,
          9,
          10,
          11,
          12
         ],
         "xaxis": "x",
         "y": [
          null,
          null,
          null,
          null,
          null,
          null,
          null,
          null,
          null,
          null,
          null,
          null
         ],
         "yaxis": "y"
        },
        {
         "hovertemplate": "Weather Station=rossonwye<br>Month=%{x}<br>Number of Days with Recorded Air Frost =%{y}<extra></extra>",
         "legendgroup": "rossonwye",
         "line": {
          "color": "rgb(29, 105, 150)",
          "dash": "solid"
         },
         "marker": {
          "symbol": "circle"
         },
         "mode": "lines",
         "name": "rossonwye",
         "orientation": "v",
         "showlegend": true,
         "type": "scatter",
         "x": [
          1,
          2,
          3,
          4,
          5,
          6,
          7,
          8,
          9,
          10,
          11,
          12
         ],
         "xaxis": "x",
         "y": [
          11,
          10,
          1,
          null,
          0,
          0,
          0,
          0,
          0,
          1,
          3,
          5
         ],
         "yaxis": "y"
        },
        {
         "hovertemplate": "Weather Station=shawbury<br>Month=%{x}<br>Number of Days with Recorded Air Frost =%{y}<extra></extra>",
         "legendgroup": "shawbury",
         "line": {
          "color": "rgb(56, 166, 165)",
          "dash": "solid"
         },
         "marker": {
          "symbol": "circle"
         },
         "mode": "lines",
         "name": "shawbury",
         "orientation": "v",
         "showlegend": true,
         "type": "scatter",
         "x": [
          1,
          2,
          3,
          4,
          5,
          6,
          7,
          8,
          9,
          10,
          11,
          12
         ],
         "xaxis": "x",
         "y": [
          15,
          11,
          4,
          3,
          1,
          0,
          0,
          0,
          0,
          2,
          5,
          8
         ],
         "yaxis": "y"
        },
        {
         "hovertemplate": "Weather Station=sheffield<br>Month=%{x}<br>Number of Days with Recorded Air Frost =%{y}<extra></extra>",
         "legendgroup": "sheffield",
         "line": {
          "color": "rgb(15, 133, 84)",
          "dash": "solid"
         },
         "marker": {
          "symbol": "circle"
         },
         "mode": "lines",
         "name": "sheffield",
         "orientation": "v",
         "showlegend": true,
         "type": "scatter",
         "x": [
          1,
          2,
          3,
          4,
          5,
          6,
          7,
          8,
          9,
          10,
          11,
          12
         ],
         "xaxis": "x",
         "y": [
          5,
          4,
          0,
          3,
          0,
          0,
          0,
          0,
          0,
          0,
          4,
          3
         ],
         "yaxis": "y"
        },
        {
         "hovertemplate": "Weather Station=stornoway<br>Month=%{x}<br>Number of Days with Recorded Air Frost =%{y}<extra></extra>",
         "legendgroup": "stornoway",
         "line": {
          "color": "rgb(115, 175, 72)",
          "dash": "solid"
         },
         "marker": {
          "symbol": "circle"
         },
         "mode": "lines",
         "name": "stornoway",
         "orientation": "v",
         "showlegend": true,
         "type": "scatter",
         "x": [
          1,
          2,
          3,
          4,
          5,
          6,
          7,
          8,
          9,
          10,
          11,
          12
         ],
         "xaxis": "x",
         "y": [
          11,
          5,
          1,
          0,
          1,
          0,
          0,
          0,
          0,
          0,
          4,
          5
         ],
         "yaxis": "y"
        },
        {
         "hovertemplate": "Weather Station=tiree<br>Month=%{x}<br>Number of Days with Recorded Air Frost =%{y}<extra></extra>",
         "legendgroup": "tiree",
         "line": {
          "color": "rgb(237, 173, 8)",
          "dash": "solid"
         },
         "marker": {
          "symbol": "circle"
         },
         "mode": "lines",
         "name": "tiree",
         "orientation": "v",
         "showlegend": true,
         "type": "scatter",
         "x": [
          1,
          2,
          3,
          4,
          5,
          6,
          7,
          8,
          9,
          10,
          11,
          12
         ],
         "xaxis": "x",
         "y": [
          3,
          1,
          null,
          0,
          0,
          0,
          0,
          0,
          0,
          0,
          3,
          0
         ],
         "yaxis": "y"
        },
        {
         "hovertemplate": "Weather Station=valley<br>Month=%{x}<br>Number of Days with Recorded Air Frost =%{y}<extra></extra>",
         "legendgroup": "valley",
         "line": {
          "color": "rgb(225, 124, 5)",
          "dash": "solid"
         },
         "marker": {
          "symbol": "circle"
         },
         "mode": "lines",
         "name": "valley",
         "orientation": "v",
         "showlegend": true,
         "type": "scatter",
         "x": [
          1,
          2,
          3,
          4,
          5,
          6,
          7,
          8,
          9,
          10,
          11,
          12
         ],
         "xaxis": "x",
         "y": [
          2,
          3,
          0,
          0,
          0,
          0,
          0,
          0,
          0,
          0,
          1,
          2
         ],
         "yaxis": "y"
        },
        {
         "hovertemplate": "Weather Station=waddington<br>Month=%{x}<br>Number of Days with Recorded Air Frost =%{y}<extra></extra>",
         "legendgroup": "waddington",
         "line": {
          "color": "rgb(204, 80, 62)",
          "dash": "solid"
         },
         "marker": {
          "symbol": "circle"
         },
         "mode": "lines",
         "name": "waddington",
         "orientation": "v",
         "showlegend": true,
         "type": "scatter",
         "x": [
          1,
          2,
          3,
          4,
          5,
          6,
          7,
          8,
          9,
          10,
          11,
          12
         ],
         "xaxis": "x",
         "y": [
          9,
          6,
          0,
          2,
          0,
          0,
          0,
          0,
          0,
          0,
          2,
          2
         ],
         "yaxis": "y"
        },
        {
         "hovertemplate": "Weather Station=whitby<br>Month=%{x}<br>Number of Days with Recorded Air Frost =%{y}<extra></extra>",
         "legendgroup": "whitby",
         "line": {
          "color": "rgb(148, 52, 110)",
          "dash": "solid"
         },
         "marker": {
          "symbol": "circle"
         },
         "mode": "lines",
         "name": "whitby",
         "orientation": "v",
         "showlegend": true,
         "type": "scatter",
         "x": [
          1,
          2,
          3,
          4,
          5,
          6,
          7,
          8,
          9,
          10,
          11,
          12
         ],
         "xaxis": "x",
         "y": [
          10,
          4,
          0,
          2,
          0,
          0,
          0,
          0,
          0,
          0,
          4,
          2
         ],
         "yaxis": "y"
        },
        {
         "hovertemplate": "Weather Station=wickairport<br>Month=%{x}<br>Number of Days with Recorded Air Frost =%{y}<extra></extra>",
         "legendgroup": "wickairport",
         "line": {
          "color": "rgb(111, 64, 112)",
          "dash": "solid"
         },
         "marker": {
          "symbol": "circle"
         },
         "mode": "lines",
         "name": "wickairport",
         "orientation": "v",
         "showlegend": true,
         "type": "scatter",
         "x": [
          1,
          2,
          3,
          4,
          5,
          6,
          7,
          8,
          9,
          10,
          11,
          12
         ],
         "xaxis": "x",
         "y": [
          11,
          5,
          4,
          1,
          4,
          0,
          0,
          0,
          0,
          1,
          5,
          7
         ],
         "yaxis": "y"
        },
        {
         "hovertemplate": "Weather Station=yeovilton<br>Month=%{x}<br>Number of Days with Recorded Air Frost =%{y}<extra></extra>",
         "legendgroup": "yeovilton",
         "line": {
          "color": "rgb(102, 102, 102)",
          "dash": "solid"
         },
         "marker": {
          "symbol": "circle"
         },
         "mode": "lines",
         "name": "yeovilton",
         "orientation": "v",
         "showlegend": true,
         "type": "scatter",
         "x": [
          1,
          2,
          3,
          4,
          5,
          6,
          7,
          8,
          9,
          10,
          11,
          12
         ],
         "xaxis": "x",
         "y": [
          14,
          10,
          2,
          2,
          2,
          0,
          0,
          0,
          0,
          1,
          4,
          7
         ],
         "yaxis": "y"
        }
       ],
       "layout": {
        "legend": {
         "title": {
          "text": "Weather Station"
         },
         "tracegroupgap": 0
        },
        "template": {
         "data": {
          "bar": [
           {
            "error_x": {
             "color": "#2a3f5f"
            },
            "error_y": {
             "color": "#2a3f5f"
            },
            "marker": {
             "line": {
              "color": "#E5ECF6",
              "width": 0.5
             },
             "pattern": {
              "fillmode": "overlay",
              "size": 10,
              "solidity": 0.2
             }
            },
            "type": "bar"
           }
          ],
          "barpolar": [
           {
            "marker": {
             "line": {
              "color": "#E5ECF6",
              "width": 0.5
             },
             "pattern": {
              "fillmode": "overlay",
              "size": 10,
              "solidity": 0.2
             }
            },
            "type": "barpolar"
           }
          ],
          "carpet": [
           {
            "aaxis": {
             "endlinecolor": "#2a3f5f",
             "gridcolor": "white",
             "linecolor": "white",
             "minorgridcolor": "white",
             "startlinecolor": "#2a3f5f"
            },
            "baxis": {
             "endlinecolor": "#2a3f5f",
             "gridcolor": "white",
             "linecolor": "white",
             "minorgridcolor": "white",
             "startlinecolor": "#2a3f5f"
            },
            "type": "carpet"
           }
          ],
          "choropleth": [
           {
            "colorbar": {
             "outlinewidth": 0,
             "ticks": ""
            },
            "type": "choropleth"
           }
          ],
          "contour": [
           {
            "colorbar": {
             "outlinewidth": 0,
             "ticks": ""
            },
            "colorscale": [
             [
              0,
              "#0d0887"
             ],
             [
              0.1111111111111111,
              "#46039f"
             ],
             [
              0.2222222222222222,
              "#7201a8"
             ],
             [
              0.3333333333333333,
              "#9c179e"
             ],
             [
              0.4444444444444444,
              "#bd3786"
             ],
             [
              0.5555555555555556,
              "#d8576b"
             ],
             [
              0.6666666666666666,
              "#ed7953"
             ],
             [
              0.7777777777777778,
              "#fb9f3a"
             ],
             [
              0.8888888888888888,
              "#fdca26"
             ],
             [
              1,
              "#f0f921"
             ]
            ],
            "type": "contour"
           }
          ],
          "contourcarpet": [
           {
            "colorbar": {
             "outlinewidth": 0,
             "ticks": ""
            },
            "type": "contourcarpet"
           }
          ],
          "heatmap": [
           {
            "colorbar": {
             "outlinewidth": 0,
             "ticks": ""
            },
            "colorscale": [
             [
              0,
              "#0d0887"
             ],
             [
              0.1111111111111111,
              "#46039f"
             ],
             [
              0.2222222222222222,
              "#7201a8"
             ],
             [
              0.3333333333333333,
              "#9c179e"
             ],
             [
              0.4444444444444444,
              "#bd3786"
             ],
             [
              0.5555555555555556,
              "#d8576b"
             ],
             [
              0.6666666666666666,
              "#ed7953"
             ],
             [
              0.7777777777777778,
              "#fb9f3a"
             ],
             [
              0.8888888888888888,
              "#fdca26"
             ],
             [
              1,
              "#f0f921"
             ]
            ],
            "type": "heatmap"
           }
          ],
          "heatmapgl": [
           {
            "colorbar": {
             "outlinewidth": 0,
             "ticks": ""
            },
            "colorscale": [
             [
              0,
              "#0d0887"
             ],
             [
              0.1111111111111111,
              "#46039f"
             ],
             [
              0.2222222222222222,
              "#7201a8"
             ],
             [
              0.3333333333333333,
              "#9c179e"
             ],
             [
              0.4444444444444444,
              "#bd3786"
             ],
             [
              0.5555555555555556,
              "#d8576b"
             ],
             [
              0.6666666666666666,
              "#ed7953"
             ],
             [
              0.7777777777777778,
              "#fb9f3a"
             ],
             [
              0.8888888888888888,
              "#fdca26"
             ],
             [
              1,
              "#f0f921"
             ]
            ],
            "type": "heatmapgl"
           }
          ],
          "histogram": [
           {
            "marker": {
             "pattern": {
              "fillmode": "overlay",
              "size": 10,
              "solidity": 0.2
             }
            },
            "type": "histogram"
           }
          ],
          "histogram2d": [
           {
            "colorbar": {
             "outlinewidth": 0,
             "ticks": ""
            },
            "colorscale": [
             [
              0,
              "#0d0887"
             ],
             [
              0.1111111111111111,
              "#46039f"
             ],
             [
              0.2222222222222222,
              "#7201a8"
             ],
             [
              0.3333333333333333,
              "#9c179e"
             ],
             [
              0.4444444444444444,
              "#bd3786"
             ],
             [
              0.5555555555555556,
              "#d8576b"
             ],
             [
              0.6666666666666666,
              "#ed7953"
             ],
             [
              0.7777777777777778,
              "#fb9f3a"
             ],
             [
              0.8888888888888888,
              "#fdca26"
             ],
             [
              1,
              "#f0f921"
             ]
            ],
            "type": "histogram2d"
           }
          ],
          "histogram2dcontour": [
           {
            "colorbar": {
             "outlinewidth": 0,
             "ticks": ""
            },
            "colorscale": [
             [
              0,
              "#0d0887"
             ],
             [
              0.1111111111111111,
              "#46039f"
             ],
             [
              0.2222222222222222,
              "#7201a8"
             ],
             [
              0.3333333333333333,
              "#9c179e"
             ],
             [
              0.4444444444444444,
              "#bd3786"
             ],
             [
              0.5555555555555556,
              "#d8576b"
             ],
             [
              0.6666666666666666,
              "#ed7953"
             ],
             [
              0.7777777777777778,
              "#fb9f3a"
             ],
             [
              0.8888888888888888,
              "#fdca26"
             ],
             [
              1,
              "#f0f921"
             ]
            ],
            "type": "histogram2dcontour"
           }
          ],
          "mesh3d": [
           {
            "colorbar": {
             "outlinewidth": 0,
             "ticks": ""
            },
            "type": "mesh3d"
           }
          ],
          "parcoords": [
           {
            "line": {
             "colorbar": {
              "outlinewidth": 0,
              "ticks": ""
             }
            },
            "type": "parcoords"
           }
          ],
          "pie": [
           {
            "automargin": true,
            "type": "pie"
           }
          ],
          "scatter": [
           {
            "fillpattern": {
             "fillmode": "overlay",
             "size": 10,
             "solidity": 0.2
            },
            "type": "scatter"
           }
          ],
          "scatter3d": [
           {
            "line": {
             "colorbar": {
              "outlinewidth": 0,
              "ticks": ""
             }
            },
            "marker": {
             "colorbar": {
              "outlinewidth": 0,
              "ticks": ""
             }
            },
            "type": "scatter3d"
           }
          ],
          "scattercarpet": [
           {
            "marker": {
             "colorbar": {
              "outlinewidth": 0,
              "ticks": ""
             }
            },
            "type": "scattercarpet"
           }
          ],
          "scattergeo": [
           {
            "marker": {
             "colorbar": {
              "outlinewidth": 0,
              "ticks": ""
             }
            },
            "type": "scattergeo"
           }
          ],
          "scattergl": [
           {
            "marker": {
             "colorbar": {
              "outlinewidth": 0,
              "ticks": ""
             }
            },
            "type": "scattergl"
           }
          ],
          "scattermapbox": [
           {
            "marker": {
             "colorbar": {
              "outlinewidth": 0,
              "ticks": ""
             }
            },
            "type": "scattermapbox"
           }
          ],
          "scatterpolar": [
           {
            "marker": {
             "colorbar": {
              "outlinewidth": 0,
              "ticks": ""
             }
            },
            "type": "scatterpolar"
           }
          ],
          "scatterpolargl": [
           {
            "marker": {
             "colorbar": {
              "outlinewidth": 0,
              "ticks": ""
             }
            },
            "type": "scatterpolargl"
           }
          ],
          "scatterternary": [
           {
            "marker": {
             "colorbar": {
              "outlinewidth": 0,
              "ticks": ""
             }
            },
            "type": "scatterternary"
           }
          ],
          "surface": [
           {
            "colorbar": {
             "outlinewidth": 0,
             "ticks": ""
            },
            "colorscale": [
             [
              0,
              "#0d0887"
             ],
             [
              0.1111111111111111,
              "#46039f"
             ],
             [
              0.2222222222222222,
              "#7201a8"
             ],
             [
              0.3333333333333333,
              "#9c179e"
             ],
             [
              0.4444444444444444,
              "#bd3786"
             ],
             [
              0.5555555555555556,
              "#d8576b"
             ],
             [
              0.6666666666666666,
              "#ed7953"
             ],
             [
              0.7777777777777778,
              "#fb9f3a"
             ],
             [
              0.8888888888888888,
              "#fdca26"
             ],
             [
              1,
              "#f0f921"
             ]
            ],
            "type": "surface"
           }
          ],
          "table": [
           {
            "cells": {
             "fill": {
              "color": "#EBF0F8"
             },
             "line": {
              "color": "white"
             }
            },
            "header": {
             "fill": {
              "color": "#C8D4E3"
             },
             "line": {
              "color": "white"
             }
            },
            "type": "table"
           }
          ]
         },
         "layout": {
          "annotationdefaults": {
           "arrowcolor": "#2a3f5f",
           "arrowhead": 0,
           "arrowwidth": 1
          },
          "autotypenumbers": "strict",
          "coloraxis": {
           "colorbar": {
            "outlinewidth": 0,
            "ticks": ""
           }
          },
          "colorscale": {
           "diverging": [
            [
             0,
             "#8e0152"
            ],
            [
             0.1,
             "#c51b7d"
            ],
            [
             0.2,
             "#de77ae"
            ],
            [
             0.3,
             "#f1b6da"
            ],
            [
             0.4,
             "#fde0ef"
            ],
            [
             0.5,
             "#f7f7f7"
            ],
            [
             0.6,
             "#e6f5d0"
            ],
            [
             0.7,
             "#b8e186"
            ],
            [
             0.8,
             "#7fbc41"
            ],
            [
             0.9,
             "#4d9221"
            ],
            [
             1,
             "#276419"
            ]
           ],
           "sequential": [
            [
             0,
             "#0d0887"
            ],
            [
             0.1111111111111111,
             "#46039f"
            ],
            [
             0.2222222222222222,
             "#7201a8"
            ],
            [
             0.3333333333333333,
             "#9c179e"
            ],
            [
             0.4444444444444444,
             "#bd3786"
            ],
            [
             0.5555555555555556,
             "#d8576b"
            ],
            [
             0.6666666666666666,
             "#ed7953"
            ],
            [
             0.7777777777777778,
             "#fb9f3a"
            ],
            [
             0.8888888888888888,
             "#fdca26"
            ],
            [
             1,
             "#f0f921"
            ]
           ],
           "sequentialminus": [
            [
             0,
             "#0d0887"
            ],
            [
             0.1111111111111111,
             "#46039f"
            ],
            [
             0.2222222222222222,
             "#7201a8"
            ],
            [
             0.3333333333333333,
             "#9c179e"
            ],
            [
             0.4444444444444444,
             "#bd3786"
            ],
            [
             0.5555555555555556,
             "#d8576b"
            ],
            [
             0.6666666666666666,
             "#ed7953"
            ],
            [
             0.7777777777777778,
             "#fb9f3a"
            ],
            [
             0.8888888888888888,
             "#fdca26"
            ],
            [
             1,
             "#f0f921"
            ]
           ]
          },
          "colorway": [
           "#636efa",
           "#EF553B",
           "#00cc96",
           "#ab63fa",
           "#FFA15A",
           "#19d3f3",
           "#FF6692",
           "#B6E880",
           "#FF97FF",
           "#FECB52"
          ],
          "font": {
           "color": "#2a3f5f"
          },
          "geo": {
           "bgcolor": "white",
           "lakecolor": "white",
           "landcolor": "#E5ECF6",
           "showlakes": true,
           "showland": true,
           "subunitcolor": "white"
          },
          "hoverlabel": {
           "align": "left"
          },
          "hovermode": "closest",
          "mapbox": {
           "style": "light"
          },
          "paper_bgcolor": "white",
          "plot_bgcolor": "#E5ECF6",
          "polar": {
           "angularaxis": {
            "gridcolor": "white",
            "linecolor": "white",
            "ticks": ""
           },
           "bgcolor": "#E5ECF6",
           "radialaxis": {
            "gridcolor": "white",
            "linecolor": "white",
            "ticks": ""
           }
          },
          "scene": {
           "xaxis": {
            "backgroundcolor": "#E5ECF6",
            "gridcolor": "white",
            "gridwidth": 2,
            "linecolor": "white",
            "showbackground": true,
            "ticks": "",
            "zerolinecolor": "white"
           },
           "yaxis": {
            "backgroundcolor": "#E5ECF6",
            "gridcolor": "white",
            "gridwidth": 2,
            "linecolor": "white",
            "showbackground": true,
            "ticks": "",
            "zerolinecolor": "white"
           },
           "zaxis": {
            "backgroundcolor": "#E5ECF6",
            "gridcolor": "white",
            "gridwidth": 2,
            "linecolor": "white",
            "showbackground": true,
            "ticks": "",
            "zerolinecolor": "white"
           }
          },
          "shapedefaults": {
           "line": {
            "color": "#2a3f5f"
           }
          },
          "ternary": {
           "aaxis": {
            "gridcolor": "white",
            "linecolor": "white",
            "ticks": ""
           },
           "baxis": {
            "gridcolor": "white",
            "linecolor": "white",
            "ticks": ""
           },
           "bgcolor": "#E5ECF6",
           "caxis": {
            "gridcolor": "white",
            "linecolor": "white",
            "ticks": ""
           }
          },
          "title": {
           "x": 0.05
          },
          "xaxis": {
           "automargin": true,
           "gridcolor": "white",
           "linecolor": "white",
           "ticks": "",
           "title": {
            "standoff": 15
           },
           "zerolinecolor": "white",
           "zerolinewidth": 2
          },
          "yaxis": {
           "automargin": true,
           "gridcolor": "white",
           "linecolor": "white",
           "ticks": "",
           "title": {
            "standoff": 15
           },
           "zerolinecolor": "white",
           "zerolinewidth": 2
          }
         }
        },
        "title": {
         "text": "Days with Air Frost in 2019"
        },
        "xaxis": {
         "anchor": "y",
         "domain": [
          0,
          1
         ],
         "title": {
          "text": "Month"
         }
        },
        "yaxis": {
         "anchor": "x",
         "domain": [
          0,
          1
         ],
         "title": {
          "text": "Number of Days with Recorded Air Frost "
         }
        }
       }
      }
     },
     "metadata": {},
     "output_type": "display_data"
    }
   ],
   "source": [
    "# plotting airfrost\n",
    "fig = px.line(temps_2019, x = 'month', y = 'af', color = 'station', \n",
    "              color_discrete_sequence = px.colors.qualitative.Prism,\n",
    "              title = 'Days with Air Frost in 2019', \n",
    "              labels = {'af':'Number of Days with Recorded Air Frost ', 'month':'Month', 'station':'Weather Station'})\n",
    "fig.show()"
   ]
  },
  {
   "cell_type": "code",
   "execution_count": 17,
   "metadata": {},
   "outputs": [],
   "source": [
    "# temp readings for oxford station\n",
    "temps_oxford = weather.loc[weather['station'] == 'oxford']"
   ]
  },
  {
   "cell_type": "code",
   "execution_count": 23,
   "metadata": {},
   "outputs": [
    {
     "ename": "TypeError",
     "evalue": "'str' object is not callable",
     "output_type": "error",
     "traceback": [
      "\u001b[1;31m---------------------------------------------------------------------------\u001b[0m",
      "\u001b[1;31mTypeError\u001b[0m                                 Traceback (most recent call last)",
      "\u001b[1;32m~\\AppData\\Local\\Temp\\ipykernel_12660\\3676872467.py\u001b[0m in \u001b[0;36m<module>\u001b[1;34m\u001b[0m\n\u001b[0;32m      1\u001b[0m \u001b[1;31m# plotting max temperatures from 1941-2020 for oxford station\u001b[0m\u001b[1;33m\u001b[0m\u001b[1;33m\u001b[0m\u001b[0m\n\u001b[0;32m      2\u001b[0m \u001b[0max\u001b[0m \u001b[1;33m=\u001b[0m \u001b[0msns\u001b[0m\u001b[1;33m.\u001b[0m\u001b[0mlineplot\u001b[0m\u001b[1;33m(\u001b[0m\u001b[0mdata\u001b[0m \u001b[1;33m=\u001b[0m \u001b[0mtemps_oxford\u001b[0m\u001b[1;33m,\u001b[0m \u001b[0mx\u001b[0m \u001b[1;33m=\u001b[0m \u001b[1;34m'year'\u001b[0m\u001b[1;33m,\u001b[0m \u001b[0my\u001b[0m \u001b[1;33m=\u001b[0m \u001b[1;34m'tmax'\u001b[0m\u001b[1;33m)\u001b[0m\u001b[1;33m\u001b[0m\u001b[1;33m\u001b[0m\u001b[0m\n\u001b[1;32m----> 3\u001b[1;33m \u001b[0msns\u001b[0m\u001b[1;33m.\u001b[0m\u001b[0mset_style\u001b[0m\u001b[1;33m(\u001b[0m\u001b[1;34m'darkgrid'\u001b[0m\u001b[1;33m)\u001b[0m\u001b[1;33m\u001b[0m\u001b[1;33m\u001b[0m\u001b[0m\n\u001b[0m",
      "\u001b[1;31mTypeError\u001b[0m: 'str' object is not callable"
     ]
    },
    {
     "data": {
      "image/png": "[encoded data removed]",
      "text/plain": [
       "<Figure size 640x480 with 1 Axes>"
      ]
     },
     "metadata": {},
     "output_type": "display_data"
    }
   ],
   "source": [
    "# plotting max temperatures from 1941-2020 for oxford station\n",
    "ax = sns.lineplot(data = temps_oxford, x = 'year', y = 'tmax')\n",
    "sns.set_style('darkgrid')"
   ]
  },
  {
   "cell_type": "code",
   "execution_count": 16,
   "metadata": {},
   "outputs": [
    {
     "data": {
      "text/plain": [
       "<AxesSubplot:xlabel='year', ylabel='tmin'>"
      ]
     },
     "execution_count": 16,
     "metadata": {},
     "output_type": "execute_result"
    },
    {
     "data": {
      "image/png": "[encoded data removed]",
      "text/plain": [
       "<Figure size 640x480 with 1 Axes>"
      ]
     },
     "metadata": {},
     "output_type": "display_data"
    }
   ],
   "source": [
    "# plotting min temperatures from 1941-2020 for oxford station\n",
    "sns.lineplot(data = temps_oxford, x = 'year', y = 'tmin')"
   ]
  }
 ],
 "metadata": {
  "kernelspec": {
   "display_name": "base",
   "language": "python",
   "name": "python3"
  },
  "language_info": {
   "codemirror_mode": {
    "name": "ipython",
    "version": 3
   },
   "file_extension": ".py",
   "mimetype": "text/x-python",
   "name": "python",
   "nbconvert_exporter": "python",
   "pygments_lexer": "ipython3",
   "version": "3.9.13"
  },
  "orig_nbformat": 4,
  "vscode": {
   "interpreter": {
    "hash": "60772b64325e16038c7b9d92d24e8e833542f06f7d427c1c720d8af571ead949"
   }
  }
 },
 "nbformat": 4,
 "nbformat_minor": 2
}
